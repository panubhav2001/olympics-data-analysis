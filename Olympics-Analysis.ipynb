{
 "cells": [
  {
   "cell_type": "code",
   "execution_count": 6,
   "metadata": {},
   "outputs": [],
   "source": [
    "import numpy as np\n",
    "import pandas as pd"
   ]
  },
  {
   "cell_type": "code",
   "execution_count": 7,
   "metadata": {},
   "outputs": [],
   "source": [
    "df = pd.read_csv('athlete_events.csv')\n",
    "region_df = pd.read_csv('noc_regions.csv')"
   ]
  },
  {
   "cell_type": "code",
   "execution_count": 8,
   "metadata": {},
   "outputs": [
    {
     "data": {
      "text/html": [
       "<div>\n",
       "<style scoped>\n",
       "    .dataframe tbody tr th:only-of-type {\n",
       "        vertical-align: middle;\n",
       "    }\n",
       "\n",
       "    .dataframe tbody tr th {\n",
       "        vertical-align: top;\n",
       "    }\n",
       "\n",
       "    .dataframe thead th {\n",
       "        text-align: right;\n",
       "    }\n",
       "</style>\n",
       "<table border=\"1\" class=\"dataframe\">\n",
       "  <thead>\n",
       "    <tr style=\"text-align: right;\">\n",
       "      <th></th>\n",
       "      <th>ID</th>\n",
       "      <th>Name</th>\n",
       "      <th>Sex</th>\n",
       "      <th>Age</th>\n",
       "      <th>Height</th>\n",
       "      <th>Weight</th>\n",
       "      <th>Team</th>\n",
       "      <th>NOC</th>\n",
       "      <th>Games</th>\n",
       "      <th>Year</th>\n",
       "      <th>Season</th>\n",
       "      <th>City</th>\n",
       "      <th>Sport</th>\n",
       "      <th>Event</th>\n",
       "      <th>Medal</th>\n",
       "    </tr>\n",
       "  </thead>\n",
       "  <tbody>\n",
       "    <tr>\n",
       "      <th>0</th>\n",
       "      <td>1</td>\n",
       "      <td>A Dijiang</td>\n",
       "      <td>M</td>\n",
       "      <td>24.0</td>\n",
       "      <td>180.0</td>\n",
       "      <td>80.0</td>\n",
       "      <td>China</td>\n",
       "      <td>CHN</td>\n",
       "      <td>1992 Summer</td>\n",
       "      <td>1992</td>\n",
       "      <td>Summer</td>\n",
       "      <td>Barcelona</td>\n",
       "      <td>Basketball</td>\n",
       "      <td>Basketball Men's Basketball</td>\n",
       "      <td>NaN</td>\n",
       "    </tr>\n",
       "    <tr>\n",
       "      <th>1</th>\n",
       "      <td>2</td>\n",
       "      <td>A Lamusi</td>\n",
       "      <td>M</td>\n",
       "      <td>23.0</td>\n",
       "      <td>170.0</td>\n",
       "      <td>60.0</td>\n",
       "      <td>China</td>\n",
       "      <td>CHN</td>\n",
       "      <td>2012 Summer</td>\n",
       "      <td>2012</td>\n",
       "      <td>Summer</td>\n",
       "      <td>London</td>\n",
       "      <td>Judo</td>\n",
       "      <td>Judo Men's Extra-Lightweight</td>\n",
       "      <td>NaN</td>\n",
       "    </tr>\n",
       "    <tr>\n",
       "      <th>2</th>\n",
       "      <td>3</td>\n",
       "      <td>Gunnar Nielsen Aaby</td>\n",
       "      <td>M</td>\n",
       "      <td>24.0</td>\n",
       "      <td>NaN</td>\n",
       "      <td>NaN</td>\n",
       "      <td>Denmark</td>\n",
       "      <td>DEN</td>\n",
       "      <td>1920 Summer</td>\n",
       "      <td>1920</td>\n",
       "      <td>Summer</td>\n",
       "      <td>Antwerpen</td>\n",
       "      <td>Football</td>\n",
       "      <td>Football Men's Football</td>\n",
       "      <td>NaN</td>\n",
       "    </tr>\n",
       "    <tr>\n",
       "      <th>3</th>\n",
       "      <td>4</td>\n",
       "      <td>Edgar Lindenau Aabye</td>\n",
       "      <td>M</td>\n",
       "      <td>34.0</td>\n",
       "      <td>NaN</td>\n",
       "      <td>NaN</td>\n",
       "      <td>Denmark/Sweden</td>\n",
       "      <td>DEN</td>\n",
       "      <td>1900 Summer</td>\n",
       "      <td>1900</td>\n",
       "      <td>Summer</td>\n",
       "      <td>Paris</td>\n",
       "      <td>Tug-Of-War</td>\n",
       "      <td>Tug-Of-War Men's Tug-Of-War</td>\n",
       "      <td>Gold</td>\n",
       "    </tr>\n",
       "    <tr>\n",
       "      <th>4</th>\n",
       "      <td>5</td>\n",
       "      <td>Christine Jacoba Aaftink</td>\n",
       "      <td>F</td>\n",
       "      <td>21.0</td>\n",
       "      <td>185.0</td>\n",
       "      <td>82.0</td>\n",
       "      <td>Netherlands</td>\n",
       "      <td>NED</td>\n",
       "      <td>1988 Winter</td>\n",
       "      <td>1988</td>\n",
       "      <td>Winter</td>\n",
       "      <td>Calgary</td>\n",
       "      <td>Speed Skating</td>\n",
       "      <td>Speed Skating Women's 500 metres</td>\n",
       "      <td>NaN</td>\n",
       "    </tr>\n",
       "  </tbody>\n",
       "</table>\n",
       "</div>"
      ],
      "text/plain": [
       "   ID                      Name Sex   Age  Height  Weight            Team  \\\n",
       "0   1                 A Dijiang   M  24.0   180.0    80.0           China   \n",
       "1   2                  A Lamusi   M  23.0   170.0    60.0           China   \n",
       "2   3       Gunnar Nielsen Aaby   M  24.0     NaN     NaN         Denmark   \n",
       "3   4      Edgar Lindenau Aabye   M  34.0     NaN     NaN  Denmark/Sweden   \n",
       "4   5  Christine Jacoba Aaftink   F  21.0   185.0    82.0     Netherlands   \n",
       "\n",
       "   NOC        Games  Year  Season       City          Sport  \\\n",
       "0  CHN  1992 Summer  1992  Summer  Barcelona     Basketball   \n",
       "1  CHN  2012 Summer  2012  Summer     London           Judo   \n",
       "2  DEN  1920 Summer  1920  Summer  Antwerpen       Football   \n",
       "3  DEN  1900 Summer  1900  Summer      Paris     Tug-Of-War   \n",
       "4  NED  1988 Winter  1988  Winter    Calgary  Speed Skating   \n",
       "\n",
       "                              Event Medal  \n",
       "0       Basketball Men's Basketball   NaN  \n",
       "1      Judo Men's Extra-Lightweight   NaN  \n",
       "2           Football Men's Football   NaN  \n",
       "3       Tug-Of-War Men's Tug-Of-War  Gold  \n",
       "4  Speed Skating Women's 500 metres   NaN  "
      ]
     },
     "execution_count": 8,
     "metadata": {},
     "output_type": "execute_result"
    }
   ],
   "source": [
    "df.head()"
   ]
  },
  {
   "cell_type": "code",
   "execution_count": 9,
   "metadata": {},
   "outputs": [
    {
     "data": {
      "text/plain": [
       "(271116, 15)"
      ]
     },
     "execution_count": 9,
     "metadata": {},
     "output_type": "execute_result"
    }
   ],
   "source": [
    "df.shape"
   ]
  },
  {
   "cell_type": "code",
   "execution_count": 10,
   "metadata": {},
   "outputs": [],
   "source": [
    "df = df[df['Season']=='Summer']"
   ]
  },
  {
   "cell_type": "code",
   "execution_count": 11,
   "metadata": {},
   "outputs": [
    {
     "data": {
      "text/plain": [
       "(222552, 15)"
      ]
     },
     "execution_count": 11,
     "metadata": {},
     "output_type": "execute_result"
    }
   ],
   "source": [
    "df.shape"
   ]
  },
  {
   "cell_type": "code",
   "execution_count": 12,
   "metadata": {},
   "outputs": [
    {
     "data": {
      "text/html": [
       "<div>\n",
       "<style scoped>\n",
       "    .dataframe tbody tr th:only-of-type {\n",
       "        vertical-align: middle;\n",
       "    }\n",
       "\n",
       "    .dataframe tbody tr th {\n",
       "        vertical-align: top;\n",
       "    }\n",
       "\n",
       "    .dataframe thead th {\n",
       "        text-align: right;\n",
       "    }\n",
       "</style>\n",
       "<table border=\"1\" class=\"dataframe\">\n",
       "  <thead>\n",
       "    <tr style=\"text-align: right;\">\n",
       "      <th></th>\n",
       "      <th>ID</th>\n",
       "      <th>Name</th>\n",
       "      <th>Sex</th>\n",
       "      <th>Age</th>\n",
       "      <th>Height</th>\n",
       "      <th>Weight</th>\n",
       "      <th>Team</th>\n",
       "      <th>NOC</th>\n",
       "      <th>Games</th>\n",
       "      <th>Year</th>\n",
       "      <th>Season</th>\n",
       "      <th>City</th>\n",
       "      <th>Sport</th>\n",
       "      <th>Event</th>\n",
       "      <th>Medal</th>\n",
       "    </tr>\n",
       "  </thead>\n",
       "  <tbody>\n",
       "    <tr>\n",
       "      <th>271106</th>\n",
       "      <td>135565</td>\n",
       "      <td>Fernando scar Zylberberg</td>\n",
       "      <td>M</td>\n",
       "      <td>27.0</td>\n",
       "      <td>168.0</td>\n",
       "      <td>76.0</td>\n",
       "      <td>Argentina</td>\n",
       "      <td>ARG</td>\n",
       "      <td>2004 Summer</td>\n",
       "      <td>2004</td>\n",
       "      <td>Summer</td>\n",
       "      <td>Athina</td>\n",
       "      <td>Hockey</td>\n",
       "      <td>Hockey Men's Hockey</td>\n",
       "      <td>NaN</td>\n",
       "    </tr>\n",
       "    <tr>\n",
       "      <th>271107</th>\n",
       "      <td>135566</td>\n",
       "      <td>James Francis \"Jim\" Zylker</td>\n",
       "      <td>M</td>\n",
       "      <td>21.0</td>\n",
       "      <td>175.0</td>\n",
       "      <td>75.0</td>\n",
       "      <td>United States</td>\n",
       "      <td>USA</td>\n",
       "      <td>1972 Summer</td>\n",
       "      <td>1972</td>\n",
       "      <td>Summer</td>\n",
       "      <td>Munich</td>\n",
       "      <td>Football</td>\n",
       "      <td>Football Men's Football</td>\n",
       "      <td>NaN</td>\n",
       "    </tr>\n",
       "    <tr>\n",
       "      <th>271108</th>\n",
       "      <td>135567</td>\n",
       "      <td>Aleksandr Viktorovich Zyuzin</td>\n",
       "      <td>M</td>\n",
       "      <td>24.0</td>\n",
       "      <td>183.0</td>\n",
       "      <td>72.0</td>\n",
       "      <td>Russia</td>\n",
       "      <td>RUS</td>\n",
       "      <td>2000 Summer</td>\n",
       "      <td>2000</td>\n",
       "      <td>Summer</td>\n",
       "      <td>Sydney</td>\n",
       "      <td>Rowing</td>\n",
       "      <td>Rowing Men's Lightweight Coxless Fours</td>\n",
       "      <td>NaN</td>\n",
       "    </tr>\n",
       "    <tr>\n",
       "      <th>271109</th>\n",
       "      <td>135567</td>\n",
       "      <td>Aleksandr Viktorovich Zyuzin</td>\n",
       "      <td>M</td>\n",
       "      <td>28.0</td>\n",
       "      <td>183.0</td>\n",
       "      <td>72.0</td>\n",
       "      <td>Russia</td>\n",
       "      <td>RUS</td>\n",
       "      <td>2004 Summer</td>\n",
       "      <td>2004</td>\n",
       "      <td>Summer</td>\n",
       "      <td>Athina</td>\n",
       "      <td>Rowing</td>\n",
       "      <td>Rowing Men's Lightweight Coxless Fours</td>\n",
       "      <td>NaN</td>\n",
       "    </tr>\n",
       "    <tr>\n",
       "      <th>271110</th>\n",
       "      <td>135568</td>\n",
       "      <td>Olga Igorevna Zyuzkova</td>\n",
       "      <td>F</td>\n",
       "      <td>33.0</td>\n",
       "      <td>171.0</td>\n",
       "      <td>69.0</td>\n",
       "      <td>Belarus</td>\n",
       "      <td>BLR</td>\n",
       "      <td>2016 Summer</td>\n",
       "      <td>2016</td>\n",
       "      <td>Summer</td>\n",
       "      <td>Rio de Janeiro</td>\n",
       "      <td>Basketball</td>\n",
       "      <td>Basketball Women's Basketball</td>\n",
       "      <td>NaN</td>\n",
       "    </tr>\n",
       "  </tbody>\n",
       "</table>\n",
       "</div>"
      ],
      "text/plain": [
       "            ID                          Name Sex   Age  Height  Weight  \\\n",
       "271106  135565      Fernando scar Zylberberg   M  27.0   168.0    76.0   \n",
       "271107  135566    James Francis \"Jim\" Zylker   M  21.0   175.0    75.0   \n",
       "271108  135567  Aleksandr Viktorovich Zyuzin   M  24.0   183.0    72.0   \n",
       "271109  135567  Aleksandr Viktorovich Zyuzin   M  28.0   183.0    72.0   \n",
       "271110  135568        Olga Igorevna Zyuzkova   F  33.0   171.0    69.0   \n",
       "\n",
       "                 Team  NOC        Games  Year  Season            City  \\\n",
       "271106      Argentina  ARG  2004 Summer  2004  Summer          Athina   \n",
       "271107  United States  USA  1972 Summer  1972  Summer          Munich   \n",
       "271108         Russia  RUS  2000 Summer  2000  Summer          Sydney   \n",
       "271109         Russia  RUS  2004 Summer  2004  Summer          Athina   \n",
       "271110        Belarus  BLR  2016 Summer  2016  Summer  Rio de Janeiro   \n",
       "\n",
       "             Sport                                   Event Medal  \n",
       "271106      Hockey                     Hockey Men's Hockey   NaN  \n",
       "271107    Football                 Football Men's Football   NaN  \n",
       "271108      Rowing  Rowing Men's Lightweight Coxless Fours   NaN  \n",
       "271109      Rowing  Rowing Men's Lightweight Coxless Fours   NaN  \n",
       "271110  Basketball           Basketball Women's Basketball   NaN  "
      ]
     },
     "execution_count": 12,
     "metadata": {},
     "output_type": "execute_result"
    }
   ],
   "source": [
    "df.tail()"
   ]
  },
  {
   "cell_type": "code",
   "execution_count": 13,
   "metadata": {},
   "outputs": [
    {
     "data": {
      "text/html": [
       "<div>\n",
       "<style scoped>\n",
       "    .dataframe tbody tr th:only-of-type {\n",
       "        vertical-align: middle;\n",
       "    }\n",
       "\n",
       "    .dataframe tbody tr th {\n",
       "        vertical-align: top;\n",
       "    }\n",
       "\n",
       "    .dataframe thead th {\n",
       "        text-align: right;\n",
       "    }\n",
       "</style>\n",
       "<table border=\"1\" class=\"dataframe\">\n",
       "  <thead>\n",
       "    <tr style=\"text-align: right;\">\n",
       "      <th></th>\n",
       "      <th>NOC</th>\n",
       "      <th>region</th>\n",
       "      <th>notes</th>\n",
       "    </tr>\n",
       "  </thead>\n",
       "  <tbody>\n",
       "    <tr>\n",
       "      <th>225</th>\n",
       "      <td>YEM</td>\n",
       "      <td>Yemen</td>\n",
       "      <td>NaN</td>\n",
       "    </tr>\n",
       "    <tr>\n",
       "      <th>226</th>\n",
       "      <td>YMD</td>\n",
       "      <td>Yemen</td>\n",
       "      <td>South Yemen</td>\n",
       "    </tr>\n",
       "    <tr>\n",
       "      <th>227</th>\n",
       "      <td>YUG</td>\n",
       "      <td>Serbia</td>\n",
       "      <td>Yugoslavia</td>\n",
       "    </tr>\n",
       "    <tr>\n",
       "      <th>228</th>\n",
       "      <td>ZAM</td>\n",
       "      <td>Zambia</td>\n",
       "      <td>NaN</td>\n",
       "    </tr>\n",
       "    <tr>\n",
       "      <th>229</th>\n",
       "      <td>ZIM</td>\n",
       "      <td>Zimbabwe</td>\n",
       "      <td>NaN</td>\n",
       "    </tr>\n",
       "  </tbody>\n",
       "</table>\n",
       "</div>"
      ],
      "text/plain": [
       "     NOC    region        notes\n",
       "225  YEM     Yemen          NaN\n",
       "226  YMD     Yemen  South Yemen\n",
       "227  YUG    Serbia   Yugoslavia\n",
       "228  ZAM    Zambia          NaN\n",
       "229  ZIM  Zimbabwe          NaN"
      ]
     },
     "execution_count": 13,
     "metadata": {},
     "output_type": "execute_result"
    }
   ],
   "source": [
    "region_df.tail()"
   ]
  },
  {
   "cell_type": "code",
   "execution_count": 14,
   "metadata": {},
   "outputs": [],
   "source": [
    "df = df.merge(region_df, on='NOC', how='left')"
   ]
  },
  {
   "cell_type": "code",
   "execution_count": 12,
   "metadata": {},
   "outputs": [
    {
     "data": {
      "text/html": [
       "<div>\n",
       "<style scoped>\n",
       "    .dataframe tbody tr th:only-of-type {\n",
       "        vertical-align: middle;\n",
       "    }\n",
       "\n",
       "    .dataframe tbody tr th {\n",
       "        vertical-align: top;\n",
       "    }\n",
       "\n",
       "    .dataframe thead th {\n",
       "        text-align: right;\n",
       "    }\n",
       "</style>\n",
       "<table border=\"1\" class=\"dataframe\">\n",
       "  <thead>\n",
       "    <tr style=\"text-align: right;\">\n",
       "      <th></th>\n",
       "      <th>ID</th>\n",
       "      <th>Name</th>\n",
       "      <th>Sex</th>\n",
       "      <th>Age</th>\n",
       "      <th>Height</th>\n",
       "      <th>Weight</th>\n",
       "      <th>Team</th>\n",
       "      <th>NOC</th>\n",
       "      <th>Games</th>\n",
       "      <th>Year</th>\n",
       "      <th>Season</th>\n",
       "      <th>City</th>\n",
       "      <th>Sport</th>\n",
       "      <th>Event</th>\n",
       "      <th>Medal</th>\n",
       "      <th>region</th>\n",
       "      <th>notes</th>\n",
       "    </tr>\n",
       "  </thead>\n",
       "  <tbody>\n",
       "    <tr>\n",
       "      <th>0</th>\n",
       "      <td>1</td>\n",
       "      <td>A Dijiang</td>\n",
       "      <td>M</td>\n",
       "      <td>24.0</td>\n",
       "      <td>180.0</td>\n",
       "      <td>80.0</td>\n",
       "      <td>China</td>\n",
       "      <td>CHN</td>\n",
       "      <td>1992 Summer</td>\n",
       "      <td>1992</td>\n",
       "      <td>Summer</td>\n",
       "      <td>Barcelona</td>\n",
       "      <td>Basketball</td>\n",
       "      <td>Basketball Men's Basketball</td>\n",
       "      <td>NaN</td>\n",
       "      <td>China</td>\n",
       "      <td>NaN</td>\n",
       "    </tr>\n",
       "    <tr>\n",
       "      <th>1</th>\n",
       "      <td>2</td>\n",
       "      <td>A Lamusi</td>\n",
       "      <td>M</td>\n",
       "      <td>23.0</td>\n",
       "      <td>170.0</td>\n",
       "      <td>60.0</td>\n",
       "      <td>China</td>\n",
       "      <td>CHN</td>\n",
       "      <td>2012 Summer</td>\n",
       "      <td>2012</td>\n",
       "      <td>Summer</td>\n",
       "      <td>London</td>\n",
       "      <td>Judo</td>\n",
       "      <td>Judo Men's Extra-Lightweight</td>\n",
       "      <td>NaN</td>\n",
       "      <td>China</td>\n",
       "      <td>NaN</td>\n",
       "    </tr>\n",
       "    <tr>\n",
       "      <th>2</th>\n",
       "      <td>3</td>\n",
       "      <td>Gunnar Nielsen Aaby</td>\n",
       "      <td>M</td>\n",
       "      <td>24.0</td>\n",
       "      <td>NaN</td>\n",
       "      <td>NaN</td>\n",
       "      <td>Denmark</td>\n",
       "      <td>DEN</td>\n",
       "      <td>1920 Summer</td>\n",
       "      <td>1920</td>\n",
       "      <td>Summer</td>\n",
       "      <td>Antwerpen</td>\n",
       "      <td>Football</td>\n",
       "      <td>Football Men's Football</td>\n",
       "      <td>NaN</td>\n",
       "      <td>Denmark</td>\n",
       "      <td>NaN</td>\n",
       "    </tr>\n",
       "    <tr>\n",
       "      <th>3</th>\n",
       "      <td>4</td>\n",
       "      <td>Edgar Lindenau Aabye</td>\n",
       "      <td>M</td>\n",
       "      <td>34.0</td>\n",
       "      <td>NaN</td>\n",
       "      <td>NaN</td>\n",
       "      <td>Denmark/Sweden</td>\n",
       "      <td>DEN</td>\n",
       "      <td>1900 Summer</td>\n",
       "      <td>1900</td>\n",
       "      <td>Summer</td>\n",
       "      <td>Paris</td>\n",
       "      <td>Tug-Of-War</td>\n",
       "      <td>Tug-Of-War Men's Tug-Of-War</td>\n",
       "      <td>Gold</td>\n",
       "      <td>Denmark</td>\n",
       "      <td>NaN</td>\n",
       "    </tr>\n",
       "    <tr>\n",
       "      <th>4</th>\n",
       "      <td>8</td>\n",
       "      <td>Cornelia \"Cor\" Aalten (-Strannood)</td>\n",
       "      <td>F</td>\n",
       "      <td>18.0</td>\n",
       "      <td>168.0</td>\n",
       "      <td>NaN</td>\n",
       "      <td>Netherlands</td>\n",
       "      <td>NED</td>\n",
       "      <td>1932 Summer</td>\n",
       "      <td>1932</td>\n",
       "      <td>Summer</td>\n",
       "      <td>Los Angeles</td>\n",
       "      <td>Athletics</td>\n",
       "      <td>Athletics Women's 100 metres</td>\n",
       "      <td>NaN</td>\n",
       "      <td>Netherlands</td>\n",
       "      <td>NaN</td>\n",
       "    </tr>\n",
       "  </tbody>\n",
       "</table>\n",
       "</div>"
      ],
      "text/plain": [
       "   ID                                Name Sex   Age  Height  Weight  \\\n",
       "0   1                           A Dijiang   M  24.0   180.0    80.0   \n",
       "1   2                            A Lamusi   M  23.0   170.0    60.0   \n",
       "2   3                 Gunnar Nielsen Aaby   M  24.0     NaN     NaN   \n",
       "3   4                Edgar Lindenau Aabye   M  34.0     NaN     NaN   \n",
       "4   8  Cornelia \"Cor\" Aalten (-Strannood)   F  18.0   168.0     NaN   \n",
       "\n",
       "             Team  NOC        Games  Year  Season         City       Sport  \\\n",
       "0           China  CHN  1992 Summer  1992  Summer    Barcelona  Basketball   \n",
       "1           China  CHN  2012 Summer  2012  Summer       London        Judo   \n",
       "2         Denmark  DEN  1920 Summer  1920  Summer    Antwerpen    Football   \n",
       "3  Denmark/Sweden  DEN  1900 Summer  1900  Summer        Paris  Tug-Of-War   \n",
       "4     Netherlands  NED  1932 Summer  1932  Summer  Los Angeles   Athletics   \n",
       "\n",
       "                          Event Medal       region notes  \n",
       "0   Basketball Men's Basketball   NaN        China   NaN  \n",
       "1  Judo Men's Extra-Lightweight   NaN        China   NaN  \n",
       "2       Football Men's Football   NaN      Denmark   NaN  \n",
       "3   Tug-Of-War Men's Tug-Of-War  Gold      Denmark   NaN  \n",
       "4  Athletics Women's 100 metres   NaN  Netherlands   NaN  "
      ]
     },
     "execution_count": 12,
     "metadata": {},
     "output_type": "execute_result"
    }
   ],
   "source": [
    "df.head()"
   ]
  },
  {
   "cell_type": "code",
   "execution_count": 12,
   "metadata": {},
   "outputs": [
    {
     "data": {
      "text/plain": [
       "array(['China', 'Denmark', 'Netherlands', 'Finland', 'Norway', 'Romania',\n",
       "       'Estonia', 'France', 'Morocco', 'Spain', 'Egypt', 'Iran',\n",
       "       'Bulgaria', 'Italy', 'Chad', 'Azerbaijan', 'Sudan', 'Russia',\n",
       "       'Argentina', 'Cuba', 'Belarus', 'Greece', 'Cameroon', 'Turkey',\n",
       "       'Chile', 'Mexico', 'USA', 'Nicaragua', 'Hungary', 'Nigeria',\n",
       "       'Algeria', 'Kuwait', 'Bahrain', 'Pakistan', 'Iraq', 'Syria',\n",
       "       'Lebanon', 'Qatar', 'Malaysia', 'Germany', 'Canada', 'Ireland',\n",
       "       'Australia', 'South Africa', 'Eritrea', 'Tanzania', 'Jordan',\n",
       "       'Tunisia', 'Libya', 'Belgium', 'Djibouti', 'Palestine', 'Comoros',\n",
       "       'Kazakhstan', 'Brunei', 'India', 'Saudi Arabia', 'Maldives',\n",
       "       'Ethiopia', 'United Arab Emirates', 'Yemen', 'Indonesia',\n",
       "       'Philippines', nan, 'Uzbekistan', 'Kyrgyzstan', 'Tajikistan',\n",
       "       'Japan', 'Republic of Congo', 'Switzerland', 'Brazil', 'Monaco',\n",
       "       'Israel', 'Uruguay', 'Sweden', 'Sri Lanka', 'Armenia',\n",
       "       'Ivory Coast', 'Kenya', 'Benin', 'UK', 'Ghana', 'Somalia', 'Niger',\n",
       "       'Mali', 'Afghanistan', 'Poland', 'Costa Rica', 'Panama', 'Georgia',\n",
       "       'Slovenia', 'Guyana', 'New Zealand', 'Portugal', 'Paraguay',\n",
       "       'Angola', 'Venezuela', 'Colombia', 'Bangladesh', 'Peru',\n",
       "       'El Salvador', 'Puerto Rico', 'Uganda', 'Honduras', 'Ecuador',\n",
       "       'Turkmenistan', 'Mauritius', 'Seychelles', 'Czech Republic',\n",
       "       'Luxembourg', 'Mauritania', 'Saint Kitts', 'Trinidad',\n",
       "       'Dominican Republic', 'Saint Vincent', 'Jamaica', 'Liberia',\n",
       "       'Suriname', 'Nepal', 'Mongolia', 'Austria', 'Palau', 'Lithuania',\n",
       "       'Togo', 'Namibia', 'Curacao', 'Ukraine', 'Iceland',\n",
       "       'American Samoa', 'Samoa', 'Rwanda', 'Croatia', 'Dominica',\n",
       "       'Haiti', 'Malta', 'Cyprus', 'Guinea', 'Belize', 'Thailand',\n",
       "       'Bermuda', 'Serbia', 'Sierra Leone', 'Papua New Guinea',\n",
       "       'Individual Olympic Athletes', 'Oman', 'Fiji', 'Vanuatu',\n",
       "       'Moldova', 'Bahamas', 'Guatemala', 'Latvia',\n",
       "       'Virgin Islands, British', 'Mozambique', 'Virgin Islands, US',\n",
       "       'Central African Republic', 'Madagascar', 'Bosnia and Herzegovina',\n",
       "       'Guam', 'Cayman Islands', 'Slovakia', 'Barbados', 'Guinea-Bissau',\n",
       "       'Timor-Leste', 'Democratic Republic of the Congo', 'Gabon',\n",
       "       'San Marino', 'Laos', 'Botswana', 'South Korea', 'Cambodia',\n",
       "       'North Korea', 'Solomon Islands', 'Senegal', 'Cape Verde',\n",
       "       'Equatorial Guinea', 'Boliva', 'Antigua', 'Andorra', 'Zimbabwe',\n",
       "       'Grenada', 'Saint Lucia', 'Micronesia', 'Myanmar', 'Malawi',\n",
       "       'Zambia', 'Taiwan', 'Sao Tome and Principe', 'Macedonia',\n",
       "       'Liechtenstein', 'Montenegro', 'Gambia', 'Cook Islands', 'Albania',\n",
       "       'Swaziland', 'Burkina Faso', 'Burundi', 'Aruba', 'Nauru',\n",
       "       'Vietnam', 'Bhutan', 'Marshall Islands', 'Kiribati', 'Tonga',\n",
       "       'Kosovo', 'South Sudan', 'Lesotho'], dtype=object)"
      ]
     },
     "execution_count": 12,
     "metadata": {},
     "output_type": "execute_result"
    }
   ],
   "source": [
    "df['region'].unique()"
   ]
  },
  {
   "cell_type": "code",
   "execution_count": 13,
   "metadata": {},
   "outputs": [
    {
     "data": {
      "text/plain": [
       "ID             0\n",
       "Name           0\n",
       "Sex            0\n",
       "Age         9189\n",
       "Height     51857\n",
       "Weight     53854\n",
       "Team           0\n",
       "NOC            0\n",
       "Games          0\n",
       "Year           0\n",
       "Season         0\n",
       "City           0\n",
       "Sport          0\n",
       "Event          0\n",
       "Medal     188464\n",
       "region       370\n",
       "notes     218151\n",
       "dtype: int64"
      ]
     },
     "execution_count": 13,
     "metadata": {},
     "output_type": "execute_result"
    }
   ],
   "source": [
    "df.isnull().sum()"
   ]
  },
  {
   "cell_type": "code",
   "execution_count": 14,
   "metadata": {},
   "outputs": [
    {
     "data": {
      "text/plain": [
       "1385"
      ]
     },
     "execution_count": 14,
     "metadata": {},
     "output_type": "execute_result"
    }
   ],
   "source": [
    "df.duplicated().sum()"
   ]
  },
  {
   "cell_type": "code",
   "execution_count": 15,
   "metadata": {},
   "outputs": [],
   "source": [
    "df.drop_duplicates(inplace=True)"
   ]
  },
  {
   "cell_type": "code",
   "execution_count": 16,
   "metadata": {},
   "outputs": [
    {
     "data": {
      "text/plain": [
       "0"
      ]
     },
     "execution_count": 16,
     "metadata": {},
     "output_type": "execute_result"
    }
   ],
   "source": [
    "df.duplicated().sum()"
   ]
  },
  {
   "cell_type": "code",
   "execution_count": 17,
   "metadata": {},
   "outputs": [
    {
     "data": {
      "text/plain": [
       "Medal\n",
       "Gold      11456\n",
       "Bronze    11409\n",
       "Silver    11212\n",
       "Name: count, dtype: int64"
      ]
     },
     "execution_count": 17,
     "metadata": {},
     "output_type": "execute_result"
    }
   ],
   "source": [
    "df['Medal'].value_counts()"
   ]
  },
  {
   "cell_type": "code",
   "execution_count": 18,
   "metadata": {},
   "outputs": [],
   "source": [
    "df = pd.concat([df,pd.get_dummies(df['Medal'], dtype='int')], axis=1)"
   ]
  },
  {
   "cell_type": "code",
   "execution_count": 19,
   "metadata": {},
   "outputs": [
    {
     "data": {
      "text/html": [
       "<div>\n",
       "<style scoped>\n",
       "    .dataframe tbody tr th:only-of-type {\n",
       "        vertical-align: middle;\n",
       "    }\n",
       "\n",
       "    .dataframe tbody tr th {\n",
       "        vertical-align: top;\n",
       "    }\n",
       "\n",
       "    .dataframe thead th {\n",
       "        text-align: right;\n",
       "    }\n",
       "</style>\n",
       "<table border=\"1\" class=\"dataframe\">\n",
       "  <thead>\n",
       "    <tr style=\"text-align: right;\">\n",
       "      <th></th>\n",
       "      <th>ID</th>\n",
       "      <th>Name</th>\n",
       "      <th>Sex</th>\n",
       "      <th>Age</th>\n",
       "      <th>Height</th>\n",
       "      <th>Weight</th>\n",
       "      <th>Team</th>\n",
       "      <th>NOC</th>\n",
       "      <th>Games</th>\n",
       "      <th>Year</th>\n",
       "      <th>Season</th>\n",
       "      <th>City</th>\n",
       "      <th>Sport</th>\n",
       "      <th>Event</th>\n",
       "      <th>Medal</th>\n",
       "      <th>region</th>\n",
       "      <th>notes</th>\n",
       "      <th>Bronze</th>\n",
       "      <th>Gold</th>\n",
       "      <th>Silver</th>\n",
       "    </tr>\n",
       "  </thead>\n",
       "  <tbody>\n",
       "    <tr>\n",
       "      <th>0</th>\n",
       "      <td>1</td>\n",
       "      <td>A Dijiang</td>\n",
       "      <td>M</td>\n",
       "      <td>24.0</td>\n",
       "      <td>180.0</td>\n",
       "      <td>80.0</td>\n",
       "      <td>China</td>\n",
       "      <td>CHN</td>\n",
       "      <td>1992 Summer</td>\n",
       "      <td>1992</td>\n",
       "      <td>Summer</td>\n",
       "      <td>Barcelona</td>\n",
       "      <td>Basketball</td>\n",
       "      <td>Basketball Men's Basketball</td>\n",
       "      <td>NaN</td>\n",
       "      <td>China</td>\n",
       "      <td>NaN</td>\n",
       "      <td>0</td>\n",
       "      <td>0</td>\n",
       "      <td>0</td>\n",
       "    </tr>\n",
       "    <tr>\n",
       "      <th>1</th>\n",
       "      <td>2</td>\n",
       "      <td>A Lamusi</td>\n",
       "      <td>M</td>\n",
       "      <td>23.0</td>\n",
       "      <td>170.0</td>\n",
       "      <td>60.0</td>\n",
       "      <td>China</td>\n",
       "      <td>CHN</td>\n",
       "      <td>2012 Summer</td>\n",
       "      <td>2012</td>\n",
       "      <td>Summer</td>\n",
       "      <td>London</td>\n",
       "      <td>Judo</td>\n",
       "      <td>Judo Men's Extra-Lightweight</td>\n",
       "      <td>NaN</td>\n",
       "      <td>China</td>\n",
       "      <td>NaN</td>\n",
       "      <td>0</td>\n",
       "      <td>0</td>\n",
       "      <td>0</td>\n",
       "    </tr>\n",
       "    <tr>\n",
       "      <th>2</th>\n",
       "      <td>3</td>\n",
       "      <td>Gunnar Nielsen Aaby</td>\n",
       "      <td>M</td>\n",
       "      <td>24.0</td>\n",
       "      <td>NaN</td>\n",
       "      <td>NaN</td>\n",
       "      <td>Denmark</td>\n",
       "      <td>DEN</td>\n",
       "      <td>1920 Summer</td>\n",
       "      <td>1920</td>\n",
       "      <td>Summer</td>\n",
       "      <td>Antwerpen</td>\n",
       "      <td>Football</td>\n",
       "      <td>Football Men's Football</td>\n",
       "      <td>NaN</td>\n",
       "      <td>Denmark</td>\n",
       "      <td>NaN</td>\n",
       "      <td>0</td>\n",
       "      <td>0</td>\n",
       "      <td>0</td>\n",
       "    </tr>\n",
       "    <tr>\n",
       "      <th>3</th>\n",
       "      <td>4</td>\n",
       "      <td>Edgar Lindenau Aabye</td>\n",
       "      <td>M</td>\n",
       "      <td>34.0</td>\n",
       "      <td>NaN</td>\n",
       "      <td>NaN</td>\n",
       "      <td>Denmark/Sweden</td>\n",
       "      <td>DEN</td>\n",
       "      <td>1900 Summer</td>\n",
       "      <td>1900</td>\n",
       "      <td>Summer</td>\n",
       "      <td>Paris</td>\n",
       "      <td>Tug-Of-War</td>\n",
       "      <td>Tug-Of-War Men's Tug-Of-War</td>\n",
       "      <td>Gold</td>\n",
       "      <td>Denmark</td>\n",
       "      <td>NaN</td>\n",
       "      <td>0</td>\n",
       "      <td>1</td>\n",
       "      <td>0</td>\n",
       "    </tr>\n",
       "    <tr>\n",
       "      <th>4</th>\n",
       "      <td>8</td>\n",
       "      <td>Cornelia \"Cor\" Aalten (-Strannood)</td>\n",
       "      <td>F</td>\n",
       "      <td>18.0</td>\n",
       "      <td>168.0</td>\n",
       "      <td>NaN</td>\n",
       "      <td>Netherlands</td>\n",
       "      <td>NED</td>\n",
       "      <td>1932 Summer</td>\n",
       "      <td>1932</td>\n",
       "      <td>Summer</td>\n",
       "      <td>Los Angeles</td>\n",
       "      <td>Athletics</td>\n",
       "      <td>Athletics Women's 100 metres</td>\n",
       "      <td>NaN</td>\n",
       "      <td>Netherlands</td>\n",
       "      <td>NaN</td>\n",
       "      <td>0</td>\n",
       "      <td>0</td>\n",
       "      <td>0</td>\n",
       "    </tr>\n",
       "  </tbody>\n",
       "</table>\n",
       "</div>"
      ],
      "text/plain": [
       "   ID                                Name Sex   Age  Height  Weight  \\\n",
       "0   1                           A Dijiang   M  24.0   180.0    80.0   \n",
       "1   2                            A Lamusi   M  23.0   170.0    60.0   \n",
       "2   3                 Gunnar Nielsen Aaby   M  24.0     NaN     NaN   \n",
       "3   4                Edgar Lindenau Aabye   M  34.0     NaN     NaN   \n",
       "4   8  Cornelia \"Cor\" Aalten (-Strannood)   F  18.0   168.0     NaN   \n",
       "\n",
       "             Team  NOC        Games  Year  Season         City       Sport  \\\n",
       "0           China  CHN  1992 Summer  1992  Summer    Barcelona  Basketball   \n",
       "1           China  CHN  2012 Summer  2012  Summer       London        Judo   \n",
       "2         Denmark  DEN  1920 Summer  1920  Summer    Antwerpen    Football   \n",
       "3  Denmark/Sweden  DEN  1900 Summer  1900  Summer        Paris  Tug-Of-War   \n",
       "4     Netherlands  NED  1932 Summer  1932  Summer  Los Angeles   Athletics   \n",
       "\n",
       "                          Event Medal       region notes  Bronze  Gold  Silver  \n",
       "0   Basketball Men's Basketball   NaN        China   NaN       0     0       0  \n",
       "1  Judo Men's Extra-Lightweight   NaN        China   NaN       0     0       0  \n",
       "2       Football Men's Football   NaN      Denmark   NaN       0     0       0  \n",
       "3   Tug-Of-War Men's Tug-Of-War  Gold      Denmark   NaN       0     1       0  \n",
       "4  Athletics Women's 100 metres   NaN  Netherlands   NaN       0     0       0  "
      ]
     },
     "execution_count": 19,
     "metadata": {},
     "output_type": "execute_result"
    }
   ],
   "source": [
    "df.head()"
   ]
  },
  {
   "cell_type": "code",
   "execution_count": 20,
   "metadata": {},
   "outputs": [
    {
     "data": {
      "text/html": [
       "<div>\n",
       "<style scoped>\n",
       "    .dataframe tbody tr th:only-of-type {\n",
       "        vertical-align: middle;\n",
       "    }\n",
       "\n",
       "    .dataframe tbody tr th {\n",
       "        vertical-align: top;\n",
       "    }\n",
       "\n",
       "    .dataframe thead th {\n",
       "        text-align: right;\n",
       "    }\n",
       "</style>\n",
       "<table border=\"1\" class=\"dataframe\">\n",
       "  <thead>\n",
       "    <tr style=\"text-align: right;\">\n",
       "      <th></th>\n",
       "      <th>Gold</th>\n",
       "      <th>Silver</th>\n",
       "      <th>Bronze</th>\n",
       "    </tr>\n",
       "    <tr>\n",
       "      <th>NOC</th>\n",
       "      <th></th>\n",
       "      <th></th>\n",
       "      <th></th>\n",
       "    </tr>\n",
       "  </thead>\n",
       "  <tbody>\n",
       "    <tr>\n",
       "      <th>USA</th>\n",
       "      <td>2472</td>\n",
       "      <td>1333</td>\n",
       "      <td>1197</td>\n",
       "    </tr>\n",
       "    <tr>\n",
       "      <th>URS</th>\n",
       "      <td>832</td>\n",
       "      <td>635</td>\n",
       "      <td>596</td>\n",
       "    </tr>\n",
       "    <tr>\n",
       "      <th>GBR</th>\n",
       "      <td>635</td>\n",
       "      <td>729</td>\n",
       "      <td>620</td>\n",
       "    </tr>\n",
       "    <tr>\n",
       "      <th>GER</th>\n",
       "      <td>592</td>\n",
       "      <td>538</td>\n",
       "      <td>649</td>\n",
       "    </tr>\n",
       "    <tr>\n",
       "      <th>ITA</th>\n",
       "      <td>518</td>\n",
       "      <td>474</td>\n",
       "      <td>454</td>\n",
       "    </tr>\n",
       "    <tr>\n",
       "      <th>...</th>\n",
       "      <td>...</td>\n",
       "      <td>...</td>\n",
       "      <td>...</td>\n",
       "    </tr>\n",
       "    <tr>\n",
       "      <th>AHO</th>\n",
       "      <td>0</td>\n",
       "      <td>1</td>\n",
       "      <td>0</td>\n",
       "    </tr>\n",
       "    <tr>\n",
       "      <th>LBR</th>\n",
       "      <td>0</td>\n",
       "      <td>0</td>\n",
       "      <td>0</td>\n",
       "    </tr>\n",
       "    <tr>\n",
       "      <th>LCA</th>\n",
       "      <td>0</td>\n",
       "      <td>0</td>\n",
       "      <td>0</td>\n",
       "    </tr>\n",
       "    <tr>\n",
       "      <th>LES</th>\n",
       "      <td>0</td>\n",
       "      <td>0</td>\n",
       "      <td>0</td>\n",
       "    </tr>\n",
       "    <tr>\n",
       "      <th>LBA</th>\n",
       "      <td>0</td>\n",
       "      <td>0</td>\n",
       "      <td>0</td>\n",
       "    </tr>\n",
       "  </tbody>\n",
       "</table>\n",
       "<p>230 rows × 3 columns</p>\n",
       "</div>"
      ],
      "text/plain": [
       "     Gold  Silver  Bronze\n",
       "NOC                      \n",
       "USA  2472    1333    1197\n",
       "URS   832     635     596\n",
       "GBR   635     729     620\n",
       "GER   592     538     649\n",
       "ITA   518     474     454\n",
       "..    ...     ...     ...\n",
       "AHO     0       1       0\n",
       "LBR     0       0       0\n",
       "LCA     0       0       0\n",
       "LES     0       0       0\n",
       "LBA     0       0       0\n",
       "\n",
       "[230 rows x 3 columns]"
      ]
     },
     "execution_count": 20,
     "metadata": {},
     "output_type": "execute_result"
    }
   ],
   "source": [
    "df.groupby('NOC').sum()[['Gold', 'Silver', 'Bronze']].sort_values('Gold', ascending = False)"
   ]
  },
  {
   "cell_type": "raw",
   "metadata": {
    "vscode": {
     "languageId": "raw"
    }
   },
   "source": [
    "The above data may seem incorrect because the data contains medal tally arranged Player-wise. So, for a team winning gold medal, the number of gold medals won would be (no. of players x \n",
    "no. of gold medals)."
   ]
  },
  {
   "cell_type": "code",
   "execution_count": 21,
   "metadata": {},
   "outputs": [
    {
     "data": {
      "text/html": [
       "<div>\n",
       "<style scoped>\n",
       "    .dataframe tbody tr th:only-of-type {\n",
       "        vertical-align: middle;\n",
       "    }\n",
       "\n",
       "    .dataframe tbody tr th {\n",
       "        vertical-align: top;\n",
       "    }\n",
       "\n",
       "    .dataframe thead th {\n",
       "        text-align: right;\n",
       "    }\n",
       "</style>\n",
       "<table border=\"1\" class=\"dataframe\">\n",
       "  <thead>\n",
       "    <tr style=\"text-align: right;\">\n",
       "      <th></th>\n",
       "      <th>ID</th>\n",
       "      <th>Name</th>\n",
       "      <th>Sex</th>\n",
       "      <th>Age</th>\n",
       "      <th>Height</th>\n",
       "      <th>Weight</th>\n",
       "      <th>Team</th>\n",
       "      <th>NOC</th>\n",
       "      <th>Games</th>\n",
       "      <th>Year</th>\n",
       "      <th>Season</th>\n",
       "      <th>City</th>\n",
       "      <th>Sport</th>\n",
       "      <th>Event</th>\n",
       "      <th>Medal</th>\n",
       "      <th>region</th>\n",
       "      <th>notes</th>\n",
       "      <th>Bronze</th>\n",
       "      <th>Gold</th>\n",
       "      <th>Silver</th>\n",
       "    </tr>\n",
       "  </thead>\n",
       "  <tbody>\n",
       "    <tr>\n",
       "      <th>4186</th>\n",
       "      <td>2699</td>\n",
       "      <td>Shaukat Ali</td>\n",
       "      <td>M</td>\n",
       "      <td>30.0</td>\n",
       "      <td>NaN</td>\n",
       "      <td>NaN</td>\n",
       "      <td>India</td>\n",
       "      <td>IND</td>\n",
       "      <td>1928 Summer</td>\n",
       "      <td>1928</td>\n",
       "      <td>Summer</td>\n",
       "      <td>Amsterdam</td>\n",
       "      <td>Hockey</td>\n",
       "      <td>Hockey Men's Hockey</td>\n",
       "      <td>Gold</td>\n",
       "      <td>India</td>\n",
       "      <td>NaN</td>\n",
       "      <td>0</td>\n",
       "      <td>1</td>\n",
       "      <td>0</td>\n",
       "    </tr>\n",
       "    <tr>\n",
       "      <th>4190</th>\n",
       "      <td>2703</td>\n",
       "      <td>Syed Mushtaq Ali</td>\n",
       "      <td>M</td>\n",
       "      <td>22.0</td>\n",
       "      <td>165.0</td>\n",
       "      <td>61.0</td>\n",
       "      <td>India</td>\n",
       "      <td>IND</td>\n",
       "      <td>1964 Summer</td>\n",
       "      <td>1964</td>\n",
       "      <td>Summer</td>\n",
       "      <td>Tokyo</td>\n",
       "      <td>Hockey</td>\n",
       "      <td>Hockey Men's Hockey</td>\n",
       "      <td>Gold</td>\n",
       "      <td>India</td>\n",
       "      <td>NaN</td>\n",
       "      <td>0</td>\n",
       "      <td>1</td>\n",
       "      <td>0</td>\n",
       "    </tr>\n",
       "    <tr>\n",
       "      <th>4460</th>\n",
       "      <td>2864</td>\n",
       "      <td>Richard James Allen</td>\n",
       "      <td>M</td>\n",
       "      <td>25.0</td>\n",
       "      <td>172.0</td>\n",
       "      <td>NaN</td>\n",
       "      <td>India</td>\n",
       "      <td>IND</td>\n",
       "      <td>1928 Summer</td>\n",
       "      <td>1928</td>\n",
       "      <td>Summer</td>\n",
       "      <td>Amsterdam</td>\n",
       "      <td>Hockey</td>\n",
       "      <td>Hockey Men's Hockey</td>\n",
       "      <td>Gold</td>\n",
       "      <td>India</td>\n",
       "      <td>NaN</td>\n",
       "      <td>0</td>\n",
       "      <td>1</td>\n",
       "      <td>0</td>\n",
       "    </tr>\n",
       "    <tr>\n",
       "      <th>4461</th>\n",
       "      <td>2864</td>\n",
       "      <td>Richard James Allen</td>\n",
       "      <td>M</td>\n",
       "      <td>30.0</td>\n",
       "      <td>172.0</td>\n",
       "      <td>NaN</td>\n",
       "      <td>India</td>\n",
       "      <td>IND</td>\n",
       "      <td>1932 Summer</td>\n",
       "      <td>1932</td>\n",
       "      <td>Summer</td>\n",
       "      <td>Los Angeles</td>\n",
       "      <td>Hockey</td>\n",
       "      <td>Hockey Men's Hockey</td>\n",
       "      <td>Gold</td>\n",
       "      <td>India</td>\n",
       "      <td>NaN</td>\n",
       "      <td>0</td>\n",
       "      <td>1</td>\n",
       "      <td>0</td>\n",
       "    </tr>\n",
       "    <tr>\n",
       "      <th>4462</th>\n",
       "      <td>2864</td>\n",
       "      <td>Richard James Allen</td>\n",
       "      <td>M</td>\n",
       "      <td>34.0</td>\n",
       "      <td>172.0</td>\n",
       "      <td>NaN</td>\n",
       "      <td>India</td>\n",
       "      <td>IND</td>\n",
       "      <td>1936 Summer</td>\n",
       "      <td>1936</td>\n",
       "      <td>Summer</td>\n",
       "      <td>Berlin</td>\n",
       "      <td>Hockey</td>\n",
       "      <td>Hockey Men's Hockey</td>\n",
       "      <td>Gold</td>\n",
       "      <td>India</td>\n",
       "      <td>NaN</td>\n",
       "      <td>0</td>\n",
       "      <td>1</td>\n",
       "      <td>0</td>\n",
       "    </tr>\n",
       "    <tr>\n",
       "      <th>...</th>\n",
       "      <td>...</td>\n",
       "      <td>...</td>\n",
       "      <td>...</td>\n",
       "      <td>...</td>\n",
       "      <td>...</td>\n",
       "      <td>...</td>\n",
       "      <td>...</td>\n",
       "      <td>...</td>\n",
       "      <td>...</td>\n",
       "      <td>...</td>\n",
       "      <td>...</td>\n",
       "      <td>...</td>\n",
       "      <td>...</td>\n",
       "      <td>...</td>\n",
       "      <td>...</td>\n",
       "      <td>...</td>\n",
       "      <td>...</td>\n",
       "      <td>...</td>\n",
       "      <td>...</td>\n",
       "      <td>...</td>\n",
       "    </tr>\n",
       "    <tr>\n",
       "      <th>191759</th>\n",
       "      <td>117232</td>\n",
       "      <td>Dung Dung Sylvanus</td>\n",
       "      <td>M</td>\n",
       "      <td>31.0</td>\n",
       "      <td>160.0</td>\n",
       "      <td>62.0</td>\n",
       "      <td>India</td>\n",
       "      <td>IND</td>\n",
       "      <td>1980 Summer</td>\n",
       "      <td>1980</td>\n",
       "      <td>Summer</td>\n",
       "      <td>Moskva</td>\n",
       "      <td>Hockey</td>\n",
       "      <td>Hockey Men's Hockey</td>\n",
       "      <td>Gold</td>\n",
       "      <td>India</td>\n",
       "      <td>NaN</td>\n",
       "      <td>0</td>\n",
       "      <td>1</td>\n",
       "      <td>0</td>\n",
       "    </tr>\n",
       "    <tr>\n",
       "      <th>193964</th>\n",
       "      <td>118553</td>\n",
       "      <td>Carlyle Carrol Tapsell</td>\n",
       "      <td>M</td>\n",
       "      <td>23.0</td>\n",
       "      <td>182.0</td>\n",
       "      <td>NaN</td>\n",
       "      <td>India</td>\n",
       "      <td>IND</td>\n",
       "      <td>1932 Summer</td>\n",
       "      <td>1932</td>\n",
       "      <td>Summer</td>\n",
       "      <td>Los Angeles</td>\n",
       "      <td>Hockey</td>\n",
       "      <td>Hockey Men's Hockey</td>\n",
       "      <td>Gold</td>\n",
       "      <td>India</td>\n",
       "      <td>NaN</td>\n",
       "      <td>0</td>\n",
       "      <td>1</td>\n",
       "      <td>0</td>\n",
       "    </tr>\n",
       "    <tr>\n",
       "      <th>193965</th>\n",
       "      <td>118553</td>\n",
       "      <td>Carlyle Carrol Tapsell</td>\n",
       "      <td>M</td>\n",
       "      <td>27.0</td>\n",
       "      <td>182.0</td>\n",
       "      <td>NaN</td>\n",
       "      <td>India</td>\n",
       "      <td>IND</td>\n",
       "      <td>1936 Summer</td>\n",
       "      <td>1936</td>\n",
       "      <td>Summer</td>\n",
       "      <td>Berlin</td>\n",
       "      <td>Hockey</td>\n",
       "      <td>Hockey Men's Hockey</td>\n",
       "      <td>Gold</td>\n",
       "      <td>India</td>\n",
       "      <td>NaN</td>\n",
       "      <td>0</td>\n",
       "      <td>1</td>\n",
       "      <td>0</td>\n",
       "    </tr>\n",
       "    <tr>\n",
       "      <th>205949</th>\n",
       "      <td>125560</td>\n",
       "      <td>Max \"Maxie\" Vaz</td>\n",
       "      <td>M</td>\n",
       "      <td>NaN</td>\n",
       "      <td>NaN</td>\n",
       "      <td>NaN</td>\n",
       "      <td>India</td>\n",
       "      <td>IND</td>\n",
       "      <td>1948 Summer</td>\n",
       "      <td>1948</td>\n",
       "      <td>Summer</td>\n",
       "      <td>London</td>\n",
       "      <td>Hockey</td>\n",
       "      <td>Hockey Men's Hockey</td>\n",
       "      <td>Gold</td>\n",
       "      <td>India</td>\n",
       "      <td>NaN</td>\n",
       "      <td>0</td>\n",
       "      <td>1</td>\n",
       "      <td>0</td>\n",
       "    </tr>\n",
       "    <tr>\n",
       "      <th>219336</th>\n",
       "      <td>133554</td>\n",
       "      <td>Sayed Muhammad Yusuf</td>\n",
       "      <td>M</td>\n",
       "      <td>NaN</td>\n",
       "      <td>NaN</td>\n",
       "      <td>NaN</td>\n",
       "      <td>India</td>\n",
       "      <td>IND</td>\n",
       "      <td>1928 Summer</td>\n",
       "      <td>1928</td>\n",
       "      <td>Summer</td>\n",
       "      <td>Amsterdam</td>\n",
       "      <td>Hockey</td>\n",
       "      <td>Hockey Men's Hockey</td>\n",
       "      <td>Gold</td>\n",
       "      <td>India</td>\n",
       "      <td>NaN</td>\n",
       "      <td>0</td>\n",
       "      <td>1</td>\n",
       "      <td>0</td>\n",
       "    </tr>\n",
       "  </tbody>\n",
       "</table>\n",
       "<p>131 rows × 20 columns</p>\n",
       "</div>"
      ],
      "text/plain": [
       "            ID                    Name Sex   Age  Height  Weight   Team  NOC  \\\n",
       "4186      2699             Shaukat Ali   M  30.0     NaN     NaN  India  IND   \n",
       "4190      2703        Syed Mushtaq Ali   M  22.0   165.0    61.0  India  IND   \n",
       "4460      2864     Richard James Allen   M  25.0   172.0     NaN  India  IND   \n",
       "4461      2864     Richard James Allen   M  30.0   172.0     NaN  India  IND   \n",
       "4462      2864     Richard James Allen   M  34.0   172.0     NaN  India  IND   \n",
       "...        ...                     ...  ..   ...     ...     ...    ...  ...   \n",
       "191759  117232      Dung Dung Sylvanus   M  31.0   160.0    62.0  India  IND   \n",
       "193964  118553  Carlyle Carrol Tapsell   M  23.0   182.0     NaN  India  IND   \n",
       "193965  118553  Carlyle Carrol Tapsell   M  27.0   182.0     NaN  India  IND   \n",
       "205949  125560         Max \"Maxie\" Vaz   M   NaN     NaN     NaN  India  IND   \n",
       "219336  133554    Sayed Muhammad Yusuf   M   NaN     NaN     NaN  India  IND   \n",
       "\n",
       "              Games  Year  Season         City   Sport                Event  \\\n",
       "4186    1928 Summer  1928  Summer    Amsterdam  Hockey  Hockey Men's Hockey   \n",
       "4190    1964 Summer  1964  Summer        Tokyo  Hockey  Hockey Men's Hockey   \n",
       "4460    1928 Summer  1928  Summer    Amsterdam  Hockey  Hockey Men's Hockey   \n",
       "4461    1932 Summer  1932  Summer  Los Angeles  Hockey  Hockey Men's Hockey   \n",
       "4462    1936 Summer  1936  Summer       Berlin  Hockey  Hockey Men's Hockey   \n",
       "...             ...   ...     ...          ...     ...                  ...   \n",
       "191759  1980 Summer  1980  Summer       Moskva  Hockey  Hockey Men's Hockey   \n",
       "193964  1932 Summer  1932  Summer  Los Angeles  Hockey  Hockey Men's Hockey   \n",
       "193965  1936 Summer  1936  Summer       Berlin  Hockey  Hockey Men's Hockey   \n",
       "205949  1948 Summer  1948  Summer       London  Hockey  Hockey Men's Hockey   \n",
       "219336  1928 Summer  1928  Summer    Amsterdam  Hockey  Hockey Men's Hockey   \n",
       "\n",
       "       Medal region notes  Bronze  Gold  Silver  \n",
       "4186    Gold  India   NaN       0     1       0  \n",
       "4190    Gold  India   NaN       0     1       0  \n",
       "4460    Gold  India   NaN       0     1       0  \n",
       "4461    Gold  India   NaN       0     1       0  \n",
       "4462    Gold  India   NaN       0     1       0  \n",
       "...      ...    ...   ...     ...   ...     ...  \n",
       "191759  Gold  India   NaN       0     1       0  \n",
       "193964  Gold  India   NaN       0     1       0  \n",
       "193965  Gold  India   NaN       0     1       0  \n",
       "205949  Gold  India   NaN       0     1       0  \n",
       "219336  Gold  India   NaN       0     1       0  \n",
       "\n",
       "[131 rows x 20 columns]"
      ]
     },
     "execution_count": 21,
     "metadata": {},
     "output_type": "execute_result"
    }
   ],
   "source": [
    "df[(df['NOC']=='IND') & (df['Medal']=='Gold')]"
   ]
  },
  {
   "cell_type": "raw",
   "metadata": {
    "vscode": {
     "languageId": "raw"
    }
   },
   "source": [
    "India has won only 9 gold medals, but this shows a total of 131 gold medals won by India since the begining. To fix this let's drop duplicates using a subset of columns \n",
    "and store it in a new variable."
   ]
  },
  {
   "cell_type": "code",
   "execution_count": 22,
   "metadata": {},
   "outputs": [],
   "source": [
    "medal_tally = df.drop_duplicates(subset =['Team', 'NOC', 'Games', 'Year', 'City', 'Sport', 'Event', 'Medal'])"
   ]
  },
  {
   "cell_type": "code",
   "execution_count": 23,
   "metadata": {},
   "outputs": [],
   "source": [
    "medal_tally =medal_tally.groupby('NOC').sum()[['Gold', 'Silver', 'Bronze']].sort_values('Gold', ascending = False)"
   ]
  },
  {
   "cell_type": "code",
   "execution_count": 24,
   "metadata": {},
   "outputs": [],
   "source": [
    "medal_tally.reset_index(inplace=True)"
   ]
  },
  {
   "cell_type": "code",
   "execution_count": 25,
   "metadata": {},
   "outputs": [],
   "source": [
    "medal_tally['Total']= medal_tally['Gold']+medal_tally['Silver']+medal_tally['Bronze']"
   ]
  },
  {
   "cell_type": "code",
   "execution_count": 26,
   "metadata": {},
   "outputs": [
    {
     "data": {
      "text/html": [
       "<div>\n",
       "<style scoped>\n",
       "    .dataframe tbody tr th:only-of-type {\n",
       "        vertical-align: middle;\n",
       "    }\n",
       "\n",
       "    .dataframe tbody tr th {\n",
       "        vertical-align: top;\n",
       "    }\n",
       "\n",
       "    .dataframe thead th {\n",
       "        text-align: right;\n",
       "    }\n",
       "</style>\n",
       "<table border=\"1\" class=\"dataframe\">\n",
       "  <thead>\n",
       "    <tr style=\"text-align: right;\">\n",
       "      <th></th>\n",
       "      <th>NOC</th>\n",
       "      <th>Gold</th>\n",
       "      <th>Silver</th>\n",
       "      <th>Bronze</th>\n",
       "      <th>Total</th>\n",
       "    </tr>\n",
       "  </thead>\n",
       "  <tbody>\n",
       "    <tr>\n",
       "      <th>0</th>\n",
       "      <td>USA</td>\n",
       "      <td>1035</td>\n",
       "      <td>802</td>\n",
       "      <td>708</td>\n",
       "      <td>2545</td>\n",
       "    </tr>\n",
       "    <tr>\n",
       "      <th>1</th>\n",
       "      <td>URS</td>\n",
       "      <td>394</td>\n",
       "      <td>317</td>\n",
       "      <td>294</td>\n",
       "      <td>1005</td>\n",
       "    </tr>\n",
       "    <tr>\n",
       "      <th>2</th>\n",
       "      <td>GBR</td>\n",
       "      <td>278</td>\n",
       "      <td>317</td>\n",
       "      <td>300</td>\n",
       "      <td>895</td>\n",
       "    </tr>\n",
       "    <tr>\n",
       "      <th>3</th>\n",
       "      <td>GER</td>\n",
       "      <td>235</td>\n",
       "      <td>261</td>\n",
       "      <td>283</td>\n",
       "      <td>779</td>\n",
       "    </tr>\n",
       "    <tr>\n",
       "      <th>4</th>\n",
       "      <td>FRA</td>\n",
       "      <td>234</td>\n",
       "      <td>256</td>\n",
       "      <td>287</td>\n",
       "      <td>777</td>\n",
       "    </tr>\n",
       "    <tr>\n",
       "      <th>...</th>\n",
       "      <td>...</td>\n",
       "      <td>...</td>\n",
       "      <td>...</td>\n",
       "      <td>...</td>\n",
       "      <td>...</td>\n",
       "    </tr>\n",
       "    <tr>\n",
       "      <th>225</th>\n",
       "      <td>AHO</td>\n",
       "      <td>0</td>\n",
       "      <td>1</td>\n",
       "      <td>0</td>\n",
       "      <td>1</td>\n",
       "    </tr>\n",
       "    <tr>\n",
       "      <th>226</th>\n",
       "      <td>LBR</td>\n",
       "      <td>0</td>\n",
       "      <td>0</td>\n",
       "      <td>0</td>\n",
       "      <td>0</td>\n",
       "    </tr>\n",
       "    <tr>\n",
       "      <th>227</th>\n",
       "      <td>LCA</td>\n",
       "      <td>0</td>\n",
       "      <td>0</td>\n",
       "      <td>0</td>\n",
       "      <td>0</td>\n",
       "    </tr>\n",
       "    <tr>\n",
       "      <th>228</th>\n",
       "      <td>LES</td>\n",
       "      <td>0</td>\n",
       "      <td>0</td>\n",
       "      <td>0</td>\n",
       "      <td>0</td>\n",
       "    </tr>\n",
       "    <tr>\n",
       "      <th>229</th>\n",
       "      <td>LBA</td>\n",
       "      <td>0</td>\n",
       "      <td>0</td>\n",
       "      <td>0</td>\n",
       "      <td>0</td>\n",
       "    </tr>\n",
       "  </tbody>\n",
       "</table>\n",
       "<p>230 rows × 5 columns</p>\n",
       "</div>"
      ],
      "text/plain": [
       "     NOC  Gold  Silver  Bronze  Total\n",
       "0    USA  1035     802     708   2545\n",
       "1    URS   394     317     294   1005\n",
       "2    GBR   278     317     300    895\n",
       "3    GER   235     261     283    779\n",
       "4    FRA   234     256     287    777\n",
       "..   ...   ...     ...     ...    ...\n",
       "225  AHO     0       1       0      1\n",
       "226  LBR     0       0       0      0\n",
       "227  LCA     0       0       0      0\n",
       "228  LES     0       0       0      0\n",
       "229  LBA     0       0       0      0\n",
       "\n",
       "[230 rows x 5 columns]"
      ]
     },
     "execution_count": 26,
     "metadata": {},
     "output_type": "execute_result"
    }
   ],
   "source": [
    "medal_tally"
   ]
  },
  {
   "cell_type": "code",
   "execution_count": 27,
   "metadata": {},
   "outputs": [],
   "source": [
    "years = df['Year'].unique().tolist()\n",
    "years.sort()"
   ]
  },
  {
   "cell_type": "code",
   "execution_count": 28,
   "metadata": {},
   "outputs": [],
   "source": [
    "years.insert(0, 'Overall')"
   ]
  },
  {
   "cell_type": "code",
   "execution_count": 29,
   "metadata": {},
   "outputs": [
    {
     "data": {
      "text/plain": [
       "['Overall',\n",
       " 1896,\n",
       " 1900,\n",
       " 1904,\n",
       " 1906,\n",
       " 1908,\n",
       " 1912,\n",
       " 1920,\n",
       " 1924,\n",
       " 1928,\n",
       " 1932,\n",
       " 1936,\n",
       " 1948,\n",
       " 1952,\n",
       " 1956,\n",
       " 1960,\n",
       " 1964,\n",
       " 1968,\n",
       " 1972,\n",
       " 1976,\n",
       " 1980,\n",
       " 1984,\n",
       " 1988,\n",
       " 1992,\n",
       " 1996,\n",
       " 2000,\n",
       " 2004,\n",
       " 2008,\n",
       " 2012,\n",
       " 2016]"
      ]
     },
     "execution_count": 29,
     "metadata": {},
     "output_type": "execute_result"
    }
   ],
   "source": [
    "years"
   ]
  },
  {
   "cell_type": "code",
   "execution_count": 30,
   "metadata": {},
   "outputs": [],
   "source": [
    "country = np.unique(df['region'].dropna().values).tolist()\n",
    "country.sort()"
   ]
  },
  {
   "cell_type": "code",
   "execution_count": 31,
   "metadata": {},
   "outputs": [
    {
     "data": {
      "text/plain": [
       "['Overall',\n",
       " 'Afghanistan',\n",
       " 'Albania',\n",
       " 'Algeria',\n",
       " 'American Samoa',\n",
       " 'Andorra',\n",
       " 'Angola',\n",
       " 'Antigua',\n",
       " 'Argentina',\n",
       " 'Armenia',\n",
       " 'Aruba',\n",
       " 'Australia',\n",
       " 'Austria',\n",
       " 'Azerbaijan',\n",
       " 'Bahamas',\n",
       " 'Bahrain',\n",
       " 'Bangladesh',\n",
       " 'Barbados',\n",
       " 'Belarus',\n",
       " 'Belgium',\n",
       " 'Belize',\n",
       " 'Benin',\n",
       " 'Bermuda',\n",
       " 'Bhutan',\n",
       " 'Boliva',\n",
       " 'Bosnia and Herzegovina',\n",
       " 'Botswana',\n",
       " 'Brazil',\n",
       " 'Brunei',\n",
       " 'Bulgaria',\n",
       " 'Burkina Faso',\n",
       " 'Burundi',\n",
       " 'Cambodia',\n",
       " 'Cameroon',\n",
       " 'Canada',\n",
       " 'Cape Verde',\n",
       " 'Cayman Islands',\n",
       " 'Central African Republic',\n",
       " 'Chad',\n",
       " 'Chile',\n",
       " 'China',\n",
       " 'Colombia',\n",
       " 'Comoros',\n",
       " 'Cook Islands',\n",
       " 'Costa Rica',\n",
       " 'Croatia',\n",
       " 'Cuba',\n",
       " 'Curacao',\n",
       " 'Cyprus',\n",
       " 'Czech Republic',\n",
       " 'Democratic Republic of the Congo',\n",
       " 'Denmark',\n",
       " 'Djibouti',\n",
       " 'Dominica',\n",
       " 'Dominican Republic',\n",
       " 'Ecuador',\n",
       " 'Egypt',\n",
       " 'El Salvador',\n",
       " 'Equatorial Guinea',\n",
       " 'Eritrea',\n",
       " 'Estonia',\n",
       " 'Ethiopia',\n",
       " 'Fiji',\n",
       " 'Finland',\n",
       " 'France',\n",
       " 'Gabon',\n",
       " 'Gambia',\n",
       " 'Georgia',\n",
       " 'Germany',\n",
       " 'Ghana',\n",
       " 'Greece',\n",
       " 'Grenada',\n",
       " 'Guam',\n",
       " 'Guatemala',\n",
       " 'Guinea',\n",
       " 'Guinea-Bissau',\n",
       " 'Guyana',\n",
       " 'Haiti',\n",
       " 'Honduras',\n",
       " 'Hungary',\n",
       " 'Iceland',\n",
       " 'India',\n",
       " 'Individual Olympic Athletes',\n",
       " 'Indonesia',\n",
       " 'Iran',\n",
       " 'Iraq',\n",
       " 'Ireland',\n",
       " 'Israel',\n",
       " 'Italy',\n",
       " 'Ivory Coast',\n",
       " 'Jamaica',\n",
       " 'Japan',\n",
       " 'Jordan',\n",
       " 'Kazakhstan',\n",
       " 'Kenya',\n",
       " 'Kiribati',\n",
       " 'Kosovo',\n",
       " 'Kuwait',\n",
       " 'Kyrgyzstan',\n",
       " 'Laos',\n",
       " 'Latvia',\n",
       " 'Lebanon',\n",
       " 'Lesotho',\n",
       " 'Liberia',\n",
       " 'Libya',\n",
       " 'Liechtenstein',\n",
       " 'Lithuania',\n",
       " 'Luxembourg',\n",
       " 'Macedonia',\n",
       " 'Madagascar',\n",
       " 'Malawi',\n",
       " 'Malaysia',\n",
       " 'Maldives',\n",
       " 'Mali',\n",
       " 'Malta',\n",
       " 'Marshall Islands',\n",
       " 'Mauritania',\n",
       " 'Mauritius',\n",
       " 'Mexico',\n",
       " 'Micronesia',\n",
       " 'Moldova',\n",
       " 'Monaco',\n",
       " 'Mongolia',\n",
       " 'Montenegro',\n",
       " 'Morocco',\n",
       " 'Mozambique',\n",
       " 'Myanmar',\n",
       " 'Namibia',\n",
       " 'Nauru',\n",
       " 'Nepal',\n",
       " 'Netherlands',\n",
       " 'New Zealand',\n",
       " 'Nicaragua',\n",
       " 'Niger',\n",
       " 'Nigeria',\n",
       " 'North Korea',\n",
       " 'Norway',\n",
       " 'Oman',\n",
       " 'Pakistan',\n",
       " 'Palau',\n",
       " 'Palestine',\n",
       " 'Panama',\n",
       " 'Papua New Guinea',\n",
       " 'Paraguay',\n",
       " 'Peru',\n",
       " 'Philippines',\n",
       " 'Poland',\n",
       " 'Portugal',\n",
       " 'Puerto Rico',\n",
       " 'Qatar',\n",
       " 'Republic of Congo',\n",
       " 'Romania',\n",
       " 'Russia',\n",
       " 'Rwanda',\n",
       " 'Saint Kitts',\n",
       " 'Saint Lucia',\n",
       " 'Saint Vincent',\n",
       " 'Samoa',\n",
       " 'San Marino',\n",
       " 'Sao Tome and Principe',\n",
       " 'Saudi Arabia',\n",
       " 'Senegal',\n",
       " 'Serbia',\n",
       " 'Seychelles',\n",
       " 'Sierra Leone',\n",
       " 'Slovakia',\n",
       " 'Slovenia',\n",
       " 'Solomon Islands',\n",
       " 'Somalia',\n",
       " 'South Africa',\n",
       " 'South Korea',\n",
       " 'South Sudan',\n",
       " 'Spain',\n",
       " 'Sri Lanka',\n",
       " 'Sudan',\n",
       " 'Suriname',\n",
       " 'Swaziland',\n",
       " 'Sweden',\n",
       " 'Switzerland',\n",
       " 'Syria',\n",
       " 'Taiwan',\n",
       " 'Tajikistan',\n",
       " 'Tanzania',\n",
       " 'Thailand',\n",
       " 'Timor-Leste',\n",
       " 'Togo',\n",
       " 'Tonga',\n",
       " 'Trinidad',\n",
       " 'Tunisia',\n",
       " 'Turkey',\n",
       " 'Turkmenistan',\n",
       " 'UK',\n",
       " 'USA',\n",
       " 'Uganda',\n",
       " 'Ukraine',\n",
       " 'United Arab Emirates',\n",
       " 'Uruguay',\n",
       " 'Uzbekistan',\n",
       " 'Vanuatu',\n",
       " 'Venezuela',\n",
       " 'Vietnam',\n",
       " 'Virgin Islands, British',\n",
       " 'Virgin Islands, US',\n",
       " 'Yemen',\n",
       " 'Zambia',\n",
       " 'Zimbabwe']"
      ]
     },
     "execution_count": 31,
     "metadata": {},
     "output_type": "execute_result"
    }
   ],
   "source": [
    "country.insert(0, 'Overall')\n",
    "country"
   ]
  },
  {
   "cell_type": "code",
   "execution_count": 32,
   "metadata": {},
   "outputs": [
    {
     "ename": "NameError",
     "evalue": "name 'medal_df' is not defined",
     "output_type": "error",
     "traceback": [
      "\u001b[1;31m---------------------------------------------------------------------------\u001b[0m",
      "\u001b[1;31mNameError\u001b[0m                                 Traceback (most recent call last)",
      "Cell \u001b[1;32mIn[32], line 1\u001b[0m\n\u001b[1;32m----> 1\u001b[0m medal_df\u001b[38;5;241m.\u001b[39mgroupby(\u001b[38;5;124m'\u001b[39m\u001b[38;5;124mYear\u001b[39m\u001b[38;5;124m'\u001b[39m)\u001b[38;5;241m.\u001b[39msum()[[\u001b[38;5;124m'\u001b[39m\u001b[38;5;124mGold\u001b[39m\u001b[38;5;124m'\u001b[39m, \u001b[38;5;124m'\u001b[39m\u001b[38;5;124mSilver\u001b[39m\u001b[38;5;124m'\u001b[39m, \u001b[38;5;124m'\u001b[39m\u001b[38;5;124mBronze\u001b[39m\u001b[38;5;124m'\u001b[39m]]\u001b[38;5;241m.\u001b[39msort_values(\u001b[38;5;124m'\u001b[39m\u001b[38;5;124mGold\u001b[39m\u001b[38;5;124m'\u001b[39m, ascending \u001b[38;5;241m=\u001b[39m \u001b[38;5;28;01mFalse\u001b[39;00m)\u001b[38;5;241m.\u001b[39mreset_index()\n",
      "\u001b[1;31mNameError\u001b[0m: name 'medal_df' is not defined"
     ]
    }
   ],
   "source": [
    "medal_df.groupby('Year').sum()[['Gold', 'Silver', 'Bronze']].sort_values('Gold', ascending = False).reset_index()"
   ]
  },
  {
   "cell_type": "code",
   "execution_count": null,
   "metadata": {},
   "outputs": [],
   "source": [
    "def fetch_medal_tally(year, country):\n",
    "    flag =0\n",
    "    if year == 'Overall' and country == 'Overall':\n",
    "        temp_df = medal_df\n",
    "    if year == 'Overall' and country != 'Overall':\n",
    "        flag=1\n",
    "        temp_df = medal_df[medal_df['region'] == country]\n",
    "    if year != 'Overall' and country == 'Overall':\n",
    "        temp_df = medal_df[medal_df['Year'] == int(year)]\n",
    "    if year != 'Overall' and country != 'Overall':\n",
    "        temp_df = medal_df[(medal_df['Year'] == int(year)) & (medal_df['region'] == country)]\n",
    "\n",
    "    if flag==1:\n",
    "        x = temp_df.groupby('Year').sum()[['Gold', 'Silver', 'Bronze']].sort_values('Year').reset_index()\n",
    "    else:\n",
    "        x = temp_df.groupby('region').sum()[['Gold', 'Silver', 'Bronze']].sort_values('Gold', ascending=False).reset_index()\n",
    "\n",
    "    x['Total'] = x['Gold'] + x['Silver'] + x['Bronze']\n",
    "    print(x)"
   ]
  },
  {
   "cell_type": "code",
   "execution_count": null,
   "metadata": {},
   "outputs": [],
   "source": [
    "medal_df = df.drop_duplicates(subset =['Team', 'NOC', 'Games', 'Year', 'City', 'Sport', 'Event', 'Medal'])"
   ]
  },
  {
   "cell_type": "code",
   "execution_count": null,
   "metadata": {},
   "outputs": [
    {
     "data": {
      "text/html": [
       "<div>\n",
       "<style scoped>\n",
       "    .dataframe tbody tr th:only-of-type {\n",
       "        vertical-align: middle;\n",
       "    }\n",
       "\n",
       "    .dataframe tbody tr th {\n",
       "        vertical-align: top;\n",
       "    }\n",
       "\n",
       "    .dataframe thead th {\n",
       "        text-align: right;\n",
       "    }\n",
       "</style>\n",
       "<table border=\"1\" class=\"dataframe\">\n",
       "  <thead>\n",
       "    <tr style=\"text-align: right;\">\n",
       "      <th></th>\n",
       "      <th>ID</th>\n",
       "      <th>Name</th>\n",
       "      <th>Sex</th>\n",
       "      <th>Age</th>\n",
       "      <th>Height</th>\n",
       "      <th>Weight</th>\n",
       "      <th>Team</th>\n",
       "      <th>NOC</th>\n",
       "      <th>Games</th>\n",
       "      <th>Year</th>\n",
       "      <th>Season</th>\n",
       "      <th>City</th>\n",
       "      <th>Sport</th>\n",
       "      <th>Event</th>\n",
       "      <th>Medal</th>\n",
       "      <th>region</th>\n",
       "      <th>notes</th>\n",
       "      <th>Bronze</th>\n",
       "      <th>Gold</th>\n",
       "      <th>Silver</th>\n",
       "    </tr>\n",
       "  </thead>\n",
       "  <tbody>\n",
       "    <tr>\n",
       "      <th>0</th>\n",
       "      <td>1</td>\n",
       "      <td>A Dijiang</td>\n",
       "      <td>M</td>\n",
       "      <td>24.0</td>\n",
       "      <td>180.0</td>\n",
       "      <td>80.0</td>\n",
       "      <td>China</td>\n",
       "      <td>CHN</td>\n",
       "      <td>1992 Summer</td>\n",
       "      <td>1992</td>\n",
       "      <td>Summer</td>\n",
       "      <td>Barcelona</td>\n",
       "      <td>Basketball</td>\n",
       "      <td>Basketball Men's Basketball</td>\n",
       "      <td>NaN</td>\n",
       "      <td>China</td>\n",
       "      <td>NaN</td>\n",
       "      <td>0</td>\n",
       "      <td>0</td>\n",
       "      <td>0</td>\n",
       "    </tr>\n",
       "    <tr>\n",
       "      <th>1</th>\n",
       "      <td>2</td>\n",
       "      <td>A Lamusi</td>\n",
       "      <td>M</td>\n",
       "      <td>23.0</td>\n",
       "      <td>170.0</td>\n",
       "      <td>60.0</td>\n",
       "      <td>China</td>\n",
       "      <td>CHN</td>\n",
       "      <td>2012 Summer</td>\n",
       "      <td>2012</td>\n",
       "      <td>Summer</td>\n",
       "      <td>London</td>\n",
       "      <td>Judo</td>\n",
       "      <td>Judo Men's Extra-Lightweight</td>\n",
       "      <td>NaN</td>\n",
       "      <td>China</td>\n",
       "      <td>NaN</td>\n",
       "      <td>0</td>\n",
       "      <td>0</td>\n",
       "      <td>0</td>\n",
       "    </tr>\n",
       "    <tr>\n",
       "      <th>2</th>\n",
       "      <td>3</td>\n",
       "      <td>Gunnar Nielsen Aaby</td>\n",
       "      <td>M</td>\n",
       "      <td>24.0</td>\n",
       "      <td>NaN</td>\n",
       "      <td>NaN</td>\n",
       "      <td>Denmark</td>\n",
       "      <td>DEN</td>\n",
       "      <td>1920 Summer</td>\n",
       "      <td>1920</td>\n",
       "      <td>Summer</td>\n",
       "      <td>Antwerpen</td>\n",
       "      <td>Football</td>\n",
       "      <td>Football Men's Football</td>\n",
       "      <td>NaN</td>\n",
       "      <td>Denmark</td>\n",
       "      <td>NaN</td>\n",
       "      <td>0</td>\n",
       "      <td>0</td>\n",
       "      <td>0</td>\n",
       "    </tr>\n",
       "    <tr>\n",
       "      <th>3</th>\n",
       "      <td>4</td>\n",
       "      <td>Edgar Lindenau Aabye</td>\n",
       "      <td>M</td>\n",
       "      <td>34.0</td>\n",
       "      <td>NaN</td>\n",
       "      <td>NaN</td>\n",
       "      <td>Denmark/Sweden</td>\n",
       "      <td>DEN</td>\n",
       "      <td>1900 Summer</td>\n",
       "      <td>1900</td>\n",
       "      <td>Summer</td>\n",
       "      <td>Paris</td>\n",
       "      <td>Tug-Of-War</td>\n",
       "      <td>Tug-Of-War Men's Tug-Of-War</td>\n",
       "      <td>Gold</td>\n",
       "      <td>Denmark</td>\n",
       "      <td>NaN</td>\n",
       "      <td>0</td>\n",
       "      <td>1</td>\n",
       "      <td>0</td>\n",
       "    </tr>\n",
       "    <tr>\n",
       "      <th>4</th>\n",
       "      <td>8</td>\n",
       "      <td>Cornelia \"Cor\" Aalten (-Strannood)</td>\n",
       "      <td>F</td>\n",
       "      <td>18.0</td>\n",
       "      <td>168.0</td>\n",
       "      <td>NaN</td>\n",
       "      <td>Netherlands</td>\n",
       "      <td>NED</td>\n",
       "      <td>1932 Summer</td>\n",
       "      <td>1932</td>\n",
       "      <td>Summer</td>\n",
       "      <td>Los Angeles</td>\n",
       "      <td>Athletics</td>\n",
       "      <td>Athletics Women's 100 metres</td>\n",
       "      <td>NaN</td>\n",
       "      <td>Netherlands</td>\n",
       "      <td>NaN</td>\n",
       "      <td>0</td>\n",
       "      <td>0</td>\n",
       "      <td>0</td>\n",
       "    </tr>\n",
       "  </tbody>\n",
       "</table>\n",
       "</div>"
      ],
      "text/plain": [
       "   ID                                Name Sex   Age  Height  Weight  \\\n",
       "0   1                           A Dijiang   M  24.0   180.0    80.0   \n",
       "1   2                            A Lamusi   M  23.0   170.0    60.0   \n",
       "2   3                 Gunnar Nielsen Aaby   M  24.0     NaN     NaN   \n",
       "3   4                Edgar Lindenau Aabye   M  34.0     NaN     NaN   \n",
       "4   8  Cornelia \"Cor\" Aalten (-Strannood)   F  18.0   168.0     NaN   \n",
       "\n",
       "             Team  NOC        Games  Year  Season         City       Sport  \\\n",
       "0           China  CHN  1992 Summer  1992  Summer    Barcelona  Basketball   \n",
       "1           China  CHN  2012 Summer  2012  Summer       London        Judo   \n",
       "2         Denmark  DEN  1920 Summer  1920  Summer    Antwerpen    Football   \n",
       "3  Denmark/Sweden  DEN  1900 Summer  1900  Summer        Paris  Tug-Of-War   \n",
       "4     Netherlands  NED  1932 Summer  1932  Summer  Los Angeles   Athletics   \n",
       "\n",
       "                          Event Medal       region notes  Bronze  Gold  Silver  \n",
       "0   Basketball Men's Basketball   NaN        China   NaN       0     0       0  \n",
       "1  Judo Men's Extra-Lightweight   NaN        China   NaN       0     0       0  \n",
       "2       Football Men's Football   NaN      Denmark   NaN       0     0       0  \n",
       "3   Tug-Of-War Men's Tug-Of-War  Gold      Denmark   NaN       0     1       0  \n",
       "4  Athletics Women's 100 metres   NaN  Netherlands   NaN       0     0       0  "
      ]
     },
     "execution_count": 49,
     "metadata": {},
     "output_type": "execute_result"
    }
   ],
   "source": [
    "medal_df.head()"
   ]
  },
  {
   "cell_type": "code",
   "execution_count": null,
   "metadata": {},
   "outputs": [
    {
     "name": "stdout",
     "output_type": "stream",
     "text": [
      "            region  Gold  Silver  Bronze  Total\n",
      "0              USA  1035     802     708   2545\n",
      "1           Russia   592     498     487   1577\n",
      "2          Germany   444     457     491   1392\n",
      "3               UK   278     317     300    895\n",
      "4           France   234     256     287    777\n",
      "..             ...   ...     ...     ...    ...\n",
      "200        Lesotho     0       0       0      0\n",
      "201        Albania     0       0       0      0\n",
      "202          Libya     0       0       0      0\n",
      "203  Liechtenstein     0       0       0      0\n",
      "204        Liberia     0       0       0      0\n",
      "\n",
      "[205 rows x 5 columns]\n"
     ]
    }
   ],
   "source": [
    "fetch_medal_tally('Overall', 'Overall')"
   ]
  },
  {
   "cell_type": "raw",
   "metadata": {
    "vscode": {
     "languageId": "raw"
    }
   },
   "source": [
    "# Overall Analysis:\n",
    "No of editions\n",
    "No of cities\n",
    "No of events/sports\n",
    "No of athletes\n",
    "Participating Nations"
   ]
  },
  {
   "cell_type": "code",
   "execution_count": null,
   "metadata": {},
   "outputs": [
    {
     "data": {
      "text/plain": [
       "28"
      ]
     },
     "execution_count": 33,
     "metadata": {},
     "output_type": "execute_result"
    }
   ],
   "source": [
    "df['Year'].unique().shape[0]-1"
   ]
  },
  {
   "cell_type": "code",
   "execution_count": null,
   "metadata": {},
   "outputs": [
    {
     "data": {
      "text/plain": [
       "array(['Barcelona', 'London', 'Antwerpen', 'Paris', 'Los Angeles',\n",
       "       'Helsinki', 'Sydney', 'Atlanta', 'Stockholm', 'Beijing',\n",
       "       'Rio de Janeiro', 'Athina', 'Mexico City', 'Munich', 'Seoul',\n",
       "       'Berlin', 'Melbourne', 'Roma', 'Amsterdam', 'Montreal', 'Moskva',\n",
       "       'Tokyo', 'St. Louis'], dtype=object)"
      ]
     },
     "execution_count": 34,
     "metadata": {},
     "output_type": "execute_result"
    }
   ],
   "source": [
    "df['City'].unique()"
   ]
  },
  {
   "cell_type": "code",
   "execution_count": null,
   "metadata": {},
   "outputs": [
    {
     "data": {
      "text/plain": [
       "array(['Basketball', 'Judo', 'Football', 'Tug-Of-War', 'Athletics',\n",
       "       'Swimming', 'Badminton', 'Sailing', 'Gymnastics',\n",
       "       'Art Competitions', 'Handball', 'Weightlifting', 'Wrestling',\n",
       "       'Water Polo', 'Hockey', 'Rowing', 'Fencing', 'Equestrianism',\n",
       "       'Shooting', 'Boxing', 'Taekwondo', 'Cycling', 'Diving', 'Canoeing',\n",
       "       'Tennis', 'Modern Pentathlon', 'Golf', 'Softball', 'Archery',\n",
       "       'Volleyball', 'Synchronized Swimming', 'Table Tennis', 'Baseball',\n",
       "       'Rhythmic Gymnastics', 'Rugby Sevens', 'Trampolining',\n",
       "       'Beach Volleyball', 'Triathlon', 'Rugby', 'Lacrosse', 'Polo',\n",
       "       'Cricket', 'Ice Hockey', 'Racquets', 'Motorboating', 'Croquet',\n",
       "       'Figure Skating', 'Jeu De Paume', 'Roque', 'Basque Pelota',\n",
       "       'Alpinism', 'Aeronautics'], dtype=object)"
      ]
     },
     "execution_count": 35,
     "metadata": {},
     "output_type": "execute_result"
    }
   ],
   "source": [
    "df['Sport'].unique()"
   ]
  },
  {
   "cell_type": "code",
   "execution_count": null,
   "metadata": {},
   "outputs": [
    {
     "data": {
      "text/plain": [
       "(651,)"
      ]
     },
     "execution_count": 36,
     "metadata": {},
     "output_type": "execute_result"
    }
   ],
   "source": [
    "df['Event'].unique().shape"
   ]
  },
  {
   "cell_type": "code",
   "execution_count": null,
   "metadata": {},
   "outputs": [
    {
     "data": {
      "text/plain": [
       "(116122,)"
      ]
     },
     "execution_count": 37,
     "metadata": {},
     "output_type": "execute_result"
    }
   ],
   "source": [
    "df['Name'].unique().shape"
   ]
  },
  {
   "cell_type": "code",
   "execution_count": null,
   "metadata": {},
   "outputs": [
    {
     "data": {
      "text/plain": [
       "(206,)"
      ]
     },
     "execution_count": 38,
     "metadata": {},
     "output_type": "execute_result"
    }
   ],
   "source": [
    "df['region'].unique().shape"
   ]
  },
  {
   "cell_type": "markdown",
   "metadata": {},
   "source": [
    "#No of Participating Nations over the years"
   ]
  },
  {
   "cell_type": "code",
   "execution_count": 33,
   "metadata": {},
   "outputs": [
    {
     "data": {
      "text/html": [
       "<div>\n",
       "<style scoped>\n",
       "    .dataframe tbody tr th:only-of-type {\n",
       "        vertical-align: middle;\n",
       "    }\n",
       "\n",
       "    .dataframe tbody tr th {\n",
       "        vertical-align: top;\n",
       "    }\n",
       "\n",
       "    .dataframe thead th {\n",
       "        text-align: right;\n",
       "    }\n",
       "</style>\n",
       "<table border=\"1\" class=\"dataframe\">\n",
       "  <thead>\n",
       "    <tr style=\"text-align: right;\">\n",
       "      <th></th>\n",
       "      <th>ID</th>\n",
       "      <th>Name</th>\n",
       "      <th>Sex</th>\n",
       "      <th>Age</th>\n",
       "      <th>Height</th>\n",
       "      <th>Weight</th>\n",
       "      <th>Team</th>\n",
       "      <th>NOC</th>\n",
       "      <th>Games</th>\n",
       "      <th>Year</th>\n",
       "      <th>Season</th>\n",
       "      <th>City</th>\n",
       "      <th>Sport</th>\n",
       "      <th>Event</th>\n",
       "      <th>Medal</th>\n",
       "      <th>region</th>\n",
       "      <th>notes</th>\n",
       "      <th>Bronze</th>\n",
       "      <th>Gold</th>\n",
       "      <th>Silver</th>\n",
       "    </tr>\n",
       "  </thead>\n",
       "  <tbody>\n",
       "    <tr>\n",
       "      <th>0</th>\n",
       "      <td>1</td>\n",
       "      <td>A Dijiang</td>\n",
       "      <td>M</td>\n",
       "      <td>24.0</td>\n",
       "      <td>180.0</td>\n",
       "      <td>80.0</td>\n",
       "      <td>China</td>\n",
       "      <td>CHN</td>\n",
       "      <td>1992 Summer</td>\n",
       "      <td>1992</td>\n",
       "      <td>Summer</td>\n",
       "      <td>Barcelona</td>\n",
       "      <td>Basketball</td>\n",
       "      <td>Basketball Men's Basketball</td>\n",
       "      <td>NaN</td>\n",
       "      <td>China</td>\n",
       "      <td>NaN</td>\n",
       "      <td>0</td>\n",
       "      <td>0</td>\n",
       "      <td>0</td>\n",
       "    </tr>\n",
       "    <tr>\n",
       "      <th>1</th>\n",
       "      <td>2</td>\n",
       "      <td>A Lamusi</td>\n",
       "      <td>M</td>\n",
       "      <td>23.0</td>\n",
       "      <td>170.0</td>\n",
       "      <td>60.0</td>\n",
       "      <td>China</td>\n",
       "      <td>CHN</td>\n",
       "      <td>2012 Summer</td>\n",
       "      <td>2012</td>\n",
       "      <td>Summer</td>\n",
       "      <td>London</td>\n",
       "      <td>Judo</td>\n",
       "      <td>Judo Men's Extra-Lightweight</td>\n",
       "      <td>NaN</td>\n",
       "      <td>China</td>\n",
       "      <td>NaN</td>\n",
       "      <td>0</td>\n",
       "      <td>0</td>\n",
       "      <td>0</td>\n",
       "    </tr>\n",
       "    <tr>\n",
       "      <th>2</th>\n",
       "      <td>3</td>\n",
       "      <td>Gunnar Nielsen Aaby</td>\n",
       "      <td>M</td>\n",
       "      <td>24.0</td>\n",
       "      <td>NaN</td>\n",
       "      <td>NaN</td>\n",
       "      <td>Denmark</td>\n",
       "      <td>DEN</td>\n",
       "      <td>1920 Summer</td>\n",
       "      <td>1920</td>\n",
       "      <td>Summer</td>\n",
       "      <td>Antwerpen</td>\n",
       "      <td>Football</td>\n",
       "      <td>Football Men's Football</td>\n",
       "      <td>NaN</td>\n",
       "      <td>Denmark</td>\n",
       "      <td>NaN</td>\n",
       "      <td>0</td>\n",
       "      <td>0</td>\n",
       "      <td>0</td>\n",
       "    </tr>\n",
       "    <tr>\n",
       "      <th>3</th>\n",
       "      <td>4</td>\n",
       "      <td>Edgar Lindenau Aabye</td>\n",
       "      <td>M</td>\n",
       "      <td>34.0</td>\n",
       "      <td>NaN</td>\n",
       "      <td>NaN</td>\n",
       "      <td>Denmark/Sweden</td>\n",
       "      <td>DEN</td>\n",
       "      <td>1900 Summer</td>\n",
       "      <td>1900</td>\n",
       "      <td>Summer</td>\n",
       "      <td>Paris</td>\n",
       "      <td>Tug-Of-War</td>\n",
       "      <td>Tug-Of-War Men's Tug-Of-War</td>\n",
       "      <td>Gold</td>\n",
       "      <td>Denmark</td>\n",
       "      <td>NaN</td>\n",
       "      <td>0</td>\n",
       "      <td>1</td>\n",
       "      <td>0</td>\n",
       "    </tr>\n",
       "    <tr>\n",
       "      <th>4</th>\n",
       "      <td>8</td>\n",
       "      <td>Cornelia \"Cor\" Aalten (-Strannood)</td>\n",
       "      <td>F</td>\n",
       "      <td>18.0</td>\n",
       "      <td>168.0</td>\n",
       "      <td>NaN</td>\n",
       "      <td>Netherlands</td>\n",
       "      <td>NED</td>\n",
       "      <td>1932 Summer</td>\n",
       "      <td>1932</td>\n",
       "      <td>Summer</td>\n",
       "      <td>Los Angeles</td>\n",
       "      <td>Athletics</td>\n",
       "      <td>Athletics Women's 100 metres</td>\n",
       "      <td>NaN</td>\n",
       "      <td>Netherlands</td>\n",
       "      <td>NaN</td>\n",
       "      <td>0</td>\n",
       "      <td>0</td>\n",
       "      <td>0</td>\n",
       "    </tr>\n",
       "  </tbody>\n",
       "</table>\n",
       "</div>"
      ],
      "text/plain": [
       "   ID                                Name Sex   Age  Height  Weight  \\\n",
       "0   1                           A Dijiang   M  24.0   180.0    80.0   \n",
       "1   2                            A Lamusi   M  23.0   170.0    60.0   \n",
       "2   3                 Gunnar Nielsen Aaby   M  24.0     NaN     NaN   \n",
       "3   4                Edgar Lindenau Aabye   M  34.0     NaN     NaN   \n",
       "4   8  Cornelia \"Cor\" Aalten (-Strannood)   F  18.0   168.0     NaN   \n",
       "\n",
       "             Team  NOC        Games  Year  Season         City       Sport  \\\n",
       "0           China  CHN  1992 Summer  1992  Summer    Barcelona  Basketball   \n",
       "1           China  CHN  2012 Summer  2012  Summer       London        Judo   \n",
       "2         Denmark  DEN  1920 Summer  1920  Summer    Antwerpen    Football   \n",
       "3  Denmark/Sweden  DEN  1900 Summer  1900  Summer        Paris  Tug-Of-War   \n",
       "4     Netherlands  NED  1932 Summer  1932  Summer  Los Angeles   Athletics   \n",
       "\n",
       "                          Event Medal       region notes  Bronze  Gold  Silver  \n",
       "0   Basketball Men's Basketball   NaN        China   NaN       0     0       0  \n",
       "1  Judo Men's Extra-Lightweight   NaN        China   NaN       0     0       0  \n",
       "2       Football Men's Football   NaN      Denmark   NaN       0     0       0  \n",
       "3   Tug-Of-War Men's Tug-Of-War  Gold      Denmark   NaN       0     1       0  \n",
       "4  Athletics Women's 100 metres   NaN  Netherlands   NaN       0     0       0  "
      ]
     },
     "execution_count": 33,
     "metadata": {},
     "output_type": "execute_result"
    }
   ],
   "source": [
    "df.head()"
   ]
  },
  {
   "cell_type": "code",
   "execution_count": 34,
   "metadata": {},
   "outputs": [],
   "source": [
    "nations_over_time = pd.DataFrame(df.drop_duplicates(['Year', 'region'])['Year'].value_counts().sort_index()).reset_index()"
   ]
  },
  {
   "cell_type": "code",
   "execution_count": 35,
   "metadata": {},
   "outputs": [
    {
     "data": {
      "text/html": [
       "<div>\n",
       "<style scoped>\n",
       "    .dataframe tbody tr th:only-of-type {\n",
       "        vertical-align: middle;\n",
       "    }\n",
       "\n",
       "    .dataframe tbody tr th {\n",
       "        vertical-align: top;\n",
       "    }\n",
       "\n",
       "    .dataframe thead th {\n",
       "        text-align: right;\n",
       "    }\n",
       "</style>\n",
       "<table border=\"1\" class=\"dataframe\">\n",
       "  <thead>\n",
       "    <tr style=\"text-align: right;\">\n",
       "      <th></th>\n",
       "      <th>Edition</th>\n",
       "      <th>No. of Countries</th>\n",
       "    </tr>\n",
       "  </thead>\n",
       "  <tbody>\n",
       "    <tr>\n",
       "      <th>0</th>\n",
       "      <td>1896</td>\n",
       "      <td>12</td>\n",
       "    </tr>\n",
       "    <tr>\n",
       "      <th>1</th>\n",
       "      <td>1900</td>\n",
       "      <td>31</td>\n",
       "    </tr>\n",
       "    <tr>\n",
       "      <th>2</th>\n",
       "      <td>1904</td>\n",
       "      <td>14</td>\n",
       "    </tr>\n",
       "    <tr>\n",
       "      <th>3</th>\n",
       "      <td>1906</td>\n",
       "      <td>20</td>\n",
       "    </tr>\n",
       "    <tr>\n",
       "      <th>4</th>\n",
       "      <td>1908</td>\n",
       "      <td>22</td>\n",
       "    </tr>\n",
       "    <tr>\n",
       "      <th>5</th>\n",
       "      <td>1912</td>\n",
       "      <td>29</td>\n",
       "    </tr>\n",
       "    <tr>\n",
       "      <th>6</th>\n",
       "      <td>1920</td>\n",
       "      <td>29</td>\n",
       "    </tr>\n",
       "    <tr>\n",
       "      <th>7</th>\n",
       "      <td>1924</td>\n",
       "      <td>45</td>\n",
       "    </tr>\n",
       "    <tr>\n",
       "      <th>8</th>\n",
       "      <td>1928</td>\n",
       "      <td>46</td>\n",
       "    </tr>\n",
       "    <tr>\n",
       "      <th>9</th>\n",
       "      <td>1932</td>\n",
       "      <td>47</td>\n",
       "    </tr>\n",
       "    <tr>\n",
       "      <th>10</th>\n",
       "      <td>1936</td>\n",
       "      <td>49</td>\n",
       "    </tr>\n",
       "    <tr>\n",
       "      <th>11</th>\n",
       "      <td>1948</td>\n",
       "      <td>59</td>\n",
       "    </tr>\n",
       "    <tr>\n",
       "      <th>12</th>\n",
       "      <td>1952</td>\n",
       "      <td>67</td>\n",
       "    </tr>\n",
       "    <tr>\n",
       "      <th>13</th>\n",
       "      <td>1956</td>\n",
       "      <td>71</td>\n",
       "    </tr>\n",
       "    <tr>\n",
       "      <th>14</th>\n",
       "      <td>1960</td>\n",
       "      <td>83</td>\n",
       "    </tr>\n",
       "    <tr>\n",
       "      <th>15</th>\n",
       "      <td>1964</td>\n",
       "      <td>93</td>\n",
       "    </tr>\n",
       "    <tr>\n",
       "      <th>16</th>\n",
       "      <td>1968</td>\n",
       "      <td>111</td>\n",
       "    </tr>\n",
       "    <tr>\n",
       "      <th>17</th>\n",
       "      <td>1972</td>\n",
       "      <td>120</td>\n",
       "    </tr>\n",
       "    <tr>\n",
       "      <th>18</th>\n",
       "      <td>1976</td>\n",
       "      <td>91</td>\n",
       "    </tr>\n",
       "    <tr>\n",
       "      <th>19</th>\n",
       "      <td>1980</td>\n",
       "      <td>80</td>\n",
       "    </tr>\n",
       "    <tr>\n",
       "      <th>20</th>\n",
       "      <td>1984</td>\n",
       "      <td>139</td>\n",
       "    </tr>\n",
       "    <tr>\n",
       "      <th>21</th>\n",
       "      <td>1988</td>\n",
       "      <td>156</td>\n",
       "    </tr>\n",
       "    <tr>\n",
       "      <th>22</th>\n",
       "      <td>1992</td>\n",
       "      <td>168</td>\n",
       "    </tr>\n",
       "    <tr>\n",
       "      <th>23</th>\n",
       "      <td>1996</td>\n",
       "      <td>196</td>\n",
       "    </tr>\n",
       "    <tr>\n",
       "      <th>24</th>\n",
       "      <td>2000</td>\n",
       "      <td>199</td>\n",
       "    </tr>\n",
       "    <tr>\n",
       "      <th>25</th>\n",
       "      <td>2004</td>\n",
       "      <td>200</td>\n",
       "    </tr>\n",
       "    <tr>\n",
       "      <th>26</th>\n",
       "      <td>2008</td>\n",
       "      <td>202</td>\n",
       "    </tr>\n",
       "    <tr>\n",
       "      <th>27</th>\n",
       "      <td>2012</td>\n",
       "      <td>203</td>\n",
       "    </tr>\n",
       "    <tr>\n",
       "      <th>28</th>\n",
       "      <td>2016</td>\n",
       "      <td>204</td>\n",
       "    </tr>\n",
       "  </tbody>\n",
       "</table>\n",
       "</div>"
      ],
      "text/plain": [
       "    Edition  No. of Countries\n",
       "0      1896                12\n",
       "1      1900                31\n",
       "2      1904                14\n",
       "3      1906                20\n",
       "4      1908                22\n",
       "5      1912                29\n",
       "6      1920                29\n",
       "7      1924                45\n",
       "8      1928                46\n",
       "9      1932                47\n",
       "10     1936                49\n",
       "11     1948                59\n",
       "12     1952                67\n",
       "13     1956                71\n",
       "14     1960                83\n",
       "15     1964                93\n",
       "16     1968               111\n",
       "17     1972               120\n",
       "18     1976                91\n",
       "19     1980                80\n",
       "20     1984               139\n",
       "21     1988               156\n",
       "22     1992               168\n",
       "23     1996               196\n",
       "24     2000               199\n",
       "25     2004               200\n",
       "26     2008               202\n",
       "27     2012               203\n",
       "28     2016               204"
      ]
     },
     "execution_count": 35,
     "metadata": {},
     "output_type": "execute_result"
    }
   ],
   "source": [
    "nations_over_time.rename(columns={'Year': 'Edition', 'count':'No. of Countries'}, inplace=True)\n",
    "nations_over_time"
   ]
  },
  {
   "cell_type": "code",
   "execution_count": 22,
   "metadata": {},
   "outputs": [],
   "source": [
    "import plotly.express as px"
   ]
  },
  {
   "cell_type": "code",
   "execution_count": 37,
   "metadata": {},
   "outputs": [
    {
     "data": {
      "application/vnd.plotly.v1+json": {
       "config": {
        "plotlyServerURL": "https://plot.ly"
       },
       "data": [
        {
         "hovertemplate": "Edition=%{x}<br>No. of Countries=%{y}<extra></extra>",
         "legendgroup": "",
         "line": {
          "color": "#636efa",
          "dash": "solid"
         },
         "marker": {
          "symbol": "circle"
         },
         "mode": "lines",
         "name": "",
         "orientation": "v",
         "showlegend": false,
         "type": "scatter",
         "x": [
          1896,
          1900,
          1904,
          1906,
          1908,
          1912,
          1920,
          1924,
          1928,
          1932,
          1936,
          1948,
          1952,
          1956,
          1960,
          1964,
          1968,
          1972,
          1976,
          1980,
          1984,
          1988,
          1992,
          1996,
          2000,
          2004,
          2008,
          2012,
          2016
         ],
         "xaxis": "x",
         "y": [
          12,
          31,
          14,
          20,
          22,
          29,
          29,
          45,
          46,
          47,
          49,
          59,
          67,
          71,
          83,
          93,
          111,
          120,
          91,
          80,
          139,
          156,
          168,
          196,
          199,
          200,
          202,
          203,
          204
         ],
         "yaxis": "y"
        }
       ],
       "layout": {
        "legend": {
         "tracegroupgap": 0
        },
        "margin": {
         "t": 60
        },
        "template": {
         "data": {
          "bar": [
           {
            "error_x": {
             "color": "#2a3f5f"
            },
            "error_y": {
             "color": "#2a3f5f"
            },
            "marker": {
             "line": {
              "color": "#E5ECF6",
              "width": 0.5
             },
             "pattern": {
              "fillmode": "overlay",
              "size": 10,
              "solidity": 0.2
             }
            },
            "type": "bar"
           }
          ],
          "barpolar": [
           {
            "marker": {
             "line": {
              "color": "#E5ECF6",
              "width": 0.5
             },
             "pattern": {
              "fillmode": "overlay",
              "size": 10,
              "solidity": 0.2
             }
            },
            "type": "barpolar"
           }
          ],
          "carpet": [
           {
            "aaxis": {
             "endlinecolor": "#2a3f5f",
             "gridcolor": "white",
             "linecolor": "white",
             "minorgridcolor": "white",
             "startlinecolor": "#2a3f5f"
            },
            "baxis": {
             "endlinecolor": "#2a3f5f",
             "gridcolor": "white",
             "linecolor": "white",
             "minorgridcolor": "white",
             "startlinecolor": "#2a3f5f"
            },
            "type": "carpet"
           }
          ],
          "choropleth": [
           {
            "colorbar": {
             "outlinewidth": 0,
             "ticks": ""
            },
            "type": "choropleth"
           }
          ],
          "contour": [
           {
            "colorbar": {
             "outlinewidth": 0,
             "ticks": ""
            },
            "colorscale": [
             [
              0,
              "#0d0887"
             ],
             [
              0.1111111111111111,
              "#46039f"
             ],
             [
              0.2222222222222222,
              "#7201a8"
             ],
             [
              0.3333333333333333,
              "#9c179e"
             ],
             [
              0.4444444444444444,
              "#bd3786"
             ],
             [
              0.5555555555555556,
              "#d8576b"
             ],
             [
              0.6666666666666666,
              "#ed7953"
             ],
             [
              0.7777777777777778,
              "#fb9f3a"
             ],
             [
              0.8888888888888888,
              "#fdca26"
             ],
             [
              1,
              "#f0f921"
             ]
            ],
            "type": "contour"
           }
          ],
          "contourcarpet": [
           {
            "colorbar": {
             "outlinewidth": 0,
             "ticks": ""
            },
            "type": "contourcarpet"
           }
          ],
          "heatmap": [
           {
            "colorbar": {
             "outlinewidth": 0,
             "ticks": ""
            },
            "colorscale": [
             [
              0,
              "#0d0887"
             ],
             [
              0.1111111111111111,
              "#46039f"
             ],
             [
              0.2222222222222222,
              "#7201a8"
             ],
             [
              0.3333333333333333,
              "#9c179e"
             ],
             [
              0.4444444444444444,
              "#bd3786"
             ],
             [
              0.5555555555555556,
              "#d8576b"
             ],
             [
              0.6666666666666666,
              "#ed7953"
             ],
             [
              0.7777777777777778,
              "#fb9f3a"
             ],
             [
              0.8888888888888888,
              "#fdca26"
             ],
             [
              1,
              "#f0f921"
             ]
            ],
            "type": "heatmap"
           }
          ],
          "heatmapgl": [
           {
            "colorbar": {
             "outlinewidth": 0,
             "ticks": ""
            },
            "colorscale": [
             [
              0,
              "#0d0887"
             ],
             [
              0.1111111111111111,
              "#46039f"
             ],
             [
              0.2222222222222222,
              "#7201a8"
             ],
             [
              0.3333333333333333,
              "#9c179e"
             ],
             [
              0.4444444444444444,
              "#bd3786"
             ],
             [
              0.5555555555555556,
              "#d8576b"
             ],
             [
              0.6666666666666666,
              "#ed7953"
             ],
             [
              0.7777777777777778,
              "#fb9f3a"
             ],
             [
              0.8888888888888888,
              "#fdca26"
             ],
             [
              1,
              "#f0f921"
             ]
            ],
            "type": "heatmapgl"
           }
          ],
          "histogram": [
           {
            "marker": {
             "pattern": {
              "fillmode": "overlay",
              "size": 10,
              "solidity": 0.2
             }
            },
            "type": "histogram"
           }
          ],
          "histogram2d": [
           {
            "colorbar": {
             "outlinewidth": 0,
             "ticks": ""
            },
            "colorscale": [
             [
              0,
              "#0d0887"
             ],
             [
              0.1111111111111111,
              "#46039f"
             ],
             [
              0.2222222222222222,
              "#7201a8"
             ],
             [
              0.3333333333333333,
              "#9c179e"
             ],
             [
              0.4444444444444444,
              "#bd3786"
             ],
             [
              0.5555555555555556,
              "#d8576b"
             ],
             [
              0.6666666666666666,
              "#ed7953"
             ],
             [
              0.7777777777777778,
              "#fb9f3a"
             ],
             [
              0.8888888888888888,
              "#fdca26"
             ],
             [
              1,
              "#f0f921"
             ]
            ],
            "type": "histogram2d"
           }
          ],
          "histogram2dcontour": [
           {
            "colorbar": {
             "outlinewidth": 0,
             "ticks": ""
            },
            "colorscale": [
             [
              0,
              "#0d0887"
             ],
             [
              0.1111111111111111,
              "#46039f"
             ],
             [
              0.2222222222222222,
              "#7201a8"
             ],
             [
              0.3333333333333333,
              "#9c179e"
             ],
             [
              0.4444444444444444,
              "#bd3786"
             ],
             [
              0.5555555555555556,
              "#d8576b"
             ],
             [
              0.6666666666666666,
              "#ed7953"
             ],
             [
              0.7777777777777778,
              "#fb9f3a"
             ],
             [
              0.8888888888888888,
              "#fdca26"
             ],
             [
              1,
              "#f0f921"
             ]
            ],
            "type": "histogram2dcontour"
           }
          ],
          "mesh3d": [
           {
            "colorbar": {
             "outlinewidth": 0,
             "ticks": ""
            },
            "type": "mesh3d"
           }
          ],
          "parcoords": [
           {
            "line": {
             "colorbar": {
              "outlinewidth": 0,
              "ticks": ""
             }
            },
            "type": "parcoords"
           }
          ],
          "pie": [
           {
            "automargin": true,
            "type": "pie"
           }
          ],
          "scatter": [
           {
            "fillpattern": {
             "fillmode": "overlay",
             "size": 10,
             "solidity": 0.2
            },
            "type": "scatter"
           }
          ],
          "scatter3d": [
           {
            "line": {
             "colorbar": {
              "outlinewidth": 0,
              "ticks": ""
             }
            },
            "marker": {
             "colorbar": {
              "outlinewidth": 0,
              "ticks": ""
             }
            },
            "type": "scatter3d"
           }
          ],
          "scattercarpet": [
           {
            "marker": {
             "colorbar": {
              "outlinewidth": 0,
              "ticks": ""
             }
            },
            "type": "scattercarpet"
           }
          ],
          "scattergeo": [
           {
            "marker": {
             "colorbar": {
              "outlinewidth": 0,
              "ticks": ""
             }
            },
            "type": "scattergeo"
           }
          ],
          "scattergl": [
           {
            "marker": {
             "colorbar": {
              "outlinewidth": 0,
              "ticks": ""
             }
            },
            "type": "scattergl"
           }
          ],
          "scattermapbox": [
           {
            "marker": {
             "colorbar": {
              "outlinewidth": 0,
              "ticks": ""
             }
            },
            "type": "scattermapbox"
           }
          ],
          "scatterpolar": [
           {
            "marker": {
             "colorbar": {
              "outlinewidth": 0,
              "ticks": ""
             }
            },
            "type": "scatterpolar"
           }
          ],
          "scatterpolargl": [
           {
            "marker": {
             "colorbar": {
              "outlinewidth": 0,
              "ticks": ""
             }
            },
            "type": "scatterpolargl"
           }
          ],
          "scatterternary": [
           {
            "marker": {
             "colorbar": {
              "outlinewidth": 0,
              "ticks": ""
             }
            },
            "type": "scatterternary"
           }
          ],
          "surface": [
           {
            "colorbar": {
             "outlinewidth": 0,
             "ticks": ""
            },
            "colorscale": [
             [
              0,
              "#0d0887"
             ],
             [
              0.1111111111111111,
              "#46039f"
             ],
             [
              0.2222222222222222,
              "#7201a8"
             ],
             [
              0.3333333333333333,
              "#9c179e"
             ],
             [
              0.4444444444444444,
              "#bd3786"
             ],
             [
              0.5555555555555556,
              "#d8576b"
             ],
             [
              0.6666666666666666,
              "#ed7953"
             ],
             [
              0.7777777777777778,
              "#fb9f3a"
             ],
             [
              0.8888888888888888,
              "#fdca26"
             ],
             [
              1,
              "#f0f921"
             ]
            ],
            "type": "surface"
           }
          ],
          "table": [
           {
            "cells": {
             "fill": {
              "color": "#EBF0F8"
             },
             "line": {
              "color": "white"
             }
            },
            "header": {
             "fill": {
              "color": "#C8D4E3"
             },
             "line": {
              "color": "white"
             }
            },
            "type": "table"
           }
          ]
         },
         "layout": {
          "annotationdefaults": {
           "arrowcolor": "#2a3f5f",
           "arrowhead": 0,
           "arrowwidth": 1
          },
          "autotypenumbers": "strict",
          "coloraxis": {
           "colorbar": {
            "outlinewidth": 0,
            "ticks": ""
           }
          },
          "colorscale": {
           "diverging": [
            [
             0,
             "#8e0152"
            ],
            [
             0.1,
             "#c51b7d"
            ],
            [
             0.2,
             "#de77ae"
            ],
            [
             0.3,
             "#f1b6da"
            ],
            [
             0.4,
             "#fde0ef"
            ],
            [
             0.5,
             "#f7f7f7"
            ],
            [
             0.6,
             "#e6f5d0"
            ],
            [
             0.7,
             "#b8e186"
            ],
            [
             0.8,
             "#7fbc41"
            ],
            [
             0.9,
             "#4d9221"
            ],
            [
             1,
             "#276419"
            ]
           ],
           "sequential": [
            [
             0,
             "#0d0887"
            ],
            [
             0.1111111111111111,
             "#46039f"
            ],
            [
             0.2222222222222222,
             "#7201a8"
            ],
            [
             0.3333333333333333,
             "#9c179e"
            ],
            [
             0.4444444444444444,
             "#bd3786"
            ],
            [
             0.5555555555555556,
             "#d8576b"
            ],
            [
             0.6666666666666666,
             "#ed7953"
            ],
            [
             0.7777777777777778,
             "#fb9f3a"
            ],
            [
             0.8888888888888888,
             "#fdca26"
            ],
            [
             1,
             "#f0f921"
            ]
           ],
           "sequentialminus": [
            [
             0,
             "#0d0887"
            ],
            [
             0.1111111111111111,
             "#46039f"
            ],
            [
             0.2222222222222222,
             "#7201a8"
            ],
            [
             0.3333333333333333,
             "#9c179e"
            ],
            [
             0.4444444444444444,
             "#bd3786"
            ],
            [
             0.5555555555555556,
             "#d8576b"
            ],
            [
             0.6666666666666666,
             "#ed7953"
            ],
            [
             0.7777777777777778,
             "#fb9f3a"
            ],
            [
             0.8888888888888888,
             "#fdca26"
            ],
            [
             1,
             "#f0f921"
            ]
           ]
          },
          "colorway": [
           "#636efa",
           "#EF553B",
           "#00cc96",
           "#ab63fa",
           "#FFA15A",
           "#19d3f3",
           "#FF6692",
           "#B6E880",
           "#FF97FF",
           "#FECB52"
          ],
          "font": {
           "color": "#2a3f5f"
          },
          "geo": {
           "bgcolor": "white",
           "lakecolor": "white",
           "landcolor": "#E5ECF6",
           "showlakes": true,
           "showland": true,
           "subunitcolor": "white"
          },
          "hoverlabel": {
           "align": "left"
          },
          "hovermode": "closest",
          "mapbox": {
           "style": "light"
          },
          "paper_bgcolor": "white",
          "plot_bgcolor": "#E5ECF6",
          "polar": {
           "angularaxis": {
            "gridcolor": "white",
            "linecolor": "white",
            "ticks": ""
           },
           "bgcolor": "#E5ECF6",
           "radialaxis": {
            "gridcolor": "white",
            "linecolor": "white",
            "ticks": ""
           }
          },
          "scene": {
           "xaxis": {
            "backgroundcolor": "#E5ECF6",
            "gridcolor": "white",
            "gridwidth": 2,
            "linecolor": "white",
            "showbackground": true,
            "ticks": "",
            "zerolinecolor": "white"
           },
           "yaxis": {
            "backgroundcolor": "#E5ECF6",
            "gridcolor": "white",
            "gridwidth": 2,
            "linecolor": "white",
            "showbackground": true,
            "ticks": "",
            "zerolinecolor": "white"
           },
           "zaxis": {
            "backgroundcolor": "#E5ECF6",
            "gridcolor": "white",
            "gridwidth": 2,
            "linecolor": "white",
            "showbackground": true,
            "ticks": "",
            "zerolinecolor": "white"
           }
          },
          "shapedefaults": {
           "line": {
            "color": "#2a3f5f"
           }
          },
          "ternary": {
           "aaxis": {
            "gridcolor": "white",
            "linecolor": "white",
            "ticks": ""
           },
           "baxis": {
            "gridcolor": "white",
            "linecolor": "white",
            "ticks": ""
           },
           "bgcolor": "#E5ECF6",
           "caxis": {
            "gridcolor": "white",
            "linecolor": "white",
            "ticks": ""
           }
          },
          "title": {
           "x": 0.05
          },
          "xaxis": {
           "automargin": true,
           "gridcolor": "white",
           "linecolor": "white",
           "ticks": "",
           "title": {
            "standoff": 15
           },
           "zerolinecolor": "white",
           "zerolinewidth": 2
          },
          "yaxis": {
           "automargin": true,
           "gridcolor": "white",
           "linecolor": "white",
           "ticks": "",
           "title": {
            "standoff": 15
           },
           "zerolinecolor": "white",
           "zerolinewidth": 2
          }
         }
        },
        "xaxis": {
         "anchor": "y",
         "domain": [
          0,
          1
         ],
         "title": {
          "text": "Edition"
         }
        },
        "yaxis": {
         "anchor": "x",
         "domain": [
          0,
          1
         ],
         "title": {
          "text": "No. of Countries"
         }
        }
       }
      }
     },
     "metadata": {},
     "output_type": "display_data"
    }
   ],
   "source": [
    "fig = px.line(nations_over_time, x = 'Edition', y = 'No. of Countries')\n",
    "fig.show()"
   ]
  },
  {
   "cell_type": "code",
   "execution_count": 38,
   "metadata": {},
   "outputs": [
    {
     "data": {
      "text/html": [
       "<div>\n",
       "<style scoped>\n",
       "    .dataframe tbody tr th:only-of-type {\n",
       "        vertical-align: middle;\n",
       "    }\n",
       "\n",
       "    .dataframe tbody tr th {\n",
       "        vertical-align: top;\n",
       "    }\n",
       "\n",
       "    .dataframe thead th {\n",
       "        text-align: right;\n",
       "    }\n",
       "</style>\n",
       "<table border=\"1\" class=\"dataframe\">\n",
       "  <thead>\n",
       "    <tr style=\"text-align: right;\">\n",
       "      <th></th>\n",
       "      <th>Year</th>\n",
       "      <th>count</th>\n",
       "    </tr>\n",
       "  </thead>\n",
       "  <tbody>\n",
       "    <tr>\n",
       "      <th>0</th>\n",
       "      <td>1896</td>\n",
       "      <td>43</td>\n",
       "    </tr>\n",
       "    <tr>\n",
       "      <th>1</th>\n",
       "      <td>1900</td>\n",
       "      <td>90</td>\n",
       "    </tr>\n",
       "    <tr>\n",
       "      <th>2</th>\n",
       "      <td>1904</td>\n",
       "      <td>95</td>\n",
       "    </tr>\n",
       "    <tr>\n",
       "      <th>3</th>\n",
       "      <td>1906</td>\n",
       "      <td>74</td>\n",
       "    </tr>\n",
       "    <tr>\n",
       "      <th>4</th>\n",
       "      <td>1908</td>\n",
       "      <td>109</td>\n",
       "    </tr>\n",
       "    <tr>\n",
       "      <th>5</th>\n",
       "      <td>1912</td>\n",
       "      <td>107</td>\n",
       "    </tr>\n",
       "    <tr>\n",
       "      <th>6</th>\n",
       "      <td>1920</td>\n",
       "      <td>158</td>\n",
       "    </tr>\n",
       "    <tr>\n",
       "      <th>7</th>\n",
       "      <td>1924</td>\n",
       "      <td>131</td>\n",
       "    </tr>\n",
       "    <tr>\n",
       "      <th>8</th>\n",
       "      <td>1928</td>\n",
       "      <td>122</td>\n",
       "    </tr>\n",
       "    <tr>\n",
       "      <th>9</th>\n",
       "      <td>1932</td>\n",
       "      <td>131</td>\n",
       "    </tr>\n",
       "    <tr>\n",
       "      <th>10</th>\n",
       "      <td>1936</td>\n",
       "      <td>150</td>\n",
       "    </tr>\n",
       "    <tr>\n",
       "      <th>11</th>\n",
       "      <td>1948</td>\n",
       "      <td>153</td>\n",
       "    </tr>\n",
       "    <tr>\n",
       "      <th>12</th>\n",
       "      <td>1952</td>\n",
       "      <td>149</td>\n",
       "    </tr>\n",
       "    <tr>\n",
       "      <th>13</th>\n",
       "      <td>1956</td>\n",
       "      <td>151</td>\n",
       "    </tr>\n",
       "    <tr>\n",
       "      <th>14</th>\n",
       "      <td>1960</td>\n",
       "      <td>150</td>\n",
       "    </tr>\n",
       "    <tr>\n",
       "      <th>15</th>\n",
       "      <td>1964</td>\n",
       "      <td>163</td>\n",
       "    </tr>\n",
       "    <tr>\n",
       "      <th>16</th>\n",
       "      <td>1968</td>\n",
       "      <td>172</td>\n",
       "    </tr>\n",
       "    <tr>\n",
       "      <th>17</th>\n",
       "      <td>1972</td>\n",
       "      <td>193</td>\n",
       "    </tr>\n",
       "    <tr>\n",
       "      <th>18</th>\n",
       "      <td>1976</td>\n",
       "      <td>198</td>\n",
       "    </tr>\n",
       "    <tr>\n",
       "      <th>19</th>\n",
       "      <td>1980</td>\n",
       "      <td>203</td>\n",
       "    </tr>\n",
       "    <tr>\n",
       "      <th>20</th>\n",
       "      <td>1984</td>\n",
       "      <td>221</td>\n",
       "    </tr>\n",
       "    <tr>\n",
       "      <th>21</th>\n",
       "      <td>1988</td>\n",
       "      <td>237</td>\n",
       "    </tr>\n",
       "    <tr>\n",
       "      <th>22</th>\n",
       "      <td>1992</td>\n",
       "      <td>257</td>\n",
       "    </tr>\n",
       "    <tr>\n",
       "      <th>23</th>\n",
       "      <td>1996</td>\n",
       "      <td>271</td>\n",
       "    </tr>\n",
       "    <tr>\n",
       "      <th>24</th>\n",
       "      <td>2000</td>\n",
       "      <td>300</td>\n",
       "    </tr>\n",
       "    <tr>\n",
       "      <th>25</th>\n",
       "      <td>2004</td>\n",
       "      <td>301</td>\n",
       "    </tr>\n",
       "    <tr>\n",
       "      <th>26</th>\n",
       "      <td>2008</td>\n",
       "      <td>302</td>\n",
       "    </tr>\n",
       "    <tr>\n",
       "      <th>27</th>\n",
       "      <td>2012</td>\n",
       "      <td>302</td>\n",
       "    </tr>\n",
       "    <tr>\n",
       "      <th>28</th>\n",
       "      <td>2016</td>\n",
       "      <td>306</td>\n",
       "    </tr>\n",
       "  </tbody>\n",
       "</table>\n",
       "</div>"
      ],
      "text/plain": [
       "    Year  count\n",
       "0   1896     43\n",
       "1   1900     90\n",
       "2   1904     95\n",
       "3   1906     74\n",
       "4   1908    109\n",
       "5   1912    107\n",
       "6   1920    158\n",
       "7   1924    131\n",
       "8   1928    122\n",
       "9   1932    131\n",
       "10  1936    150\n",
       "11  1948    153\n",
       "12  1952    149\n",
       "13  1956    151\n",
       "14  1960    150\n",
       "15  1964    163\n",
       "16  1968    172\n",
       "17  1972    193\n",
       "18  1976    198\n",
       "19  1980    203\n",
       "20  1984    221\n",
       "21  1988    237\n",
       "22  1992    257\n",
       "23  1996    271\n",
       "24  2000    300\n",
       "25  2004    301\n",
       "26  2008    302\n",
       "27  2012    302\n",
       "28  2016    306"
      ]
     },
     "execution_count": 38,
     "metadata": {},
     "output_type": "execute_result"
    }
   ],
   "source": [
    "pd.DataFrame(df.drop_duplicates(['Year', 'Event'])['Year'].value_counts().sort_index()).reset_index()"
   ]
  },
  {
   "cell_type": "code",
   "execution_count": 39,
   "metadata": {},
   "outputs": [],
   "source": [
    "import seaborn as sns\n",
    "import matplotlib.pyplot as plt"
   ]
  },
  {
   "cell_type": "code",
   "execution_count": 40,
   "metadata": {},
   "outputs": [
    {
     "data": {
      "text/plain": [
       "<Axes: xlabel='Year', ylabel='Sport'>"
      ]
     },
     "execution_count": 40,
     "metadata": {},
     "output_type": "execute_result"
    },
    {
     "data": {
      "image/png": "[encoded data removed]",
      "text/plain": [
       "<Figure size 2500x2500 with 2 Axes>"
      ]
     },
     "metadata": {},
     "output_type": "display_data"
    }
   ],
   "source": [
    "x = df.drop_duplicates(['Year', 'Sport', 'Event'])\n",
    "plt.figure(figsize=(25,25))\n",
    "sns.heatmap(x.pivot_table(index='Sport', columns = 'Year', values='Event', aggfunc='count').fillna(0).astype('int'), annot=True)"
   ]
  },
  {
   "cell_type": "code",
   "execution_count": 56,
   "metadata": {},
   "outputs": [
    {
     "data": {
      "text/html": [
       "<div>\n",
       "<style scoped>\n",
       "    .dataframe tbody tr th:only-of-type {\n",
       "        vertical-align: middle;\n",
       "    }\n",
       "\n",
       "    .dataframe tbody tr th {\n",
       "        vertical-align: top;\n",
       "    }\n",
       "\n",
       "    .dataframe thead th {\n",
       "        text-align: right;\n",
       "    }\n",
       "</style>\n",
       "<table border=\"1\" class=\"dataframe\">\n",
       "  <thead>\n",
       "    <tr style=\"text-align: right;\">\n",
       "      <th></th>\n",
       "      <th>ID</th>\n",
       "      <th>Name</th>\n",
       "      <th>Sex</th>\n",
       "      <th>Age</th>\n",
       "      <th>Height</th>\n",
       "      <th>Weight</th>\n",
       "      <th>Team</th>\n",
       "      <th>NOC</th>\n",
       "      <th>Games</th>\n",
       "      <th>Year</th>\n",
       "      <th>Season</th>\n",
       "      <th>City</th>\n",
       "      <th>Sport</th>\n",
       "      <th>Event</th>\n",
       "      <th>Medal</th>\n",
       "      <th>region</th>\n",
       "      <th>notes</th>\n",
       "      <th>Bronze</th>\n",
       "      <th>Gold</th>\n",
       "      <th>Silver</th>\n",
       "    </tr>\n",
       "  </thead>\n",
       "  <tbody>\n",
       "    <tr>\n",
       "      <th>0</th>\n",
       "      <td>1</td>\n",
       "      <td>A Dijiang</td>\n",
       "      <td>M</td>\n",
       "      <td>24.0</td>\n",
       "      <td>180.0</td>\n",
       "      <td>80.0</td>\n",
       "      <td>China</td>\n",
       "      <td>CHN</td>\n",
       "      <td>1992 Summer</td>\n",
       "      <td>1992</td>\n",
       "      <td>Summer</td>\n",
       "      <td>Barcelona</td>\n",
       "      <td>Basketball</td>\n",
       "      <td>Basketball Men's Basketball</td>\n",
       "      <td>NaN</td>\n",
       "      <td>China</td>\n",
       "      <td>NaN</td>\n",
       "      <td>0</td>\n",
       "      <td>0</td>\n",
       "      <td>0</td>\n",
       "    </tr>\n",
       "    <tr>\n",
       "      <th>1</th>\n",
       "      <td>2</td>\n",
       "      <td>A Lamusi</td>\n",
       "      <td>M</td>\n",
       "      <td>23.0</td>\n",
       "      <td>170.0</td>\n",
       "      <td>60.0</td>\n",
       "      <td>China</td>\n",
       "      <td>CHN</td>\n",
       "      <td>2012 Summer</td>\n",
       "      <td>2012</td>\n",
       "      <td>Summer</td>\n",
       "      <td>London</td>\n",
       "      <td>Judo</td>\n",
       "      <td>Judo Men's Extra-Lightweight</td>\n",
       "      <td>NaN</td>\n",
       "      <td>China</td>\n",
       "      <td>NaN</td>\n",
       "      <td>0</td>\n",
       "      <td>0</td>\n",
       "      <td>0</td>\n",
       "    </tr>\n",
       "    <tr>\n",
       "      <th>2</th>\n",
       "      <td>3</td>\n",
       "      <td>Gunnar Nielsen Aaby</td>\n",
       "      <td>M</td>\n",
       "      <td>24.0</td>\n",
       "      <td>NaN</td>\n",
       "      <td>NaN</td>\n",
       "      <td>Denmark</td>\n",
       "      <td>DEN</td>\n",
       "      <td>1920 Summer</td>\n",
       "      <td>1920</td>\n",
       "      <td>Summer</td>\n",
       "      <td>Antwerpen</td>\n",
       "      <td>Football</td>\n",
       "      <td>Football Men's Football</td>\n",
       "      <td>NaN</td>\n",
       "      <td>Denmark</td>\n",
       "      <td>NaN</td>\n",
       "      <td>0</td>\n",
       "      <td>0</td>\n",
       "      <td>0</td>\n",
       "    </tr>\n",
       "    <tr>\n",
       "      <th>3</th>\n",
       "      <td>4</td>\n",
       "      <td>Edgar Lindenau Aabye</td>\n",
       "      <td>M</td>\n",
       "      <td>34.0</td>\n",
       "      <td>NaN</td>\n",
       "      <td>NaN</td>\n",
       "      <td>Denmark/Sweden</td>\n",
       "      <td>DEN</td>\n",
       "      <td>1900 Summer</td>\n",
       "      <td>1900</td>\n",
       "      <td>Summer</td>\n",
       "      <td>Paris</td>\n",
       "      <td>Tug-Of-War</td>\n",
       "      <td>Tug-Of-War Men's Tug-Of-War</td>\n",
       "      <td>Gold</td>\n",
       "      <td>Denmark</td>\n",
       "      <td>NaN</td>\n",
       "      <td>0</td>\n",
       "      <td>1</td>\n",
       "      <td>0</td>\n",
       "    </tr>\n",
       "    <tr>\n",
       "      <th>4</th>\n",
       "      <td>8</td>\n",
       "      <td>Cornelia \"Cor\" Aalten (-Strannood)</td>\n",
       "      <td>F</td>\n",
       "      <td>18.0</td>\n",
       "      <td>168.0</td>\n",
       "      <td>NaN</td>\n",
       "      <td>Netherlands</td>\n",
       "      <td>NED</td>\n",
       "      <td>1932 Summer</td>\n",
       "      <td>1932</td>\n",
       "      <td>Summer</td>\n",
       "      <td>Los Angeles</td>\n",
       "      <td>Athletics</td>\n",
       "      <td>Athletics Women's 100 metres</td>\n",
       "      <td>NaN</td>\n",
       "      <td>Netherlands</td>\n",
       "      <td>NaN</td>\n",
       "      <td>0</td>\n",
       "      <td>0</td>\n",
       "      <td>0</td>\n",
       "    </tr>\n",
       "    <tr>\n",
       "      <th>...</th>\n",
       "      <td>...</td>\n",
       "      <td>...</td>\n",
       "      <td>...</td>\n",
       "      <td>...</td>\n",
       "      <td>...</td>\n",
       "      <td>...</td>\n",
       "      <td>...</td>\n",
       "      <td>...</td>\n",
       "      <td>...</td>\n",
       "      <td>...</td>\n",
       "      <td>...</td>\n",
       "      <td>...</td>\n",
       "      <td>...</td>\n",
       "      <td>...</td>\n",
       "      <td>...</td>\n",
       "      <td>...</td>\n",
       "      <td>...</td>\n",
       "      <td>...</td>\n",
       "      <td>...</td>\n",
       "      <td>...</td>\n",
       "    </tr>\n",
       "    <tr>\n",
       "      <th>222547</th>\n",
       "      <td>135565</td>\n",
       "      <td>Fernando scar Zylberberg</td>\n",
       "      <td>M</td>\n",
       "      <td>27.0</td>\n",
       "      <td>168.0</td>\n",
       "      <td>76.0</td>\n",
       "      <td>Argentina</td>\n",
       "      <td>ARG</td>\n",
       "      <td>2004 Summer</td>\n",
       "      <td>2004</td>\n",
       "      <td>Summer</td>\n",
       "      <td>Athina</td>\n",
       "      <td>Hockey</td>\n",
       "      <td>Hockey Men's Hockey</td>\n",
       "      <td>NaN</td>\n",
       "      <td>Argentina</td>\n",
       "      <td>NaN</td>\n",
       "      <td>0</td>\n",
       "      <td>0</td>\n",
       "      <td>0</td>\n",
       "    </tr>\n",
       "    <tr>\n",
       "      <th>222548</th>\n",
       "      <td>135566</td>\n",
       "      <td>James Francis \"Jim\" Zylker</td>\n",
       "      <td>M</td>\n",
       "      <td>21.0</td>\n",
       "      <td>175.0</td>\n",
       "      <td>75.0</td>\n",
       "      <td>United States</td>\n",
       "      <td>USA</td>\n",
       "      <td>1972 Summer</td>\n",
       "      <td>1972</td>\n",
       "      <td>Summer</td>\n",
       "      <td>Munich</td>\n",
       "      <td>Football</td>\n",
       "      <td>Football Men's Football</td>\n",
       "      <td>NaN</td>\n",
       "      <td>USA</td>\n",
       "      <td>NaN</td>\n",
       "      <td>0</td>\n",
       "      <td>0</td>\n",
       "      <td>0</td>\n",
       "    </tr>\n",
       "    <tr>\n",
       "      <th>222549</th>\n",
       "      <td>135567</td>\n",
       "      <td>Aleksandr Viktorovich Zyuzin</td>\n",
       "      <td>M</td>\n",
       "      <td>24.0</td>\n",
       "      <td>183.0</td>\n",
       "      <td>72.0</td>\n",
       "      <td>Russia</td>\n",
       "      <td>RUS</td>\n",
       "      <td>2000 Summer</td>\n",
       "      <td>2000</td>\n",
       "      <td>Summer</td>\n",
       "      <td>Sydney</td>\n",
       "      <td>Rowing</td>\n",
       "      <td>Rowing Men's Lightweight Coxless Fours</td>\n",
       "      <td>NaN</td>\n",
       "      <td>Russia</td>\n",
       "      <td>NaN</td>\n",
       "      <td>0</td>\n",
       "      <td>0</td>\n",
       "      <td>0</td>\n",
       "    </tr>\n",
       "    <tr>\n",
       "      <th>222550</th>\n",
       "      <td>135567</td>\n",
       "      <td>Aleksandr Viktorovich Zyuzin</td>\n",
       "      <td>M</td>\n",
       "      <td>28.0</td>\n",
       "      <td>183.0</td>\n",
       "      <td>72.0</td>\n",
       "      <td>Russia</td>\n",
       "      <td>RUS</td>\n",
       "      <td>2004 Summer</td>\n",
       "      <td>2004</td>\n",
       "      <td>Summer</td>\n",
       "      <td>Athina</td>\n",
       "      <td>Rowing</td>\n",
       "      <td>Rowing Men's Lightweight Coxless Fours</td>\n",
       "      <td>NaN</td>\n",
       "      <td>Russia</td>\n",
       "      <td>NaN</td>\n",
       "      <td>0</td>\n",
       "      <td>0</td>\n",
       "      <td>0</td>\n",
       "    </tr>\n",
       "    <tr>\n",
       "      <th>222551</th>\n",
       "      <td>135568</td>\n",
       "      <td>Olga Igorevna Zyuzkova</td>\n",
       "      <td>F</td>\n",
       "      <td>33.0</td>\n",
       "      <td>171.0</td>\n",
       "      <td>69.0</td>\n",
       "      <td>Belarus</td>\n",
       "      <td>BLR</td>\n",
       "      <td>2016 Summer</td>\n",
       "      <td>2016</td>\n",
       "      <td>Summer</td>\n",
       "      <td>Rio de Janeiro</td>\n",
       "      <td>Basketball</td>\n",
       "      <td>Basketball Women's Basketball</td>\n",
       "      <td>NaN</td>\n",
       "      <td>Belarus</td>\n",
       "      <td>NaN</td>\n",
       "      <td>0</td>\n",
       "      <td>0</td>\n",
       "      <td>0</td>\n",
       "    </tr>\n",
       "  </tbody>\n",
       "</table>\n",
       "<p>221167 rows × 20 columns</p>\n",
       "</div>"
      ],
      "text/plain": [
       "            ID                                Name Sex   Age  Height  Weight  \\\n",
       "0            1                           A Dijiang   M  24.0   180.0    80.0   \n",
       "1            2                            A Lamusi   M  23.0   170.0    60.0   \n",
       "2            3                 Gunnar Nielsen Aaby   M  24.0     NaN     NaN   \n",
       "3            4                Edgar Lindenau Aabye   M  34.0     NaN     NaN   \n",
       "4            8  Cornelia \"Cor\" Aalten (-Strannood)   F  18.0   168.0     NaN   \n",
       "...        ...                                 ...  ..   ...     ...     ...   \n",
       "222547  135565            Fernando scar Zylberberg   M  27.0   168.0    76.0   \n",
       "222548  135566          James Francis \"Jim\" Zylker   M  21.0   175.0    75.0   \n",
       "222549  135567        Aleksandr Viktorovich Zyuzin   M  24.0   183.0    72.0   \n",
       "222550  135567        Aleksandr Viktorovich Zyuzin   M  28.0   183.0    72.0   \n",
       "222551  135568              Olga Igorevna Zyuzkova   F  33.0   171.0    69.0   \n",
       "\n",
       "                  Team  NOC        Games  Year  Season            City  \\\n",
       "0                China  CHN  1992 Summer  1992  Summer       Barcelona   \n",
       "1                China  CHN  2012 Summer  2012  Summer          London   \n",
       "2              Denmark  DEN  1920 Summer  1920  Summer       Antwerpen   \n",
       "3       Denmark/Sweden  DEN  1900 Summer  1900  Summer           Paris   \n",
       "4          Netherlands  NED  1932 Summer  1932  Summer     Los Angeles   \n",
       "...                ...  ...          ...   ...     ...             ...   \n",
       "222547       Argentina  ARG  2004 Summer  2004  Summer          Athina   \n",
       "222548   United States  USA  1972 Summer  1972  Summer          Munich   \n",
       "222549          Russia  RUS  2000 Summer  2000  Summer          Sydney   \n",
       "222550          Russia  RUS  2004 Summer  2004  Summer          Athina   \n",
       "222551         Belarus  BLR  2016 Summer  2016  Summer  Rio de Janeiro   \n",
       "\n",
       "             Sport                                   Event Medal       region  \\\n",
       "0       Basketball             Basketball Men's Basketball   NaN        China   \n",
       "1             Judo            Judo Men's Extra-Lightweight   NaN        China   \n",
       "2         Football                 Football Men's Football   NaN      Denmark   \n",
       "3       Tug-Of-War             Tug-Of-War Men's Tug-Of-War  Gold      Denmark   \n",
       "4        Athletics            Athletics Women's 100 metres   NaN  Netherlands   \n",
       "...            ...                                     ...   ...          ...   \n",
       "222547      Hockey                     Hockey Men's Hockey   NaN    Argentina   \n",
       "222548    Football                 Football Men's Football   NaN          USA   \n",
       "222549      Rowing  Rowing Men's Lightweight Coxless Fours   NaN       Russia   \n",
       "222550      Rowing  Rowing Men's Lightweight Coxless Fours   NaN       Russia   \n",
       "222551  Basketball           Basketball Women's Basketball   NaN      Belarus   \n",
       "\n",
       "       notes  Bronze  Gold  Silver  \n",
       "0        NaN       0     0       0  \n",
       "1        NaN       0     0       0  \n",
       "2        NaN       0     0       0  \n",
       "3        NaN       0     1       0  \n",
       "4        NaN       0     0       0  \n",
       "...      ...     ...   ...     ...  \n",
       "222547   NaN       0     0       0  \n",
       "222548   NaN       0     0       0  \n",
       "222549   NaN       0     0       0  \n",
       "222550   NaN       0     0       0  \n",
       "222551   NaN       0     0       0  \n",
       "\n",
       "[221167 rows x 20 columns]"
      ]
     },
     "execution_count": 56,
     "metadata": {},
     "output_type": "execute_result"
    }
   ],
   "source": [
    "df"
   ]
  },
  {
   "cell_type": "code",
   "execution_count": 60,
   "metadata": {},
   "outputs": [],
   "source": [
    "def most_successful(df,sport):\n",
    "    temp_df = df.dropna(subset=['Medal'])\n",
    "    if sport!='Overall':\n",
    "        temp_df = temp_df[temp_df['Sport']==sport]\n",
    "    x = temp_df['Name'].value_counts().reset_index().head(15).merge(df, left_on = 'Name', right_on='Name', how='left')[['Name','count', 'Sport', 'region']].drop_duplicates('Name')\n",
    "    x.rename(columns={'count':'Medals'}, inplace=True)\n",
    "    return x"
   ]
  },
  {
   "cell_type": "code",
   "execution_count": 61,
   "metadata": {},
   "outputs": [
    {
     "data": {
      "text/html": [
       "<div>\n",
       "<style scoped>\n",
       "    .dataframe tbody tr th:only-of-type {\n",
       "        vertical-align: middle;\n",
       "    }\n",
       "\n",
       "    .dataframe tbody tr th {\n",
       "        vertical-align: top;\n",
       "    }\n",
       "\n",
       "    .dataframe thead th {\n",
       "        text-align: right;\n",
       "    }\n",
       "</style>\n",
       "<table border=\"1\" class=\"dataframe\">\n",
       "  <thead>\n",
       "    <tr style=\"text-align: right;\">\n",
       "      <th></th>\n",
       "      <th>Name</th>\n",
       "      <th>Medals</th>\n",
       "      <th>Sport</th>\n",
       "      <th>region</th>\n",
       "    </tr>\n",
       "  </thead>\n",
       "  <tbody>\n",
       "    <tr>\n",
       "      <th>0</th>\n",
       "      <td>Michael Fred Phelps, II</td>\n",
       "      <td>28</td>\n",
       "      <td>Swimming</td>\n",
       "      <td>USA</td>\n",
       "    </tr>\n",
       "    <tr>\n",
       "      <th>30</th>\n",
       "      <td>Larysa Semenivna Latynina (Diriy-)</td>\n",
       "      <td>18</td>\n",
       "      <td>Gymnastics</td>\n",
       "      <td>Russia</td>\n",
       "    </tr>\n",
       "    <tr>\n",
       "      <th>49</th>\n",
       "      <td>Nikolay Yefimovich Andrianov</td>\n",
       "      <td>15</td>\n",
       "      <td>Gymnastics</td>\n",
       "      <td>Russia</td>\n",
       "    </tr>\n",
       "    <tr>\n",
       "      <th>73</th>\n",
       "      <td>Borys Anfiyanovych Shakhlin</td>\n",
       "      <td>13</td>\n",
       "      <td>Gymnastics</td>\n",
       "      <td>Russia</td>\n",
       "    </tr>\n",
       "    <tr>\n",
       "      <th>97</th>\n",
       "      <td>Takashi Ono</td>\n",
       "      <td>13</td>\n",
       "      <td>Gymnastics</td>\n",
       "      <td>Japan</td>\n",
       "    </tr>\n",
       "    <tr>\n",
       "      <th>130</th>\n",
       "      <td>Edoardo Mangiarotti</td>\n",
       "      <td>13</td>\n",
       "      <td>Fencing</td>\n",
       "      <td>Italy</td>\n",
       "    </tr>\n",
       "    <tr>\n",
       "      <th>144</th>\n",
       "      <td>Dara Grace Torres (-Hoffman, -Minas)</td>\n",
       "      <td>12</td>\n",
       "      <td>Swimming</td>\n",
       "      <td>USA</td>\n",
       "    </tr>\n",
       "    <tr>\n",
       "      <th>157</th>\n",
       "      <td>Aleksey Yuryevich Nemov</td>\n",
       "      <td>12</td>\n",
       "      <td>Gymnastics</td>\n",
       "      <td>Russia</td>\n",
       "    </tr>\n",
       "    <tr>\n",
       "      <th>178</th>\n",
       "      <td>Jennifer Elisabeth \"Jenny\" Thompson (-Cumpelik)</td>\n",
       "      <td>12</td>\n",
       "      <td>Swimming</td>\n",
       "      <td>USA</td>\n",
       "    </tr>\n",
       "    <tr>\n",
       "      <th>195</th>\n",
       "      <td>Birgit Fischer-Schmidt</td>\n",
       "      <td>12</td>\n",
       "      <td>Canoeing</td>\n",
       "      <td>Germany</td>\n",
       "    </tr>\n",
       "    <tr>\n",
       "      <th>208</th>\n",
       "      <td>Ryan Steven Lochte</td>\n",
       "      <td>12</td>\n",
       "      <td>Swimming</td>\n",
       "      <td>USA</td>\n",
       "    </tr>\n",
       "    <tr>\n",
       "      <th>222</th>\n",
       "      <td>Paavo Johannes Nurmi</td>\n",
       "      <td>12</td>\n",
       "      <td>Athletics</td>\n",
       "      <td>Finland</td>\n",
       "    </tr>\n",
       "    <tr>\n",
       "      <th>234</th>\n",
       "      <td>Sawao Kato</td>\n",
       "      <td>12</td>\n",
       "      <td>Gymnastics</td>\n",
       "      <td>Japan</td>\n",
       "    </tr>\n",
       "    <tr>\n",
       "      <th>258</th>\n",
       "      <td>Natalie Anne Coughlin (-Hall)</td>\n",
       "      <td>12</td>\n",
       "      <td>Swimming</td>\n",
       "      <td>USA</td>\n",
       "    </tr>\n",
       "    <tr>\n",
       "      <th>270</th>\n",
       "      <td>Matthew Nicholas \"Matt\" Biondi</td>\n",
       "      <td>11</td>\n",
       "      <td>Swimming</td>\n",
       "      <td>USA</td>\n",
       "    </tr>\n",
       "  </tbody>\n",
       "</table>\n",
       "</div>"
      ],
      "text/plain": [
       "                                                Name  Medals       Sport  \\\n",
       "0                            Michael Fred Phelps, II      28    Swimming   \n",
       "30                Larysa Semenivna Latynina (Diriy-)      18  Gymnastics   \n",
       "49                      Nikolay Yefimovich Andrianov      15  Gymnastics   \n",
       "73                       Borys Anfiyanovych Shakhlin      13  Gymnastics   \n",
       "97                                       Takashi Ono      13  Gymnastics   \n",
       "130                              Edoardo Mangiarotti      13     Fencing   \n",
       "144             Dara Grace Torres (-Hoffman, -Minas)      12    Swimming   \n",
       "157                          Aleksey Yuryevich Nemov      12  Gymnastics   \n",
       "178  Jennifer Elisabeth \"Jenny\" Thompson (-Cumpelik)      12    Swimming   \n",
       "195                           Birgit Fischer-Schmidt      12    Canoeing   \n",
       "208                               Ryan Steven Lochte      12    Swimming   \n",
       "222                             Paavo Johannes Nurmi      12   Athletics   \n",
       "234                                       Sawao Kato      12  Gymnastics   \n",
       "258                    Natalie Anne Coughlin (-Hall)      12    Swimming   \n",
       "270                   Matthew Nicholas \"Matt\" Biondi      11    Swimming   \n",
       "\n",
       "      region  \n",
       "0        USA  \n",
       "30    Russia  \n",
       "49    Russia  \n",
       "73    Russia  \n",
       "97     Japan  \n",
       "130    Italy  \n",
       "144      USA  \n",
       "157   Russia  \n",
       "178      USA  \n",
       "195  Germany  \n",
       "208      USA  \n",
       "222  Finland  \n",
       "234    Japan  \n",
       "258      USA  \n",
       "270      USA  "
      ]
     },
     "execution_count": 61,
     "metadata": {},
     "output_type": "execute_result"
    }
   ],
   "source": [
    "most_successful(df, 'Overall')"
   ]
  },
  {
   "cell_type": "raw",
   "metadata": {
    "vscode": {
     "languageId": "raw"
    }
   },
   "source": [
    "Country-Wise Analysis:\n",
    "    Country-wise medal tally per year(line plot)\n",
    "    What countries are good at (heatmap)\n",
    "    Most successful Athletes(Top 10)"
   ]
  },
  {
   "cell_type": "code",
   "execution_count": 65,
   "metadata": {},
   "outputs": [
    {
     "name": "stderr",
     "output_type": "stream",
     "text": [
      "C:\\Users\\panub\\AppData\\Local\\Temp\\ipykernel_20032\\1491488039.py:2: SettingWithCopyWarning:\n",
      "\n",
      "\n",
      "A value is trying to be set on a copy of a slice from a DataFrame\n",
      "\n",
      "See the caveats in the documentation: https://pandas.pydata.org/pandas-docs/stable/user_guide/indexing.html#returning-a-view-versus-a-copy\n",
      "\n"
     ]
    }
   ],
   "source": [
    "temp_df = df.dropna(subset=['Medal'])\n",
    "temp_df.drop_duplicates(subset= ['Team', 'NOC', 'Games', 'Year', 'City', 'Sport', 'Event', 'Medal'], inplace=True)"
   ]
  },
  {
   "cell_type": "code",
   "execution_count": 72,
   "metadata": {},
   "outputs": [],
   "source": [
    "new_df = temp_df[temp_df['region']=='India']\n",
    "final_df = new_df.groupby('Year').count()['Medal'].reset_index()"
   ]
  },
  {
   "cell_type": "code",
   "execution_count": 73,
   "metadata": {},
   "outputs": [
    {
     "data": {
      "application/vnd.plotly.v1+json": {
       "config": {
        "plotlyServerURL": "https://plot.ly"
       },
       "data": [
        {
         "hovertemplate": "Year=%{x}<br>Medal=%{y}<extra></extra>",
         "legendgroup": "",
         "line": {
          "color": "#636efa",
          "dash": "solid"
         },
         "marker": {
          "symbol": "circle"
         },
         "mode": "lines",
         "name": "",
         "orientation": "v",
         "showlegend": false,
         "type": "scatter",
         "x": [
          1900,
          1928,
          1932,
          1936,
          1948,
          1952,
          1956,
          1960,
          1964,
          1968,
          1972,
          1980,
          1996,
          2000,
          2004,
          2008,
          2012,
          2016
         ],
         "xaxis": "x",
         "y": [
          2,
          1,
          1,
          1,
          1,
          2,
          1,
          1,
          1,
          1,
          1,
          1,
          1,
          1,
          1,
          3,
          6,
          2
         ],
         "yaxis": "y"
        }
       ],
       "layout": {
        "legend": {
         "tracegroupgap": 0
        },
        "margin": {
         "t": 60
        },
        "template": {
         "data": {
          "bar": [
           {
            "error_x": {
             "color": "#2a3f5f"
            },
            "error_y": {
             "color": "#2a3f5f"
            },
            "marker": {
             "line": {
              "color": "#E5ECF6",
              "width": 0.5
             },
             "pattern": {
              "fillmode": "overlay",
              "size": 10,
              "solidity": 0.2
             }
            },
            "type": "bar"
           }
          ],
          "barpolar": [
           {
            "marker": {
             "line": {
              "color": "#E5ECF6",
              "width": 0.5
             },
             "pattern": {
              "fillmode": "overlay",
              "size": 10,
              "solidity": 0.2
             }
            },
            "type": "barpolar"
           }
          ],
          "carpet": [
           {
            "aaxis": {
             "endlinecolor": "#2a3f5f",
             "gridcolor": "white",
             "linecolor": "white",
             "minorgridcolor": "white",
             "startlinecolor": "#2a3f5f"
            },
            "baxis": {
             "endlinecolor": "#2a3f5f",
             "gridcolor": "white",
             "linecolor": "white",
             "minorgridcolor": "white",
             "startlinecolor": "#2a3f5f"
            },
            "type": "carpet"
           }
          ],
          "choropleth": [
           {
            "colorbar": {
             "outlinewidth": 0,
             "ticks": ""
            },
            "type": "choropleth"
           }
          ],
          "contour": [
           {
            "colorbar": {
             "outlinewidth": 0,
             "ticks": ""
            },
            "colorscale": [
             [
              0,
              "#0d0887"
             ],
             [
              0.1111111111111111,
              "#46039f"
             ],
             [
              0.2222222222222222,
              "#7201a8"
             ],
             [
              0.3333333333333333,
              "#9c179e"
             ],
             [
              0.4444444444444444,
              "#bd3786"
             ],
             [
              0.5555555555555556,
              "#d8576b"
             ],
             [
              0.6666666666666666,
              "#ed7953"
             ],
             [
              0.7777777777777778,
              "#fb9f3a"
             ],
             [
              0.8888888888888888,
              "#fdca26"
             ],
             [
              1,
              "#f0f921"
             ]
            ],
            "type": "contour"
           }
          ],
          "contourcarpet": [
           {
            "colorbar": {
             "outlinewidth": 0,
             "ticks": ""
            },
            "type": "contourcarpet"
           }
          ],
          "heatmap": [
           {
            "colorbar": {
             "outlinewidth": 0,
             "ticks": ""
            },
            "colorscale": [
             [
              0,
              "#0d0887"
             ],
             [
              0.1111111111111111,
              "#46039f"
             ],
             [
              0.2222222222222222,
              "#7201a8"
             ],
             [
              0.3333333333333333,
              "#9c179e"
             ],
             [
              0.4444444444444444,
              "#bd3786"
             ],
             [
              0.5555555555555556,
              "#d8576b"
             ],
             [
              0.6666666666666666,
              "#ed7953"
             ],
             [
              0.7777777777777778,
              "#fb9f3a"
             ],
             [
              0.8888888888888888,
              "#fdca26"
             ],
             [
              1,
              "#f0f921"
             ]
            ],
            "type": "heatmap"
           }
          ],
          "heatmapgl": [
           {
            "colorbar": {
             "outlinewidth": 0,
             "ticks": ""
            },
            "colorscale": [
             [
              0,
              "#0d0887"
             ],
             [
              0.1111111111111111,
              "#46039f"
             ],
             [
              0.2222222222222222,
              "#7201a8"
             ],
             [
              0.3333333333333333,
              "#9c179e"
             ],
             [
              0.4444444444444444,
              "#bd3786"
             ],
             [
              0.5555555555555556,
              "#d8576b"
             ],
             [
              0.6666666666666666,
              "#ed7953"
             ],
             [
              0.7777777777777778,
              "#fb9f3a"
             ],
             [
              0.8888888888888888,
              "#fdca26"
             ],
             [
              1,
              "#f0f921"
             ]
            ],
            "type": "heatmapgl"
           }
          ],
          "histogram": [
           {
            "marker": {
             "pattern": {
              "fillmode": "overlay",
              "size": 10,
              "solidity": 0.2
             }
            },
            "type": "histogram"
           }
          ],
          "histogram2d": [
           {
            "colorbar": {
             "outlinewidth": 0,
             "ticks": ""
            },
            "colorscale": [
             [
              0,
              "#0d0887"
             ],
             [
              0.1111111111111111,
              "#46039f"
             ],
             [
              0.2222222222222222,
              "#7201a8"
             ],
             [
              0.3333333333333333,
              "#9c179e"
             ],
             [
              0.4444444444444444,
              "#bd3786"
             ],
             [
              0.5555555555555556,
              "#d8576b"
             ],
             [
              0.6666666666666666,
              "#ed7953"
             ],
             [
              0.7777777777777778,
              "#fb9f3a"
             ],
             [
              0.8888888888888888,
              "#fdca26"
             ],
             [
              1,
              "#f0f921"
             ]
            ],
            "type": "histogram2d"
           }
          ],
          "histogram2dcontour": [
           {
            "colorbar": {
             "outlinewidth": 0,
             "ticks": ""
            },
            "colorscale": [
             [
              0,
              "#0d0887"
             ],
             [
              0.1111111111111111,
              "#46039f"
             ],
             [
              0.2222222222222222,
              "#7201a8"
             ],
             [
              0.3333333333333333,
              "#9c179e"
             ],
             [
              0.4444444444444444,
              "#bd3786"
             ],
             [
              0.5555555555555556,
              "#d8576b"
             ],
             [
              0.6666666666666666,
              "#ed7953"
             ],
             [
              0.7777777777777778,
              "#fb9f3a"
             ],
             [
              0.8888888888888888,
              "#fdca26"
             ],
             [
              1,
              "#f0f921"
             ]
            ],
            "type": "histogram2dcontour"
           }
          ],
          "mesh3d": [
           {
            "colorbar": {
             "outlinewidth": 0,
             "ticks": ""
            },
            "type": "mesh3d"
           }
          ],
          "parcoords": [
           {
            "line": {
             "colorbar": {
              "outlinewidth": 0,
              "ticks": ""
             }
            },
            "type": "parcoords"
           }
          ],
          "pie": [
           {
            "automargin": true,
            "type": "pie"
           }
          ],
          "scatter": [
           {
            "fillpattern": {
             "fillmode": "overlay",
             "size": 10,
             "solidity": 0.2
            },
            "type": "scatter"
           }
          ],
          "scatter3d": [
           {
            "line": {
             "colorbar": {
              "outlinewidth": 0,
              "ticks": ""
             }
            },
            "marker": {
             "colorbar": {
              "outlinewidth": 0,
              "ticks": ""
             }
            },
            "type": "scatter3d"
           }
          ],
          "scattercarpet": [
           {
            "marker": {
             "colorbar": {
              "outlinewidth": 0,
              "ticks": ""
             }
            },
            "type": "scattercarpet"
           }
          ],
          "scattergeo": [
           {
            "marker": {
             "colorbar": {
              "outlinewidth": 0,
              "ticks": ""
             }
            },
            "type": "scattergeo"
           }
          ],
          "scattergl": [
           {
            "marker": {
             "colorbar": {
              "outlinewidth": 0,
              "ticks": ""
             }
            },
            "type": "scattergl"
           }
          ],
          "scattermapbox": [
           {
            "marker": {
             "colorbar": {
              "outlinewidth": 0,
              "ticks": ""
             }
            },
            "type": "scattermapbox"
           }
          ],
          "scatterpolar": [
           {
            "marker": {
             "colorbar": {
              "outlinewidth": 0,
              "ticks": ""
             }
            },
            "type": "scatterpolar"
           }
          ],
          "scatterpolargl": [
           {
            "marker": {
             "colorbar": {
              "outlinewidth": 0,
              "ticks": ""
             }
            },
            "type": "scatterpolargl"
           }
          ],
          "scatterternary": [
           {
            "marker": {
             "colorbar": {
              "outlinewidth": 0,
              "ticks": ""
             }
            },
            "type": "scatterternary"
           }
          ],
          "surface": [
           {
            "colorbar": {
             "outlinewidth": 0,
             "ticks": ""
            },
            "colorscale": [
             [
              0,
              "#0d0887"
             ],
             [
              0.1111111111111111,
              "#46039f"
             ],
             [
              0.2222222222222222,
              "#7201a8"
             ],
             [
              0.3333333333333333,
              "#9c179e"
             ],
             [
              0.4444444444444444,
              "#bd3786"
             ],
             [
              0.5555555555555556,
              "#d8576b"
             ],
             [
              0.6666666666666666,
              "#ed7953"
             ],
             [
              0.7777777777777778,
              "#fb9f3a"
             ],
             [
              0.8888888888888888,
              "#fdca26"
             ],
             [
              1,
              "#f0f921"
             ]
            ],
            "type": "surface"
           }
          ],
          "table": [
           {
            "cells": {
             "fill": {
              "color": "#EBF0F8"
             },
             "line": {
              "color": "white"
             }
            },
            "header": {
             "fill": {
              "color": "#C8D4E3"
             },
             "line": {
              "color": "white"
             }
            },
            "type": "table"
           }
          ]
         },
         "layout": {
          "annotationdefaults": {
           "arrowcolor": "#2a3f5f",
           "arrowhead": 0,
           "arrowwidth": 1
          },
          "autotypenumbers": "strict",
          "coloraxis": {
           "colorbar": {
            "outlinewidth": 0,
            "ticks": ""
           }
          },
          "colorscale": {
           "diverging": [
            [
             0,
             "#8e0152"
            ],
            [
             0.1,
             "#c51b7d"
            ],
            [
             0.2,
             "#de77ae"
            ],
            [
             0.3,
             "#f1b6da"
            ],
            [
             0.4,
             "#fde0ef"
            ],
            [
             0.5,
             "#f7f7f7"
            ],
            [
             0.6,
             "#e6f5d0"
            ],
            [
             0.7,
             "#b8e186"
            ],
            [
             0.8,
             "#7fbc41"
            ],
            [
             0.9,
             "#4d9221"
            ],
            [
             1,
             "#276419"
            ]
           ],
           "sequential": [
            [
             0,
             "#0d0887"
            ],
            [
             0.1111111111111111,
             "#46039f"
            ],
            [
             0.2222222222222222,
             "#7201a8"
            ],
            [
             0.3333333333333333,
             "#9c179e"
            ],
            [
             0.4444444444444444,
             "#bd3786"
            ],
            [
             0.5555555555555556,
             "#d8576b"
            ],
            [
             0.6666666666666666,
             "#ed7953"
            ],
            [
             0.7777777777777778,
             "#fb9f3a"
            ],
            [
             0.8888888888888888,
             "#fdca26"
            ],
            [
             1,
             "#f0f921"
            ]
           ],
           "sequentialminus": [
            [
             0,
             "#0d0887"
            ],
            [
             0.1111111111111111,
             "#46039f"
            ],
            [
             0.2222222222222222,
             "#7201a8"
            ],
            [
             0.3333333333333333,
             "#9c179e"
            ],
            [
             0.4444444444444444,
             "#bd3786"
            ],
            [
             0.5555555555555556,
             "#d8576b"
            ],
            [
             0.6666666666666666,
             "#ed7953"
            ],
            [
             0.7777777777777778,
             "#fb9f3a"
            ],
            [
             0.8888888888888888,
             "#fdca26"
            ],
            [
             1,
             "#f0f921"
            ]
           ]
          },
          "colorway": [
           "#636efa",
           "#EF553B",
           "#00cc96",
           "#ab63fa",
           "#FFA15A",
           "#19d3f3",
           "#FF6692",
           "#B6E880",
           "#FF97FF",
           "#FECB52"
          ],
          "font": {
           "color": "#2a3f5f"
          },
          "geo": {
           "bgcolor": "white",
           "lakecolor": "white",
           "landcolor": "#E5ECF6",
           "showlakes": true,
           "showland": true,
           "subunitcolor": "white"
          },
          "hoverlabel": {
           "align": "left"
          },
          "hovermode": "closest",
          "mapbox": {
           "style": "light"
          },
          "paper_bgcolor": "white",
          "plot_bgcolor": "#E5ECF6",
          "polar": {
           "angularaxis": {
            "gridcolor": "white",
            "linecolor": "white",
            "ticks": ""
           },
           "bgcolor": "#E5ECF6",
           "radialaxis": {
            "gridcolor": "white",
            "linecolor": "white",
            "ticks": ""
           }
          },
          "scene": {
           "xaxis": {
            "backgroundcolor": "#E5ECF6",
            "gridcolor": "white",
            "gridwidth": 2,
            "linecolor": "white",
            "showbackground": true,
            "ticks": "",
            "zerolinecolor": "white"
           },
           "yaxis": {
            "backgroundcolor": "#E5ECF6",
            "gridcolor": "white",
            "gridwidth": 2,
            "linecolor": "white",
            "showbackground": true,
            "ticks": "",
            "zerolinecolor": "white"
           },
           "zaxis": {
            "backgroundcolor": "#E5ECF6",
            "gridcolor": "white",
            "gridwidth": 2,
            "linecolor": "white",
            "showbackground": true,
            "ticks": "",
            "zerolinecolor": "white"
           }
          },
          "shapedefaults": {
           "line": {
            "color": "#2a3f5f"
           }
          },
          "ternary": {
           "aaxis": {
            "gridcolor": "white",
            "linecolor": "white",
            "ticks": ""
           },
           "baxis": {
            "gridcolor": "white",
            "linecolor": "white",
            "ticks": ""
           },
           "bgcolor": "#E5ECF6",
           "caxis": {
            "gridcolor": "white",
            "linecolor": "white",
            "ticks": ""
           }
          },
          "title": {
           "x": 0.05
          },
          "xaxis": {
           "automargin": true,
           "gridcolor": "white",
           "linecolor": "white",
           "ticks": "",
           "title": {
            "standoff": 15
           },
           "zerolinecolor": "white",
           "zerolinewidth": 2
          },
          "yaxis": {
           "automargin": true,
           "gridcolor": "white",
           "linecolor": "white",
           "ticks": "",
           "title": {
            "standoff": 15
           },
           "zerolinecolor": "white",
           "zerolinewidth": 2
          }
         }
        },
        "xaxis": {
         "anchor": "y",
         "domain": [
          0,
          1
         ],
         "title": {
          "text": "Year"
         }
        },
        "yaxis": {
         "anchor": "x",
         "domain": [
          0,
          1
         ],
         "title": {
          "text": "Medal"
         }
        }
       }
      }
     },
     "metadata": {},
     "output_type": "display_data"
    }
   ],
   "source": [
    "fig = px.line(final_df, x = 'Year', y = 'Medal')\n",
    "fig.show()"
   ]
  },
  {
   "cell_type": "code",
   "execution_count": 78,
   "metadata": {},
   "outputs": [
    {
     "data": {
      "text/plain": [
       "<Axes: xlabel='Year', ylabel='Sport'>"
      ]
     },
     "execution_count": 78,
     "metadata": {},
     "output_type": "execute_result"
    },
    {
     "data": {
      "image/png": "[encoded data removed]",
      "text/plain": [
       "<Figure size 2000x2000 with 2 Axes>"
      ]
     },
     "metadata": {},
     "output_type": "display_data"
    }
   ],
   "source": [
    "new_df =  temp_df[temp_df['region']=='UK']\n",
    "plt.figure(figsize=(20,20))\n",
    "sns.heatmap(new_df.pivot_table(index='Sport', columns='Year', values='Medal', aggfunc='count').fillna(0), annot=True)"
   ]
  },
  {
   "cell_type": "code",
   "execution_count": 81,
   "metadata": {},
   "outputs": [],
   "source": [
    "def most_successful(df,country):\n",
    "    temp_df = df.dropna(subset=['Medal'])\n",
    "\n",
    "    temp_df = temp_df[temp_df['region']==country]\n",
    "\n",
    "    x = temp_df['Name'].value_counts().reset_index().head(15).merge(df, left_on = 'Name', right_on='Name', how='left')[['Name','count', 'Sport', 'region']].drop_duplicates('Name')\n",
    "    x.rename(columns={'count':'Medals'}, inplace=True)\n",
    "    return x"
   ]
  },
  {
   "cell_type": "code",
   "execution_count": 83,
   "metadata": {},
   "outputs": [
    {
     "data": {
      "text/html": [
       "<div>\n",
       "<style scoped>\n",
       "    .dataframe tbody tr th:only-of-type {\n",
       "        vertical-align: middle;\n",
       "    }\n",
       "\n",
       "    .dataframe tbody tr th {\n",
       "        vertical-align: top;\n",
       "    }\n",
       "\n",
       "    .dataframe thead th {\n",
       "        text-align: right;\n",
       "    }\n",
       "</style>\n",
       "<table border=\"1\" class=\"dataframe\">\n",
       "  <thead>\n",
       "    <tr style=\"text-align: right;\">\n",
       "      <th></th>\n",
       "      <th>Name</th>\n",
       "      <th>Medals</th>\n",
       "      <th>Sport</th>\n",
       "      <th>region</th>\n",
       "    </tr>\n",
       "  </thead>\n",
       "  <tbody>\n",
       "    <tr>\n",
       "      <th>0</th>\n",
       "      <td>Merlene Joyce Ottey-Page</td>\n",
       "      <td>9</td>\n",
       "      <td>Athletics</td>\n",
       "      <td>Jamaica</td>\n",
       "    </tr>\n",
       "    <tr>\n",
       "      <th>19</th>\n",
       "      <td>Veronica Angella Campbell-Brown</td>\n",
       "      <td>8</td>\n",
       "      <td>Athletics</td>\n",
       "      <td>Jamaica</td>\n",
       "    </tr>\n",
       "    <tr>\n",
       "      <th>30</th>\n",
       "      <td>Usain St. Leo Bolt</td>\n",
       "      <td>8</td>\n",
       "      <td>Athletics</td>\n",
       "      <td>Jamaica</td>\n",
       "    </tr>\n",
       "    <tr>\n",
       "      <th>40</th>\n",
       "      <td>Shelly-Ann Fraser-Pryce</td>\n",
       "      <td>6</td>\n",
       "      <td>Athletics</td>\n",
       "      <td>Jamaica</td>\n",
       "    </tr>\n",
       "    <tr>\n",
       "      <th>47</th>\n",
       "      <td>Donald O'Reilly \"Don\" Quarrie</td>\n",
       "      <td>4</td>\n",
       "      <td>Athletics</td>\n",
       "      <td>Jamaica</td>\n",
       "    </tr>\n",
       "    <tr>\n",
       "      <th>56</th>\n",
       "      <td>Herbert Henry \"Herb\" McKenley</td>\n",
       "      <td>4</td>\n",
       "      <td>Athletics</td>\n",
       "      <td>Jamaica</td>\n",
       "    </tr>\n",
       "    <tr>\n",
       "      <th>62</th>\n",
       "      <td>Arthur Stanley Wint</td>\n",
       "      <td>4</td>\n",
       "      <td>Athletics</td>\n",
       "      <td>Jamaica</td>\n",
       "    </tr>\n",
       "    <tr>\n",
       "      <th>68</th>\n",
       "      <td>Novlene Hilaire Williams-Mills</td>\n",
       "      <td>4</td>\n",
       "      <td>Athletics</td>\n",
       "      <td>Jamaica</td>\n",
       "    </tr>\n",
       "    <tr>\n",
       "      <th>75</th>\n",
       "      <td>Yohan Blake</td>\n",
       "      <td>4</td>\n",
       "      <td>Athletics</td>\n",
       "      <td>Jamaica</td>\n",
       "    </tr>\n",
       "    <tr>\n",
       "      <th>81</th>\n",
       "      <td>Sherone Anmarica Simpson</td>\n",
       "      <td>3</td>\n",
       "      <td>Athletics</td>\n",
       "      <td>Jamaica</td>\n",
       "    </tr>\n",
       "    <tr>\n",
       "      <th>88</th>\n",
       "      <td>Juliet Jean Cuthbert</td>\n",
       "      <td>3</td>\n",
       "      <td>Athletics</td>\n",
       "      <td>Jamaica</td>\n",
       "    </tr>\n",
       "    <tr>\n",
       "      <th>98</th>\n",
       "      <td>Kerron Stewart</td>\n",
       "      <td>3</td>\n",
       "      <td>Athletics</td>\n",
       "      <td>Jamaica</td>\n",
       "    </tr>\n",
       "    <tr>\n",
       "      <th>103</th>\n",
       "      <td>Elaine Thompson</td>\n",
       "      <td>3</td>\n",
       "      <td>Athletics</td>\n",
       "      <td>Jamaica</td>\n",
       "    </tr>\n",
       "    <tr>\n",
       "      <th>106</th>\n",
       "      <td>Shericka Nicola Williams</td>\n",
       "      <td>3</td>\n",
       "      <td>Athletics</td>\n",
       "      <td>Jamaica</td>\n",
       "    </tr>\n",
       "    <tr>\n",
       "      <th>109</th>\n",
       "      <td>Beverly McDonald (-Stewart)</td>\n",
       "      <td>3</td>\n",
       "      <td>Athletics</td>\n",
       "      <td>Jamaica</td>\n",
       "    </tr>\n",
       "  </tbody>\n",
       "</table>\n",
       "</div>"
      ],
      "text/plain": [
       "                                Name  Medals      Sport   region\n",
       "0           Merlene Joyce Ottey-Page       9  Athletics  Jamaica\n",
       "19   Veronica Angella Campbell-Brown       8  Athletics  Jamaica\n",
       "30                Usain St. Leo Bolt       8  Athletics  Jamaica\n",
       "40           Shelly-Ann Fraser-Pryce       6  Athletics  Jamaica\n",
       "47     Donald O'Reilly \"Don\" Quarrie       4  Athletics  Jamaica\n",
       "56     Herbert Henry \"Herb\" McKenley       4  Athletics  Jamaica\n",
       "62               Arthur Stanley Wint       4  Athletics  Jamaica\n",
       "68    Novlene Hilaire Williams-Mills       4  Athletics  Jamaica\n",
       "75                       Yohan Blake       4  Athletics  Jamaica\n",
       "81          Sherone Anmarica Simpson       3  Athletics  Jamaica\n",
       "88              Juliet Jean Cuthbert       3  Athletics  Jamaica\n",
       "98                    Kerron Stewart       3  Athletics  Jamaica\n",
       "103                  Elaine Thompson       3  Athletics  Jamaica\n",
       "106         Shericka Nicola Williams       3  Athletics  Jamaica\n",
       "109      Beverly McDonald (-Stewart)       3  Athletics  Jamaica"
      ]
     },
     "execution_count": 83,
     "metadata": {},
     "output_type": "execute_result"
    }
   ],
   "source": [
    "most_successful(df, 'Jamaica')"
   ]
  },
  {
   "cell_type": "code",
   "execution_count": 1,
   "metadata": {},
   "outputs": [],
   "source": [
    "import plotly.figure_factory as ff"
   ]
  },
  {
   "cell_type": "code",
   "execution_count": 15,
   "metadata": {},
   "outputs": [],
   "source": [
    "athlete_df= df.drop_duplicates(subset=['Name', 'region'])"
   ]
  },
  {
   "cell_type": "code",
   "execution_count": 17,
   "metadata": {},
   "outputs": [
    {
     "data": {
      "application/vnd.plotly.v1+json": {
       "config": {
        "plotlyServerURL": "https://plot.ly"
       },
       "data": [
        {
         "legendgroup": "Overall Age",
         "marker": {
          "color": "rgb(31, 119, 180)"
         },
         "mode": "lines",
         "name": "Overall Age",
         "showlegend": true,
         "type": "scatter",
         "x": [
          10,
          10.174,
          10.348,
          10.522,
          10.696,
          10.87,
          11.044,
          11.218,
          11.392,
          11.566,
          11.74,
          11.914,
          12.088000000000001,
          12.262,
          12.436,
          12.61,
          12.783999999999999,
          12.958,
          13.132,
          13.306000000000001,
          13.48,
          13.654,
          13.828,
          14.001999999999999,
          14.176,
          14.35,
          14.524000000000001,
          14.698,
          14.872,
          15.046,
          15.219999999999999,
          15.394,
          15.568,
          15.742,
          15.916,
          16.09,
          16.264,
          16.438,
          16.612000000000002,
          16.786,
          16.96,
          17.134,
          17.308,
          17.482,
          17.656,
          17.83,
          18.003999999999998,
          18.178,
          18.352,
          18.526,
          18.7,
          18.874000000000002,
          19.048000000000002,
          19.222,
          19.396,
          19.57,
          19.744,
          19.918,
          20.092,
          20.266,
          20.439999999999998,
          20.614,
          20.788,
          20.962,
          21.136,
          21.310000000000002,
          21.484,
          21.658,
          21.832,
          22.006,
          22.18,
          22.354,
          22.528,
          22.701999999999998,
          22.875999999999998,
          23.05,
          23.224,
          23.398,
          23.572,
          23.746000000000002,
          23.92,
          24.094,
          24.268,
          24.442,
          24.616,
          24.79,
          24.964,
          25.137999999999998,
          25.311999999999998,
          25.486,
          25.66,
          25.834,
          26.008,
          26.182,
          26.356,
          26.53,
          26.704,
          26.878,
          27.052,
          27.226,
          27.4,
          27.574,
          27.748,
          27.922,
          28.096,
          28.27,
          28.444,
          28.618,
          28.792,
          28.966,
          29.14,
          29.314,
          29.488,
          29.662,
          29.836,
          30.01,
          30.184,
          30.358,
          30.532,
          30.706,
          30.88,
          31.054,
          31.228,
          31.402,
          31.576,
          31.75,
          31.924,
          32.098,
          32.272,
          32.446,
          32.620000000000005,
          32.794,
          32.968,
          33.141999999999996,
          33.316,
          33.489999999999995,
          33.664,
          33.838,
          34.012,
          34.186,
          34.36,
          34.534,
          34.708,
          34.882000000000005,
          35.056,
          35.230000000000004,
          35.403999999999996,
          35.578,
          35.751999999999995,
          35.926,
          36.1,
          36.274,
          36.448,
          36.622,
          36.796,
          36.97,
          37.144,
          37.318,
          37.492000000000004,
          37.666,
          37.84,
          38.013999999999996,
          38.188,
          38.361999999999995,
          38.536,
          38.71,
          38.884,
          39.058,
          39.232,
          39.406,
          39.58,
          39.754000000000005,
          39.928,
          40.102000000000004,
          40.275999999999996,
          40.45,
          40.623999999999995,
          40.798,
          40.972,
          41.146,
          41.32,
          41.494,
          41.668,
          41.842,
          42.016,
          42.19,
          42.364,
          42.538,
          42.712,
          42.886,
          43.06,
          43.234,
          43.408,
          43.582,
          43.756,
          43.93,
          44.104,
          44.278,
          44.452,
          44.626,
          44.8,
          44.974,
          45.148,
          45.322,
          45.496,
          45.67,
          45.844,
          46.018,
          46.192,
          46.366,
          46.54,
          46.714,
          46.888,
          47.062,
          47.236,
          47.41,
          47.584,
          47.758,
          47.932,
          48.106,
          48.28,
          48.454,
          48.628,
          48.802,
          48.976,
          49.15,
          49.324,
          49.498,
          49.672,
          49.846,
          50.02,
          50.194,
          50.368,
          50.542,
          50.716,
          50.89,
          51.064,
          51.238,
          51.412,
          51.586,
          51.76,
          51.934,
          52.108,
          52.282,
          52.456,
          52.63,
          52.804,
          52.978,
          53.152,
          53.326,
          53.5,
          53.674,
          53.848,
          54.022,
          54.196,
          54.37,
          54.544,
          54.718,
          54.892,
          55.066,
          55.24,
          55.414,
          55.588,
          55.762,
          55.936,
          56.11,
          56.284,
          56.458,
          56.632,
          56.806,
          56.98,
          57.154,
          57.328,
          57.502,
          57.676,
          57.85,
          58.024,
          58.198,
          58.372,
          58.546,
          58.72,
          58.894,
          59.068,
          59.242,
          59.416,
          59.59,
          59.764,
          59.938,
          60.112,
          60.286,
          60.46,
          60.634,
          60.808,
          60.982,
          61.156,
          61.33,
          61.504,
          61.678,
          61.852,
          62.026,
          62.2,
          62.374,
          62.548,
          62.722,
          62.896,
          63.07,
          63.244,
          63.418,
          63.592,
          63.766,
          63.94,
          64.114,
          64.288,
          64.462,
          64.636,
          64.81,
          64.98400000000001,
          65.158,
          65.332,
          65.506,
          65.68,
          65.854,
          66.02799999999999,
          66.202,
          66.376,
          66.55,
          66.72399999999999,
          66.898,
          67.072,
          67.24600000000001,
          67.42,
          67.594,
          67.768,
          67.94200000000001,
          68.116,
          68.28999999999999,
          68.464,
          68.638,
          68.812,
          68.98599999999999,
          69.16,
          69.334,
          69.50800000000001,
          69.682,
          69.856,
          70.03,
          70.20400000000001,
          70.378,
          70.55199999999999,
          70.726,
          70.9,
          71.074,
          71.24799999999999,
          71.422,
          71.596,
          71.77000000000001,
          71.944,
          72.118,
          72.292,
          72.46600000000001,
          72.64,
          72.814,
          72.988,
          73.162,
          73.336,
          73.50999999999999,
          73.684,
          73.858,
          74.032,
          74.206,
          74.38,
          74.554,
          74.728,
          74.902,
          75.076,
          75.25,
          75.424,
          75.598,
          75.772,
          75.946,
          76.12,
          76.294,
          76.468,
          76.642,
          76.816,
          76.99,
          77.164,
          77.338,
          77.512,
          77.686,
          77.86,
          78.034,
          78.208,
          78.382,
          78.556,
          78.73,
          78.904,
          79.078,
          79.252,
          79.426,
          79.6,
          79.774,
          79.948,
          80.122,
          80.296,
          80.47,
          80.644,
          80.818,
          80.992,
          81.166,
          81.34,
          81.514,
          81.688,
          81.862,
          82.036,
          82.21,
          82.384,
          82.558,
          82.732,
          82.906,
          83.08,
          83.254,
          83.428,
          83.602,
          83.776,
          83.95,
          84.124,
          84.298,
          84.472,
          84.646,
          84.82,
          84.994,
          85.168,
          85.342,
          85.516,
          85.69,
          85.864,
          86.038,
          86.212,
          86.386,
          86.56,
          86.734,
          86.908,
          87.082,
          87.256,
          87.43,
          87.604,
          87.778,
          87.952,
          88.126,
          88.3,
          88.474,
          88.648,
          88.822,
          88.996,
          89.17,
          89.344,
          89.518,
          89.692,
          89.866,
          90.04,
          90.214,
          90.388,
          90.562,
          90.736,
          90.91,
          91.084,
          91.258,
          91.432,
          91.606,
          91.78,
          91.954,
          92.128,
          92.302,
          92.476,
          92.65,
          92.824,
          92.998,
          93.172,
          93.346,
          93.52,
          93.694,
          93.868,
          94.042,
          94.216,
          94.39,
          94.564,
          94.738,
          94.912,
          95.086,
          95.26,
          95.434,
          95.608,
          95.782,
          95.956,
          96.13,
          96.304,
          96.478,
          96.652,
          96.826
         ],
         "xaxis": "x",
         "y": [
          0.00001069519571698912,
          0.000013464104361132526,
          0.000017046194382555068,
          0.00002189982419088748,
          0.000028659225136091005,
          0.00003818427880025061,
          0.00005154367630111859,
          0.00006987699964819077,
          0.00009423459723133056,
          0.0001256432291306864,
          0.00016555176962339187,
          0.00021641132902108,
          0.00028178165218244026,
          0.0003655785983572823,
          0.0004709861207290183,
          0.0006003436908005674,
          0.0007568090270171778,
          0.0009466577140528734,
          0.00117947872048005,
          0.0014646272966631392,
          0.0018061941370278892,
          0.0022018440467008295,
          0.0026487025035200375,
          0.0031521542595491646,
          0.0037278005669640177,
          0.004390764794288221,
          0.005139332593453988,
          0.005949534915848407,
          0.00679087910112219,
          0.007652903614171944,
          0.008557100035417564,
          0.009538309980630447,
          0.01060978275613107,
          0.011747273701498686,
          0.012913379761745057,
          0.014102163207168292,
          0.01535764807214437,
          0.01674135703489714,
          0.018277896946654083,
          0.019937272617529155,
          0.021679260972163383,
          0.023516521130823316,
          0.02552337259459293,
          0.027768396541796872,
          0.0302356332546093,
          0.032825533478708355,
          0.03545068759647512,
          0.038133145619728664,
          0.0409906339297888,
          0.04410688822193895,
          0.047413918731563275,
          0.05072256864683754,
          0.0538921142416185,
          0.05697191405506583,
          0.060155487604027974,
          0.06357468368970523,
          0.06714166924658581,
          0.07061621013404423,
          0.07384415422971917,
          0.07691665671272777,
          0.0800619750891688,
          0.08336043762169881,
          0.08658032567559171,
          0.08933143552530312,
          0.0914069824050788,
          0.09297113190137198,
          0.09438899873192172,
          0.09586053611462705,
          0.0972301050102457,
          0.0981680515581808,
          0.09853320183153294,
          0.09853283085843231,
          0.09850817339289271,
          0.09857004232776535,
          0.09847088856285695,
          0.09785296856445488,
          0.0966171786667117,
          0.0950313440475289,
          0.09347105536329112,
          0.0920674957601148,
          0.09062380463546685,
          0.08887075479984072,
          0.08677900337509359,
          0.08460012309547023,
          0.08260702881785334,
          0.08082001420016727,
          0.07900646987596978,
          0.0769426870669752,
          0.07465271359761409,
          0.0723770040219579,
          0.07031777599146868,
          0.06843799309963235,
          0.06651983368727075,
          0.06440689243167846,
          0.06216775583818056,
          0.060016045106067534,
          0.05808511496162051,
          0.056300212174632214,
          0.05447384185784765,
          0.05250987208369408,
          0.05049655385243627,
          0.04859900152043319,
          0.04687657915193592,
          0.04522096584433565,
          0.0434730503255435,
          0.0415880842317231,
          0.0396774889568219,
          0.03789397603285487,
          0.03628831306164638,
          0.03478325534765563,
          0.03327732036153511,
          0.03175756916158278,
          0.03030366678281365,
          0.028989774763053942,
          0.027797108980864814,
          0.026629804934531404,
          0.02541178685155185,
          0.02415967565928166,
          0.022959203268434907,
          0.021876951025986188,
          0.02090188602049222,
          0.01997151590124801,
          0.019045698797472588,
          0.018146465965930825,
          0.017326110907046707,
          0.01660445121148066,
          0.01594479849566012,
          0.015291586006591305,
          0.01462596927825273,
          0.013980218485376271,
          0.01339922295439107,
          0.012893190557470678,
          0.012430860836624926,
          0.01197598136182623,
          0.011524307333093528,
          0.011101519811736349,
          0.010727172863303757,
          0.010385955883854688,
          0.010037638342779343,
          0.009654472944946133,
          0.009246350558822093,
          0.00884855668323864,
          0.008486695217491277,
          0.008155415996390308,
          0.007830533923532253,
          0.007498516640503181,
          0.0071712517017190535,
          0.006872334079681398,
          0.006611932474547974,
          0.006377615707746398,
          0.0061494056679971465,
          0.005921193817922327,
          0.005705421203163759,
          0.005517412217103141,
          0.00535758049778836,
          0.005210703908380409,
          0.005062016491400438,
          0.004911937655287956,
          0.004773766679982202,
          0.00465772464581649,
          0.004559131071737905,
          0.004463188714034261,
          0.004360493249451705,
          0.004256177801808603,
          0.004163147209742441,
          0.004087262479235694,
          0.004020612868062108,
          0.003949707248334144,
          0.0038691542178501876,
          0.0037858143713137044,
          0.0037091112012249583,
          0.0036382534259292495,
          0.003560382920609168,
          0.0034619881342605923,
          0.00334203998607697,
          0.0032137793269373877,
          0.0030939651571998336,
          0.0029907685943438714,
          0.0029016821067698122,
          0.002821529993390501,
          0.002750458123743966,
          0.002693157952901583,
          0.0026511441729246627,
          0.0026177048317818623,
          0.0025819040024693553,
          0.002537756542312065,
          0.002488836798597664,
          0.002443407220004487,
          0.0024052408377906046,
          0.002369730998315861,
          0.0023290446972056983,
          0.0022804474053207996,
          0.002228813679170872,
          0.002180823418949833,
          0.002137257152171733,
          0.002091654368855861,
          0.002036680714483326,
          0.001971444887978596,
          0.001902240203399452,
          0.001836247086683982,
          0.0017749331099166737,
          0.0017137887338982347,
          0.0016481729081881226,
          0.0015788933088418534,
          0.0015119508816592393,
          0.0014532674802532116,
          0.0014041750792635175,
          0.0013620050897197933,
          0.0013243512461259344,
          0.0012919003923009078,
          0.0012668361472673592,
          0.0012490131955336307,
          0.001234557204734312,
          0.0012187291349552056,
          0.0012000884712735336,
          0.0011815093216633417,
          0.0011669842706804002,
          0.0011576250784726715,
          0.001150978914619685,
          0.001144043031693304,
          0.0011363183439285613,
          0.001129295637868916,
          0.0011228299412019808,
          0.0011125016993597044,
          0.0010913213372081181,
          0.0010547357808546286,
          0.00100443495741276,
          0.000947493620642179,
          0.0008917732013556433,
          0.0008417623361769611,
          0.0007980757554627734,
          0.0007600086905661083,
          0.0007279085539109279,
          0.0007030887572937027,
          0.0006860681754086716,
          0.0006756139955742736,
          0.0006697742824908836,
          0.0006675571977061743,
          0.0006691072427218135,
          0.0006740171379128678,
          0.0006797157732644389,
          0.0006820360071168249,
          0.0006778133917462794,
          0.0006671047210008803,
          0.0006528163135212789,
          0.000638052303697736,
          0.0006237182719868429,
          0.000608549597195301,
          0.000591215982066715,
          0.0005721357209873042,
          0.0005531466434423326,
          0.0005355514898109127,
          0.0005187324843417966,
          0.0005008274344833842,
          0.0004807526566941048,
          0.0004595163407411312,
          0.00043960316897930895,
          0.0004231992822501034,
          0.00041103452153284426,
          0.0004027097819324992,
          0.000397695522572606,
          0.0003955989367011837,
          0.00039535996301847597,
          0.0003944798353396923,
          0.0003895663102888454,
          0.0003781684515632464,
          0.0003604662628884186,
          0.0003393676521357116,
          0.0003189573628416016,
          0.00030261211579767414,
          0.0002921223618541325,
          0.0002879772312106573,
          0.00028991310239301506,
          0.0002969503958591008,
          0.00030713028700676587,
          0.0003177699178982715,
          0.0003265364427970118,
          0.0003325809686967132,
          0.000336629925039011,
          0.00033981537830026485,
          0.00034228174662750987,
          0.0003428916309577458,
          0.0003402947581935934,
          0.00033426846209234765,
          0.0003259787707866754,
          0.0003169180249618935,
          0.0003076054466972662,
          0.00029733706717169665,
          0.0002851799988138579,
          0.00027118040627397094,
          0.00025662489837799553,
          0.00024320601274091283,
          0.00023198886836756744,
          0.00022311701720921292,
          0.000216309662137545,
          0.00021140489988405044,
          0.00020831090107878018,
          0.0002065230426731951,
          0.0002049156081943949,
          0.0002022176625902974,
          0.0001977908548008599,
          0.0001919311058208392,
          0.0001853598839958789,
          0.00017838846512452987,
          0.00017057400885279228,
          0.00016120249535741556,
          0.00015014027333854916,
          0.0001382840254703137,
          0.0001272635502464241,
          0.00011872448479782193,
          0.00011377155746420847,
          0.00011282900252221926,
          0.00011571756463958038,
          0.00012166416419998955,
          0.00012927141194883692,
          0.00013673647855250382,
          0.000142448783974426,
          0.0001456513608154919,
          0.0001466326117961367,
          0.0001462366436741356,
          0.00014507755299703718,
          0.00014311963713478296,
          0.00013993892016486448,
          0.00013533980341087117,
          0.0001296966149808158,
          0.00012370913307950833,
          0.00011785722235055669,
          0.00011210802997420066,
          0.00010613125231264958,
          0.00009975759735239048,
          0.00009320837302746716,
          0.00008690317929959627,
          0.000081089410270617,
          0.0000756821390326506,
          0.00007044832964015914,
          0.00006531701189234866,
          0.00006050652607723101,
          0.00005638203347874109,
          0.00005322451067902156,
          0.00005113462885030317,
          0.00005010998442962129,
          0.000050153328611609975,
          0.00005128236649760993,
          0.00005346868721664152,
          0.000056626223652122954,
          0.0000606823727755859,
          0.00006561017168956859,
          0.00007128906399765193,
          0.00007725105954127902,
          0.0000825678737469408,
          0.00008609606213387312,
          0.00008700055413738328,
          0.00008518877967895649,
          0.00008130721247716839,
          0.0000762949118298151,
          0.00007084798964987203,
          0.00006519412974350519,
          0.000059279537797921145,
          0.00005312374301840523,
          0.00004701128257662898,
          0.000041398166109491903,
          0.000036677094210583184,
          0.00003302237340006578,
          0.00003040028352136319,
          0.000028661693095313193,
          0.000027599175358184755,
          0.000026947450296204744,
          0.00002639758031542294,
          0.00002567818881071529,
          0.000024663736970097237,
          0.0000234161018772801,
          0.000022115186957517245,
          0.000020933751134963487,
          0.00001995573507182006,
          0.00001918406951018373,
          0.000018594638194459473,
          0.00001816116975796344,
          0.000017827292422214,
          0.000017473547485874687,
          0.00001693930210533268,
          0.00001610106534398268,
          0.000014944329595834516,
          0.00001356430834666754,
          0.000012093344128608126,
          0.000010616506914271499,
          0.000009142075989616046,
          0.000007640864348769453,
          0.000006111061146684311,
          0.000004612733381196525,
          0.000003250196603641832,
          0.0000021237486682600845,
          0.0000012891798910037105,
          7.48991650899714e-7,
          4.7336333851171816e-7,
          4.323844715261961e-7,
          6.197568864898562e-7,
          0.0000010558740914567113,
          0.0000017680014947309341,
          0.000002755336025059584,
          0.000003956507956590808,
          0.0000052416654367436675,
          0.0000064426699297238005,
          0.000007411865392741892,
          0.000008075784092014073,
          0.00000844663806871639,
          0.00000858121136108621,
          0.000008516852788622362,
          0.000008234195778349212,
          0.000007676256007556468,
          0.000006808657415065501,
          0.0000056737108947437164,
          0.000004397839131982359,
          0.0000031486798094426623,
          0.000002072666930366699,
          0.000001250773236815876,
          6.907156553261045e-7,
          3.486759706361718e-7,
          1.6079229197288484e-7,
          6.771129263552513e-8,
          2.6032144079417198e-8,
          9.135926400509784e-9,
          2.9265370844497246e-9,
          8.556448087487769e-10,
          2.2832779722637937e-10,
          5.5608689976481506e-11,
          1.2360739759205323e-11,
          2.5084423084393137e-12,
          4.707708219912337e-13,
          1.218661176763396e-13,
          2.766944720448459e-13,
          1.4734540554974765e-12,
          7.47147821682751e-12,
          3.461477984233387e-11,
          1.4636481823770925e-10,
          5.648330914583234e-10,
          1.9893517485824475e-9,
          6.394565389650929e-9,
          1.8759380421419744e-8,
          5.0226620011508056e-8,
          1.2273188975849803e-7,
          2.7370888421706025e-7,
          5.570938604140772e-7,
          0.000001034846309667772,
          0.0000017544110068867865,
          0.0000027145311927297833,
          0.000003833242853664008,
          0.0000049402148626781884,
          0.000005810765457860634,
          0.00000623776284981575,
          0.000006111282753667524,
          0.000005464417849873816,
          0.000004459266518836325,
          0.0000033211689064019075,
          0.000002257493465366008,
          0.000001400457860334207,
          7.92905799008656e-7,
          4.0971432425069147e-7,
          1.9321850014367962e-7,
          8.316187458579355e-8,
          3.266689369365894e-8,
          1.1711146481713282e-8,
          3.831766110561518e-9,
          1.1442122052366364e-9,
          3.1183306620279754e-10,
          7.756142135518814e-11,
          1.7606675429233963e-11,
          3.6476819368060116e-12,
          6.897069128048954e-13,
          1.1902019712692842e-13,
          1.8746311515223602e-14,
          2.707635391898064e-15,
          4.698376994282313e-16,
          9.734103624159361e-16,
          6.803050078569209e-15,
          4.5304015121402793e-14,
          2.7552745969380006e-13,
          1.5293485518151213e-12,
          7.747435908802338e-12,
          3.5819593839561564e-11,
          1.5114599396211132e-10,
          5.820892979930752e-10,
          2.0460007282035266e-9,
          6.563804528091961e-9,
          1.9220156050409713e-8,
          5.137354651100029e-8,
          1.2535859904758867e-7,
          2.7930966939277833e-7,
          5.684322998831287e-7,
          0.0000010572404170980172,
          0.0000017987646663054218,
          0.000002803815717709252,
          0.0000040141536610082255,
          0.000005299817142615363,
          0.000006493159717647264,
          0.000007449273844885438,
          0.000008098895809425095,
          0.000008457555712723582,
          0.000008582535341631593,
          0.000008509013693506824,
          0.00000821503283234191
         ],
         "yaxis": "y"
        },
        {
         "legendgroup": "Gold Medalist",
         "marker": {
          "color": "rgb(255, 127, 14)"
         },
         "mode": "lines",
         "name": "Gold Medalist",
         "showlegend": true,
         "type": "scatter",
         "x": [
          13,
          13.102,
          13.204,
          13.306,
          13.408,
          13.51,
          13.612,
          13.714,
          13.816,
          13.918,
          14.02,
          14.122,
          14.224,
          14.326,
          14.428,
          14.53,
          14.632,
          14.734,
          14.836,
          14.938,
          15.04,
          15.142,
          15.244,
          15.346,
          15.448,
          15.55,
          15.652000000000001,
          15.754,
          15.856,
          15.958,
          16.06,
          16.162,
          16.264,
          16.366,
          16.468,
          16.57,
          16.672,
          16.774,
          16.876,
          16.978,
          17.08,
          17.182000000000002,
          17.284,
          17.386,
          17.488,
          17.59,
          17.692,
          17.794,
          17.896,
          17.998,
          18.1,
          18.201999999999998,
          18.304000000000002,
          18.406,
          18.508,
          18.61,
          18.712,
          18.814,
          18.916,
          19.018,
          19.12,
          19.222,
          19.323999999999998,
          19.426000000000002,
          19.528,
          19.63,
          19.732,
          19.834,
          19.936,
          20.038,
          20.14,
          20.242,
          20.344,
          20.445999999999998,
          20.548000000000002,
          20.65,
          20.752,
          20.854,
          20.956,
          21.058,
          21.16,
          21.262,
          21.364,
          21.466,
          21.567999999999998,
          21.67,
          21.772,
          21.874000000000002,
          21.976,
          22.078,
          22.18,
          22.282,
          22.384,
          22.486,
          22.588,
          22.689999999999998,
          22.792,
          22.894,
          22.996000000000002,
          23.098,
          23.2,
          23.302,
          23.404,
          23.506,
          23.608,
          23.71,
          23.811999999999998,
          23.914,
          24.016,
          24.118000000000002,
          24.22,
          24.322,
          24.424,
          24.526,
          24.628,
          24.73,
          24.832,
          24.933999999999997,
          25.036,
          25.137999999999998,
          25.240000000000002,
          25.342,
          25.444000000000003,
          25.546,
          25.648,
          25.75,
          25.852,
          25.954,
          26.055999999999997,
          26.158,
          26.259999999999998,
          26.362000000000002,
          26.464,
          26.566000000000003,
          26.668,
          26.77,
          26.872,
          26.974,
          27.076,
          27.178,
          27.28,
          27.381999999999998,
          27.484,
          27.586,
          27.688000000000002,
          27.79,
          27.892,
          27.994,
          28.096,
          28.198,
          28.3,
          28.402,
          28.503999999999998,
          28.606,
          28.708,
          28.810000000000002,
          28.912,
          29.014,
          29.116,
          29.218,
          29.32,
          29.422,
          29.524,
          29.626,
          29.728,
          29.83,
          29.932,
          30.034,
          30.136,
          30.238,
          30.34,
          30.442,
          30.544,
          30.646,
          30.748,
          30.85,
          30.952,
          31.054,
          31.156,
          31.258,
          31.36,
          31.462,
          31.564,
          31.666,
          31.768,
          31.87,
          31.972,
          32.074,
          32.176,
          32.278,
          32.379999999999995,
          32.482,
          32.584,
          32.686,
          32.788,
          32.89,
          32.992000000000004,
          33.094,
          33.196,
          33.298,
          33.4,
          33.501999999999995,
          33.604,
          33.706,
          33.808,
          33.91,
          34.012,
          34.114000000000004,
          34.216,
          34.318,
          34.42,
          34.522,
          34.623999999999995,
          34.726,
          34.828,
          34.93,
          35.032,
          35.134,
          35.236000000000004,
          35.338,
          35.44,
          35.542,
          35.644,
          35.745999999999995,
          35.848,
          35.95,
          36.052,
          36.153999999999996,
          36.256,
          36.358000000000004,
          36.46,
          36.562,
          36.664,
          36.766,
          36.867999999999995,
          36.97,
          37.072,
          37.174,
          37.275999999999996,
          37.378,
          37.480000000000004,
          37.582,
          37.684,
          37.786,
          37.888000000000005,
          37.989999999999995,
          38.092,
          38.194,
          38.296,
          38.397999999999996,
          38.5,
          38.602000000000004,
          38.704,
          38.806,
          38.908,
          39.010000000000005,
          39.111999999999995,
          39.214,
          39.316,
          39.418,
          39.519999999999996,
          39.622,
          39.724000000000004,
          39.826,
          39.928,
          40.03,
          40.132000000000005,
          40.234,
          40.336,
          40.438,
          40.54,
          40.641999999999996,
          40.744,
          40.846000000000004,
          40.948,
          41.05,
          41.152,
          41.254000000000005,
          41.356,
          41.458,
          41.56,
          41.662,
          41.763999999999996,
          41.866,
          41.968,
          42.07,
          42.172,
          42.274,
          42.376000000000005,
          42.478,
          42.58,
          42.682,
          42.784,
          42.885999999999996,
          42.988,
          43.09,
          43.192,
          43.294,
          43.396,
          43.498000000000005,
          43.6,
          43.702,
          43.804,
          43.906,
          44.007999999999996,
          44.11,
          44.212,
          44.314,
          44.416,
          44.518,
          44.620000000000005,
          44.722,
          44.824,
          44.926,
          45.028,
          45.13,
          45.232,
          45.334,
          45.436,
          45.538,
          45.64,
          45.742,
          45.844,
          45.946,
          46.048,
          46.15,
          46.252,
          46.354,
          46.456,
          46.558,
          46.66,
          46.762,
          46.864,
          46.966,
          47.068,
          47.17,
          47.272,
          47.374,
          47.476,
          47.578,
          47.68,
          47.782,
          47.884,
          47.986,
          48.088,
          48.19,
          48.292,
          48.394,
          48.496,
          48.598,
          48.7,
          48.802,
          48.904,
          49.006,
          49.108,
          49.21,
          49.312,
          49.414,
          49.516,
          49.618,
          49.72,
          49.822,
          49.924,
          50.026,
          50.128,
          50.23,
          50.332,
          50.434,
          50.536,
          50.638,
          50.74,
          50.842,
          50.944,
          51.046,
          51.148,
          51.25,
          51.352,
          51.454,
          51.556,
          51.658,
          51.76,
          51.862,
          51.964,
          52.066,
          52.168,
          52.27,
          52.372,
          52.474,
          52.576,
          52.678,
          52.78,
          52.882,
          52.984,
          53.086,
          53.188,
          53.29,
          53.392,
          53.494,
          53.596,
          53.698,
          53.8,
          53.902,
          54.004,
          54.106,
          54.208,
          54.31,
          54.412,
          54.514,
          54.616,
          54.718,
          54.82,
          54.922,
          55.024,
          55.126,
          55.228,
          55.33,
          55.432,
          55.534,
          55.636,
          55.738,
          55.84,
          55.942,
          56.044,
          56.146,
          56.248,
          56.35,
          56.452,
          56.554,
          56.656,
          56.758,
          56.86,
          56.962,
          57.064,
          57.166,
          57.268,
          57.37,
          57.472,
          57.574,
          57.676,
          57.778,
          57.88,
          57.982,
          58.084,
          58.186,
          58.288,
          58.39,
          58.492,
          58.594,
          58.696,
          58.798,
          58.9,
          59.002,
          59.104,
          59.206,
          59.308,
          59.41,
          59.512,
          59.614,
          59.716,
          59.818,
          59.92,
          60.022,
          60.124,
          60.226,
          60.328,
          60.43,
          60.532,
          60.634,
          60.736,
          60.838,
          60.94,
          61.042,
          61.144,
          61.246,
          61.348,
          61.45,
          61.552,
          61.654,
          61.756,
          61.858,
          61.96,
          62.062,
          62.164,
          62.266,
          62.368,
          62.47,
          62.572,
          62.674,
          62.776,
          62.878,
          62.98,
          63.082,
          63.184,
          63.286,
          63.388,
          63.49,
          63.592,
          63.694,
          63.796,
          63.898
         ],
         "xaxis": "x",
         "y": [
          0.0009899569307249038,
          0.0010840058412850634,
          0.0011849939136809964,
          0.0012938342742882607,
          0.0014115053877012393,
          0.0015390086130240151,
          0.0016773217228948727,
          0.001827352384564564,
          0.0019898959068589232,
          0.002165601446944245,
          0.002354950327582804,
          0.0025582491668248207,
          0.002775639242890051,
          0.0030071220243901606,
          0.003252599238240301,
          0.0035119243884128163,
          0.0037849614389396063,
          0.004071645573024767,
          0.004372040636233515,
          0.0046863881128546515,
          0.005015143259463705,
          0.005358995259121727,
          0.005718869843449952,
          0.006095914600222965,
          0.0064914689621719274,
          0.006907022476683593,
          0.007344166219206516,
          0.007804542999465205,
          0.008289802226607787,
          0.008801564907382346,
          0.009341403268434691,
          0.009910837996276779,
          0.010511354207143005,
          0.011144435169527405,
          0.011811610710539499,
          0.01251451536037982,
          0.013254949832961438,
          0.014034938576563407,
          0.014856775973169369,
          0.01572305436533093,
          0.016636668413688712,
          0.01760079222843922,
          0.01861882809888118,
          0.019694328241168485,
          0.020830893541822822,
          0.022032055535421056,
          0.02330114958177892,
          0.024641188207459648,
          0.026054743719599403,
          0.02754384843942184,
          0.029109919283757776,
          0.030753711085784514,
          0.03247530022025379,
          0.03427409708037327,
          0.036148883077113676,
          0.038097865425580885,
          0.04011874132721194,
          0.04220876244102882,
          0.04436479083570095,
          0.04658333887439134,
          0.04886058754057748,
          0.051192380317001594,
          0.05357419259175637,
          0.056001079396952515,
          0.05846760683369776,
          0.060967774602648656,
          0.06349493850094684,
          0.06604174247033866,
          0.06860006973250478,
          0.07116102170327292,
          0.0737149317532252,
          0.07625141854958364,
          0.07875948082027484,
          0.08122763216140523,
          0.08364407128100634,
          0.08599688020019179,
          0.08827424077467898,
          0.09046465873043641,
          0.09255718435878844,
          0.09454162003247786,
          0.09640870654525188,
          0.09815028256419822,
          0.09975941378264644,
          0.10123049028439844,
          0.10255929192665537,
          0.10374302216020355,
          0.10478031076836121,
          0.1056711858041378,
          0.10641701487913491,
          0.10702041620614584,
          0.10748514059014352,
          0.10781592689182957,
          0.10801833517858146,
          0.10809856353316334,
          0.10806325597587006,
          0.10791930988339392,
          0.10767369148007097,
          0.10733326739750353,
          0.10690465904067734,
          0.10639412474557496,
          0.10580747268477812,
          0.10515000538258991,
          0.10442649470771949,
          0.10364118444189384,
          0.10279781606405596,
          0.1018996723137596,
          0.10094963247068102,
          0.09995023316940445,
          0.09890372899699242,
          0.09781214808284454,
          0.09667733930628122,
          0.0955010094625039,
          0.09428475053056251,
          0.09303005884013726,
          0.0917383492216188,
          0.09041096798959676,
          0.08904920878329377,
          0.08765433488617527,
          0.08622761075963598,
          0.0847703442794144,
          0.08328393969443475,
          0.08176995975879668,
          0.08023019392550967,
          0.07866672803570339,
          0.07708200970209975,
          0.07547890270770263,
          0.07386072337966622,
          0.0722312522135899,
          0.07059471513619377,
          0.06895573074158672,
          0.06731922253509613,
          0.06569029845028423,
          0.06407410332976995,
          0.06247565326211504,
          0.060899663216394874,
          0.05935038094273288,
          0.05783144036134605,
          0.05634574655523035,
          0.054895402095408365,
          0.053481681000453626,
          0.05210505251991259,
          0.05076525255800627,
          0.049461396361264016,
          0.0481921224940721,
          0.04695575546642735,
          0.04575047291223587,
          0.044574463084602445,
          0.04342605965213143,
          0.042303843233592785,
          0.04120670256062122,
          0.04013385226752238,
          0.039084808659028185,
          0.03805932895561773,
          0.03705732303659705,
          0.036078749237485795,
          0.03512350706525338,
          0.03419133966439507,
          0.033281757535146554,
          0.03239399254246247,
          0.03152698793835191,
          0.030679426301078613,
          0.02984979335618187,
          0.02903647196719884,
          0.02823785751286643,
          0.027452483684347734,
          0.026679146637273995,
          0.025917015514022815,
          0.025165718594942016,
          0.02442539661155297,
          0.023696717823922773,
          0.022980853007010704,
          0.02227941213524538,
          0.021594347920882283,
          0.020927834108378948,
          0.020282128294137412,
          0.01965942988135909,
          0.019061743574832982,
          0.018490757675500905,
          0.017947744556530705,
          0.017433488364283836,
          0.01694824248528805,
          0.016491716931952095,
          0.01606309375052758,
          0.01566106699426891,
          0.015283902798017439,
          0.014929514622233186,
          0.014595548723766274,
          0.014279475233235634,
          0.013978680732420538,
          0.01369055879484751,
          0.01341259547276486,
          0.013142447121574417,
          0.01287800823647811,
          0.01261746717076959,
          0.012359347781795848,
          0.012102535297394728,
          0.011846285096207077,
          0.011590213707305895,
          0.011334272173369303,
          0.011078702951610819,
          0.010823982663613375,
          0.010570754127453813,
          0.010319752073283017,
          0.010071727621766323,
          0.009827376885178894,
          0.009587278869587048,
          0.009351847203925429,
          0.009121299144458845,
          0.008895643897243672,
          0.008674690700014599,
          0.008458075462418831,
          0.008245303236924257,
          0.008035802525711587,
          0.007828986537101942,
          0.007624316065006663,
          0.0074213587065486,
          0.007219839637321984,
          0.007019680064853115,
          0.0068210206734832446,
          0.00662422872580976,
          0.0064298888536149,
          0.006238778818241216,
          0.0060518325339518385,
          0.005870093352872198,
          0.0056946609772241235,
          0.00552663541058228,
          0.005367061141196653,
          0.005216874350108987,
          0.005076855447949128,
          0.004947588752808975,
          0.0048294306914237525,
          0.004722487569362858,
          0.00462660371066159,
          0.004541360579961303,
          0.004466087316029602,
          0.004399882862055372,
          0.004341649520274753,
          0.004290137252679577,
          0.004243997394220075,
          0.004201843675809742,
          0.00416231764361289,
          0.004124154809273831,
          0.004086247289131432,
          0.004047698403547622,
          0.00400786480439966,
          0.003966382236064339,
          0.00392317201867013,
          0.0038784267206050447,
          0.0038325751530539536,
          0.003786228619366503,
          0.003740112103593744,
          0.0036949855951089136,
          0.003651561845189565,
          0.003610427400163068,
          0.003571973673422666,
          0.0035363440914911505,
          0.003503402033531162,
          0.0034727225001954533,
          0.0034436083692885168,
          0.0034151299282494767,
          0.003386184333318111,
          0.003355569935392647,
          0.003322069200209783,
          0.003284533348475928,
          0.003241961896208952,
          0.0031935709618053486,
          0.003138845431766506,
          0.0030775716937194828,
          0.0030098494688353405,
          0.0029360831080059314,
          0.0028569543701346795,
          0.002773380022656188,
          0.0026864584898628457,
          0.0025974101787990572,
          0.0025075160500037433,
          0.0024180585377115635,
          0.0023302681653558635,
          0.002245278271032293,
          0.00216408927857711,
          0.002087543032226212,
          0.002016306938329095,
          0.001950867074896139,
          0.0018915290540404668,
          0.001838425240211724,
          0.0017915269046399548,
          0.001750659988891092,
          0.0017155233114973056,
          0.0016857082405706968,
          0.0016607190417771704,
          0.0016399932767107565,
          0.0016229217643445972,
          0.0016088677289060084,
          0.0015971848468234865,
          0.0015872339797441057,
          0.001578398444431578,
          0.0015700977246028089,
          0.0015617995721097322,
          0.001553030471151326,
          0.0015433844456699932,
          0.0015325301758001078,
          0.0015202163577557202,
          0.0015062752014494197,
          0.0014906239240879853,
          0.0014732640804773075,
          0.0014542785849996627,
          0.0014338263349350895,
          0.0014121344417121027,
          0.0013894882093134506,
          0.0013662191532183227,
          0.001342691509095447,
          0.0013192878158316914,
          0.0012963942517993507,
          0.0012743864410876954,
          0.0012536164200819809,
          0.001234401365565707,
          0.0012170145433329771,
          0.0012016787577981934,
          0.0011885623889695185,
          0.001177777914937041,
          0.00116938265506055,
          0.0011633813461025388,
          0.001159730089389405,
          0.0011583411839945186,
          0.0011590883852807985,
          0.001161812191595081,
          0.001166324853150596,
          0.001172414903645623,
          0.0011798511248385663,
          0.001188385956648348,
          0.0011977584521943381,
          0.0012076969428120175,
          0.001217921618959176,
          0.0012281472472771009,
          0.0012380862314015054,
          0.0012474521850307106,
          0.001255964122086992,
          0.0012633512840638712,
          0.0012693585246058557,
          0.0012737520644625128,
          0.0012763253272756805,
          0.001276904481184923,
          0.0012753532564001454,
          0.0012715765965147837,
          0.0012655227393798115,
          0.0012571834139497103,
          0.001246591977720832,
          0.0012338194931584509,
          0.0012189689328497891,
          0.0012021678903506433,
          0.0011835603344406264,
          0.0011632980588267652,
          0.0011415325324548604,
          0.0011184078397484224,
          0.001094055315360706,
          0.0010685903319812345,
          0.0010421115063100673,
          0.001014702366008365,
          0.0009864352903308092,
          0.0009573773208826108,
          0.0009275972568535033,
          0.0008971733185265433,
          0.0008662005967720218,
          0.0008347975118849757,
          0.0008031105831888944,
          0.0007713169549394593,
          0.0007396243209871893,
          0.0007082681212867002,
          0.0006775061245182149,
          0.0006476107381756564,
          0.0006188595773395044,
          0.0005915249573361928,
          0.0005658630418810738,
          0.0005421033738587746,
          0.0005204394460800917,
          0.0005010208472838502,
          0.00048394736287515303,
          0.00046926524140912345,
          0.00045696567687812813,
          0.0004469854200053238,
          0.00043920932977402875,
          0.0004334746133371952,
          0.000429576475697921,
          0.00042727490232544147,
          0.0004263023172203746,
          0.00042637188423346275,
          0.00042718624069901457,
          0.0004284464631511015,
          0.00042986106293023115,
          0.00043115479709584907,
          0.0004320770628508858,
          0.0004324096290044679,
          0.00043197345297972024,
          0.00043063434163237066,
          0.00042830724053315373,
          0.00042495897754832513,
          0.00042060933752146565,
          0.00041533039876798174,
          0.0004092441120918791,
          0.00040251814418484265,
          0.0003953600380594458,
          0.00038800976623173684,
          0.0003807307741563248,
          0.0003737996408390533,
          0.0003674945297895017,
          0.00036208267339685765,
          0.00035780722953011965,
          0.0003548739662752668,
          0.0003534383576855019,
          0.00035359379231353,
          0.00035536168496396814,
          0.00035868431745041937,
          0.00036342119605801694,
          0.00036934958873824467,
          0.00037616969087348736,
          0.000383514574046813,
          0.000390964719409543,
          0.000398066558482919,
          0.0004043540792851295,
          0.00040937224647697584,
          0.0004127007691932377,
          0.00041397665868730396,
          0.00041291406549484285,
          0.00040932007170157785,
          0.0004031054203906379,
          0.0003942895589558905,
          0.00038299981272206583,
          0.00036946494265717905,
          0.0003540037303402623,
          0.00033700953736897943,
          0.00031893198061200376,
          0.000300256940255638,
          0.00028148608126734535,
          0.00026311694085748386,
          0.00024562444401321623,
          0.00022944448918248145,
          0.00021496002792169806,
          0.0002024898706015884,
          0.00019228030042669488,
          0.00018449947484584556,
          0.00017923453207481944,
          0.00017649128905668747,
          0.00017619640048283262,
          0.0001782018316740132,
          0.00018229147014098653,
          0.00018818965643545773,
          0.00019557135604626356,
          0.0002040736280013998,
          0.0002133079836676337,
          0.0002228731831128765,
          0.00023236799648416418,
          0.00024140347001666562,
          0.0002496142807313936,
          0.00025666883508479747,
          0.0002622778547581205,
          0.0002662012850063066,
          0.0002682534453817795,
          0.00026830640985548094,
          0.0002662916486758752,
          0.0002621999884826952,
          0.00025607995598849386,
          0.00024803457318703105,
          0.00023821667892485917,
          0.00022682287174907644,
          0.00021408620752132502,
          0.0002002678425459702,
          0.00018564788361298136,
          0.0001705157804767616,
          0.00015516066113190145,
          0.00013986205265498038,
          0.0001248814393396839,
          0.00011045507861722011,
          0.00009678842271346431,
          0.00008405238501624739,
          0.00007238155487972281,
          0.0000618743170275908,
          0.000052594687516070155,
          0.00004457555260939683,
          0.0000378229027170348,
          0.00003232059967844517,
          0.000028035206419413102,
          0.000024920442805331948,
          0.00002292090550036225,
          0.000021974794447519902,
          0.000022015513457471756,
          0.00002297214530684183,
          0.00002476893045381462,
          0.00002732399142977185,
          0.00003054763208258671,
          0.00003434059418362607,
          0.000038592668219734895,
          0.00004318202840500501,
          0.00004797559552698207,
          0.00005283063033590718,
          0.000057597633493476376,
          0.000062124487368303,
          0.00006626163408275801,
          0.00006986795790014428,
          0.00007281694227173467,
          0.00007500261420516637,
          0.00007634477868446482
         ],
         "yaxis": "y"
        },
        {
         "legendgroup": "Silver Medalist",
         "marker": {
          "color": "rgb(44, 160, 44)"
         },
         "mode": "lines",
         "name": "Silver Medalist",
         "showlegend": true,
         "type": "scatter",
         "x": [
          11,
          11.124,
          11.248,
          11.372,
          11.496,
          11.62,
          11.744,
          11.868,
          11.992,
          12.116,
          12.24,
          12.364,
          12.488,
          12.612,
          12.736,
          12.86,
          12.984,
          13.108,
          13.232,
          13.356,
          13.48,
          13.604,
          13.728,
          13.852,
          13.975999999999999,
          14.1,
          14.224,
          14.347999999999999,
          14.472,
          14.596,
          14.72,
          14.844,
          14.968,
          15.091999999999999,
          15.216000000000001,
          15.34,
          15.464,
          15.588000000000001,
          15.712,
          15.836,
          15.96,
          16.084,
          16.208,
          16.332,
          16.456,
          16.58,
          16.704,
          16.828,
          16.951999999999998,
          17.076,
          17.2,
          17.323999999999998,
          17.448,
          17.572,
          17.695999999999998,
          17.82,
          17.944,
          18.067999999999998,
          18.192,
          18.316,
          18.44,
          18.564,
          18.688,
          18.812,
          18.936,
          19.060000000000002,
          19.183999999999997,
          19.308,
          19.432000000000002,
          19.555999999999997,
          19.68,
          19.804000000000002,
          19.928,
          20.052,
          20.176000000000002,
          20.3,
          20.424,
          20.548000000000002,
          20.672,
          20.796,
          20.92,
          21.044,
          21.168,
          21.292,
          21.416,
          21.54,
          21.664,
          21.788,
          21.912,
          22.036,
          22.16,
          22.284,
          22.408,
          22.532,
          22.656,
          22.78,
          22.904,
          23.028,
          23.152,
          23.276,
          23.4,
          23.524,
          23.648,
          23.772,
          23.896,
          24.02,
          24.144,
          24.268,
          24.392,
          24.516,
          24.64,
          24.764,
          24.887999999999998,
          25.012,
          25.136,
          25.259999999999998,
          25.384,
          25.508,
          25.631999999999998,
          25.756,
          25.880000000000003,
          26.003999999999998,
          26.128,
          26.252000000000002,
          26.375999999999998,
          26.5,
          26.624000000000002,
          26.747999999999998,
          26.872,
          26.996000000000002,
          27.12,
          27.244,
          27.368,
          27.492,
          27.616,
          27.74,
          27.864,
          27.988,
          28.112,
          28.236,
          28.36,
          28.484,
          28.608,
          28.732,
          28.856,
          28.98,
          29.104,
          29.228,
          29.352,
          29.476,
          29.6,
          29.724,
          29.848,
          29.972,
          30.096,
          30.22,
          30.344,
          30.468,
          30.592,
          30.716,
          30.84,
          30.964,
          31.088,
          31.212,
          31.336,
          31.46,
          31.584,
          31.708,
          31.832,
          31.956,
          32.08,
          32.204,
          32.328,
          32.452,
          32.576,
          32.7,
          32.824,
          32.948,
          33.072,
          33.196,
          33.32,
          33.444,
          33.568,
          33.692,
          33.816,
          33.94,
          34.064,
          34.188,
          34.312,
          34.436,
          34.56,
          34.684,
          34.808,
          34.932,
          35.056,
          35.18,
          35.304,
          35.428,
          35.552,
          35.676,
          35.8,
          35.924,
          36.048,
          36.172,
          36.296,
          36.42,
          36.544,
          36.668,
          36.792,
          36.916,
          37.04,
          37.164,
          37.288,
          37.412,
          37.536,
          37.66,
          37.784,
          37.908,
          38.032,
          38.156,
          38.28,
          38.403999999999996,
          38.528,
          38.652,
          38.775999999999996,
          38.9,
          39.024,
          39.147999999999996,
          39.272,
          39.396,
          39.519999999999996,
          39.644,
          39.768,
          39.891999999999996,
          40.016,
          40.14,
          40.263999999999996,
          40.388000000000005,
          40.512,
          40.635999999999996,
          40.760000000000005,
          40.884,
          41.007999999999996,
          41.132000000000005,
          41.256,
          41.379999999999995,
          41.504000000000005,
          41.628,
          41.751999999999995,
          41.876000000000005,
          42,
          42.123999999999995,
          42.248000000000005,
          42.372,
          42.495999999999995,
          42.620000000000005,
          42.744,
          42.867999999999995,
          42.992000000000004,
          43.116,
          43.24,
          43.364,
          43.488,
          43.612,
          43.736,
          43.86,
          43.984,
          44.108,
          44.232,
          44.356,
          44.48,
          44.604,
          44.728,
          44.852,
          44.976,
          45.1,
          45.224,
          45.348,
          45.472,
          45.596,
          45.72,
          45.844,
          45.968,
          46.092,
          46.216,
          46.34,
          46.464,
          46.588,
          46.712,
          46.836,
          46.96,
          47.084,
          47.208,
          47.332,
          47.456,
          47.58,
          47.704,
          47.828,
          47.952,
          48.076,
          48.2,
          48.324,
          48.448,
          48.572,
          48.696,
          48.82,
          48.944,
          49.068,
          49.192,
          49.316,
          49.44,
          49.564,
          49.688,
          49.812,
          49.936,
          50.06,
          50.184,
          50.308,
          50.432,
          50.556,
          50.68,
          50.804,
          50.928,
          51.052,
          51.176,
          51.3,
          51.424,
          51.548,
          51.672,
          51.796,
          51.92,
          52.044,
          52.168,
          52.292,
          52.416,
          52.54,
          52.664,
          52.788,
          52.912,
          53.036,
          53.16,
          53.284,
          53.408,
          53.532,
          53.656,
          53.78,
          53.904,
          54.028,
          54.152,
          54.276,
          54.4,
          54.524,
          54.648,
          54.772,
          54.896,
          55.02,
          55.144,
          55.268,
          55.392,
          55.516,
          55.64,
          55.764,
          55.888,
          56.012,
          56.136,
          56.26,
          56.384,
          56.508,
          56.632,
          56.756,
          56.88,
          57.004,
          57.128,
          57.252,
          57.376,
          57.5,
          57.624,
          57.748,
          57.872,
          57.996,
          58.12,
          58.244,
          58.368,
          58.492,
          58.616,
          58.74,
          58.864,
          58.988,
          59.112,
          59.236,
          59.36,
          59.484,
          59.608,
          59.732,
          59.856,
          59.98,
          60.104,
          60.228,
          60.352,
          60.476,
          60.6,
          60.724,
          60.848,
          60.972,
          61.096,
          61.22,
          61.344,
          61.468,
          61.592,
          61.716,
          61.84,
          61.964,
          62.088,
          62.212,
          62.336,
          62.46,
          62.584,
          62.708,
          62.832,
          62.956,
          63.08,
          63.204,
          63.328,
          63.452,
          63.576,
          63.7,
          63.824,
          63.948,
          64.072,
          64.196,
          64.32,
          64.444,
          64.568,
          64.69200000000001,
          64.816,
          64.94,
          65.064,
          65.188,
          65.312,
          65.436,
          65.56,
          65.684,
          65.80799999999999,
          65.932,
          66.056,
          66.18,
          66.304,
          66.428,
          66.55199999999999,
          66.676,
          66.8,
          66.924,
          67.048,
          67.172,
          67.29599999999999,
          67.42,
          67.544,
          67.668,
          67.792,
          67.916,
          68.03999999999999,
          68.164,
          68.288,
          68.412,
          68.536,
          68.66,
          68.78399999999999,
          68.908,
          69.032,
          69.156,
          69.28,
          69.404,
          69.52799999999999,
          69.652,
          69.77600000000001,
          69.9,
          70.024,
          70.148,
          70.27199999999999,
          70.396,
          70.52000000000001,
          70.644,
          70.768,
          70.892,
          71.01599999999999,
          71.14,
          71.26400000000001,
          71.388,
          71.512,
          71.636,
          71.75999999999999,
          71.884,
          72.00800000000001,
          72.132,
          72.256,
          72.38,
          72.50399999999999,
          72.628,
          72.75200000000001,
          72.876
         ],
         "xaxis": "x",
         "y": [
          0.000255744979094349,
          0.0002884889838990061,
          0.000323633345338423,
          0.0003613728971586497,
          0.0004020058643697258,
          0.0004459543251598637,
          0.0004937787309785564,
          0.0005461833970702595,
          0.0006040102710218997,
          0.0006682192250543424,
          0.0007398545873148696,
          0.0008199995114303395,
          0.000909721856628519,
          0.001010017197102117,
          0.0011217560335111737,
          0.0012456428857292492,
          0.0013821944278545734,
          0.001531742055977261,
          0.001694461329081921,
          0.0018704268912165972,
          0.0020596872751193354,
          0.002262350061543032,
          0.0024786649388639894,
          0.0027090909272524865,
          0.0029543348707052747,
          0.003215351441023477,
          0.003493300167206373,
          0.0037894618547869947,
          0.004105124309572091,
          0.004441454403407099,
          0.004799378988212864,
          0.005179499824408649,
          0.005582066652554923,
          0.006007027364692905,
          0.006454165084312091,
          0.006923319676009505,
          0.007414677264720373,
          0.007929097747430247,
          0.00846843927625909,
          0.009035832430913623,
          0.009635856943549318,
          0.010274581208757618,
          0.010959439128396389,
          0.011698938647774899,
          0.012502219116179667,
          0.013378497086915596,
          0.014336458833025114,
          0.015383669476370026,
          0.016526070869121536,
          0.017767632230347805,
          0.019110199640721335,
          0.020553565067936052,
          0.022095746202248225,
          0.02373343938678782,
          0.02546258376765706,
          0.027278959214318242,
          0.029178735977956484,
          0.031158901113750335,
          0.03321750419736141,
          0.03535369002928218,
          0.037567514988361285,
          0.03985957221923349,
          0.04223047495791478,
          0.04468026391319402,
          0.04720781186548588,
          0.049810296065908664,
          0.05248279754770561,
          0.055218068220631446,
          0.058006484580843266,
          0.060836184402636335,
          0.06369336310908638,
          0.06656269217778256,
          0.06942781431557758,
          0.07227186925234463,
          0.07507800859751597,
          0.0778298661428646,
          0.08051195892120565,
          0.0831100023345432,
          0.08561112878998979,
          0.08800400367579829,
          0.09027883618443035,
          0.09242728678527898,
          0.09444227911324424,
          0.09631773194864082,
          0.09804823615554883,
          0.09962871048213275,
          0.10105407719692097,
          0.10231900192030616,
          0.1034177404522249,
          0.1043441282911361,
          0.10509173598163772,
          0.10565419619194326,
          0.10602568794856308,
          0.10620154185697658,
          0.10617891014487611,
          0.10595743010142945,
          0.10553980199063555,
          0.10493220507391268,
          0.1041444888045993,
          0.10319009942688018,
          0.10208573200845668,
          0.100850729765257,
          0.09950628127938091,
          0.09807448736889122,
          0.09657738004631093,
          0.0950359754603696,
          0.0934694323300589,
          0.09189437009834593,
          0.0903243805150345,
          0.08876974609629922,
          0.08723736154674672,
          0.08573084122300512,
          0.08425078732543662,
          0.08279518903856711,
          0.0813599210577622,
          0.07993930946376815,
          0.07852673261628597,
          0.07711522405918449,
          0.0756980434912411,
          0.07426918146305579,
          0.07282376487302646,
          0.0713583348730484,
          0.06987097736382601,
          0.0683612989254363,
          0.06683025679367953,
          0.06527986835432588,
          0.06371284094131419,
          0.06213217375839829,
          0.060540788281664204,
          0.058941240321307216,
          0.05733555604797886,
          0.05572521697075535,
          0.05411129733874275,
          0.052494734620622485,
          0.05087669274153863,
          0.049258961635498776,
          0.047644327914300774,
          0.0460368517239098,
          0.04444199467048455,
          0.04286656220209567,
          0.041318448785098404,
          0.03980620218087016,
          0.038338449955270505,
          0.03692325283910568,
          0.035567462208638406,
          0.03427616063994203,
          0.03305225485472492,
          0.03189627090830477,
          0.030806375225486307,
          0.02977861611945415,
          0.02880735307008876,
          0.027885819189355582,
          0.027006748818608792,
          0.026162998506158965,
          0.025348095554134725,
          0.02455666230937555,
          0.023784683723224596,
          0.023029607165044708,
          0.022290283796281556,
          0.021566777296398932,
          0.020860076628620182,
          0.020171754229591225,
          0.019503609978820027,
          0.018857335859726914,
          0.018234228118463106,
          0.017634964742164926,
          0.017059457677128943,
          0.01650678231500993,
          0.01597518172420717,
          0.015462139718650033,
          0.014964514635749963,
          0.014478724031879128,
          0.014000968890025226,
          0.01352748411244711,
          0.013054800101029307,
          0.01257999846491824,
          0.012100943884155077,
          0.011616474470614483,
          0.01112653501649878,
          0.010632241405281032,
          0.010135869886064039,
          0.009640771217552274,
          0.00915121597522751,
          0.008672182662448022,
          0.008209103952042966,
          0.0077675880668009335,
          0.007353132091527322,
          0.006970842393686247,
          0.006625175032511426,
          0.00631970676788658,
          0.006056945525055042,
          0.005838188051702573,
          0.0056634317638969,
          0.005531346889410292,
          0.005439313379595205,
          0.005383524223536846,
          0.005359152645853444,
          0.005360575512874035,
          0.005381639813866605,
          0.005415954271372782,
          0.005457184934460557,
          0.00549933276827523,
          0.005536973108979794,
          0.005565441236522292,
          0.005580954582550117,
          0.005580669251989805,
          0.0055626754809397555,
          0.0055259423664674266,
          0.0054702259581850855,
          0.005395956262494661,
          0.005304117946614137,
          0.0051961369394002265,
          0.005073781314881228,
          0.00493908049155325,
          0.0047942625297936105,
          0.004641705701127514,
          0.0044838979426427865,
          0.004323396563827947,
          0.004162780767214935,
          0.004004591156112274,
          0.0038512532475749243,
          0.0037049857289777445,
          0.0035676982724371716,
          0.003440887516317645,
          0.003325542667090169,
          0.0032220734756407965,
          0.003130272703171606,
          0.0030493225090757496,
          0.0029778497058293597,
          0.0029140291045304913,
          0.0028557280434383073,
          0.002800679596749881,
          0.002746667807020117,
          0.002691706273524299,
          0.002634191927441139,
          0.0025730187933651586,
          0.0025076415314394416,
          0.002438084804823516,
          0.002364901064460248,
          0.002289085211330492,
          0.002211958962233364,
          0.002135040071683744,
          0.002059911672543857,
          0.001988105075793713,
          0.0019210058971516801,
          0.001859789023550862,
          0.0018053834205635677,
          0.0017584637714944005,
          0.0017194629299678431,
          0.0016885974500184656,
          0.0016658981008827983,
          0.0016512381533340032,
          0.0016443540688056274,
          0.0016448556695127742,
          0.0016522255200997315,
          0.0016658097250656985,
          0.0016848043093829965,
          0.001708242552120259,
          0.0017349889381061867,
          0.0017637447527506292,
          0.001793068866270211,
          0.0018214151496778255,
          0.001847185545644538,
          0.0018687954488576985,
          0.0018847461012492643,
          0.001893697486627042,
          0.001894534909393526,
          0.0018864230998579838,
          0.0018688431750534715,
          0.001841609828945083,
          0.0018048683743396943,
          0.001759073344772861,
          0.0017049519859889044,
          0.0016434569409267774,
          0.0015757127207112268,
          0.0015029602500340905,
          0.0014265030613761843,
          0.0013476578043627595,
          0.0012677108273379594,
          0.0011878818103448357,
          0.0011092948397241386,
          0.0010329569070629792,
          0.0009597435421223439,
          0.0008903910935906009,
          0.0008254950096983907,
          0.0007655133246516547,
          0.0007107744318133775,
          0.0006614881388963022,
          0.0006177589720296704,
          0.0005796007315675303,
          0.0005469513952874567,
          0.0005196875945017174,
          0.0004976380309925988,
          0.00048059533634417425,
          0.0004683259884477342,
          0.00046057799289510705,
          0.00045708612021334714,
          0.00045757458006209095,
          0.0004617571278410006,
          0.0004693347503775689,
          0.000479991269862854,
          0.0004933874325639533,
          0.0005091542927462883,
          0.0005268869325669033,
          0.0005461397351813369,
          0.0005664245043604744,
          0.0005872126533553521,
          0.000607942432434681,
          0.0006280317138682137,
          0.0006468962230592011,
          0.0006639723523832144,
          0.000678742916204853,
          0.0006907635259912342,
          0.0006996868160898509,
          0.0007052816477830335,
          0.0007074447299634867,
          0.0007062028203913936,
          0.0007017047373590637,
          0.0006942036744359661,
          0.0006840315815135095,
          0.0006715684518389353,
          0.0006572100599331103,
          0.0006413379091701578,
          0.0006242948287294246,
          0.0006063688507671468,
          0.0005877868191999523,
          0.000568717805798872,
          0.0005492850385586779,
          0.0005295838790594292,
          0.0005097025854495036,
          0.0004897422771038394,
          0.0004698327184159225,
          0.00045014123077068575,
          0.00043087312178505244,
          0.0004122633315176839,
          0.0003945603445170962,
          0.0003780046058131219,
          0.0003628045329405977,
          0.0003491136096588769,
          0.00033701192497989863,
          0.00032649490707207504,
          0.0003174709942258212,
          0.0003097687419171592,
          0.000303152576835801,
          0.00029734526857462675,
          0.00029205436205241846,
          0.00028699940935927973,
          0.000281936899623085,
          0.0002766802772746468,
          0.00027111326526845614,
          0.0002651957266220426,
          0.00025896234038082585,
          0.0002525152784777854,
          0.0002460127203489259,
          0.00023965535320152667,
          0.00023367295459957447,
          0.0002283127728098145,
          0.00022383078729301542,
          0.00022048615622973186,
          0.00021853836392476074,
          0.0002182458905161891,
          0.00021986474619314211,
          0.00022364502207722087,
          0.00022982375515119677,
          0.00023861288936534,
          0.00025018189895250774,
          0.00026463563733328656,
          0.0002819890585215585,
          0.00030214146885727865,
          0.00032485373237152264,
          0.00034973221084777875,
          0.00037622304706113826,
          0.0004036196425858186,
          0.0004310848762431466,
          0.0004576878909697587,
          0.00048245336993096784,
          0.000504419410706128,
          0.0005226986860015773,
          0.0005365368056227469,
          0.0005453618289447176,
          0.0005488197511726853,
          0.0005467923889804411,
          0.0005393961841599492,
          0.0005269627066581092,
          0.0005100037260962031,
          0.000489165329033095,
          0.00046517647724983636,
          0.0004387975458884509,
          0.0004107737966293425,
          0.0003817975883624677,
          0.00035248163526922983,
          0.0003233440421318456,
          0.00029480440866358693,
          0.0002671891715060588,
          0.00024074364207085676,
          0.00021564792167646263,
          0.0001920339882764426,
          0.00017000166176336196,
          0.00014963175461574064,
          0.00013099538684003696,
          0.00011415908893386917,
          0.0000991858602839288,
          0.00008613275089055475,
          0.00007504578095421827,
          0.00006595312171303415,
          0.00005885746616605598,
          0.00005372846148869048,
          0.000050495993819022286,
          0.00004904503543139453,
          0.00004921269053365638,
          0.00005078799705835528,
          0.00005351493297987049,
          0.000057098908857729095,
          0.00006121678396279474,
          0.00006553012079026474,
          0.00006970101604290336,
          0.00007340946346344377,
          0.00007637087993641792,
          0.00007835222913989419,
          0.00007918516232327515,
          0.00007877479217611923,
          0.00007710311550261363,
          0.00007422665768409682,
          0.0000702685495092663,
          0.00006540587026435234,
          0.000059853605931251725,
          0.000053846902335635965,
          0.000047623396846499944,
          0.00004140728466864993,
          0.00003539645065289872,
          0.00002975353771818063,
          0.00002460130657412532,
          0.000020022146429101404,
          0.0000160611868528469,
          0.000012732177778827925,
          0.000010025161797424903,
          0.000007914949741433855,
          0.000006369498368559679,
          0.000005357439988293495,
          0.000004854190797996586,
          0.000004846238108640235,
          0.0000053333597959832905,
          0.0000063286591313152624,
          0.000007856412910824744,
          0.000009947845232134117,
          0.000012635068170965875,
          0.000015943582528167382,
          0.00001988390402161516,
          0.000024443056381738203,
          0.00002957682364103099,
          0.00003520374216490826,
          0.00004120180073060248,
          0.000047408675047553647,
          0.000053626040289120975,
          0.00005962809497805543,
          0.00006517393257841955,
          0.0000700228778382546,
          0.00007395144238087568,
          0.00007677022827665599,
          0.00007833898464978561,
          0.00007857813714919869,
          0.00007747546130413152,
          0.00007508711578703088,
          0.00007153291329408799,
          0.00006698638678598937,
          0.00006166080550651223,
          0.0000557927220303912,
          0.00004962483262248479,
          0.00004338989181122508,
          0.00003729716177435782,
          0.000031522454390503394,
          0.000026202315218125007,
          0.000021432385372029163,
          0.00001726953023923565,
          0.000013736992992746928,
          0.000010831639063053863,
          0.000008532302066115031,
          0.000006808298375758981,
          0.000005627310640406751,
          0.0000049620115469339125,
          0.00000479497529007593,
          0.0000051215842881641465,
          0.0000059507752183753435,
          0.000007303586412040087,
          0.000009209581297744573,
          0.000011701345376750591,
          0.000014807398338711788,
          0.000018544029677791312,
          0.000022906743615853556,
          0.000027862161920958,
          0.00003334134594126203,
          0.00003923552315496029,
          0.00004539510571242196,
          0.0000516326508884066,
          0.00005773004108404909,
          0.00006344968597975078,
          0.00006854902913657355,
          0.00007279715144822485,
          0.00007599188574379108,
          0.00007797566226587189
         ],
         "yaxis": "y"
        },
        {
         "legendgroup": "Bronze Medalist",
         "marker": {
          "color": "rgb(214, 39, 40)"
         },
         "mode": "lines",
         "name": "Bronze Medalist",
         "showlegend": true,
         "type": "scatter",
         "x": [
          10,
          10.124,
          10.248,
          10.372,
          10.496,
          10.62,
          10.744,
          10.868,
          10.992,
          11.116,
          11.24,
          11.364,
          11.488,
          11.612,
          11.736,
          11.86,
          11.984,
          12.108,
          12.232,
          12.356,
          12.48,
          12.604,
          12.728,
          12.852,
          12.975999999999999,
          13.1,
          13.224,
          13.347999999999999,
          13.472,
          13.596,
          13.72,
          13.844,
          13.968,
          14.091999999999999,
          14.216000000000001,
          14.34,
          14.464,
          14.588000000000001,
          14.712,
          14.836,
          14.96,
          15.084,
          15.208,
          15.332,
          15.456,
          15.58,
          15.704,
          15.828,
          15.952,
          16.076,
          16.2,
          16.323999999999998,
          16.448,
          16.572,
          16.695999999999998,
          16.82,
          16.944,
          17.067999999999998,
          17.192,
          17.316,
          17.44,
          17.564,
          17.688,
          17.812,
          17.936,
          18.060000000000002,
          18.183999999999997,
          18.308,
          18.432000000000002,
          18.555999999999997,
          18.68,
          18.804000000000002,
          18.928,
          19.052,
          19.176000000000002,
          19.3,
          19.424,
          19.548000000000002,
          19.672,
          19.796,
          19.92,
          20.044,
          20.168,
          20.292,
          20.416,
          20.54,
          20.664,
          20.788,
          20.912,
          21.036,
          21.16,
          21.284,
          21.408,
          21.532,
          21.656,
          21.78,
          21.904,
          22.028,
          22.152,
          22.276,
          22.4,
          22.524,
          22.648,
          22.772,
          22.896,
          23.02,
          23.144,
          23.268,
          23.392,
          23.516,
          23.64,
          23.764,
          23.887999999999998,
          24.012,
          24.136,
          24.259999999999998,
          24.384,
          24.508,
          24.631999999999998,
          24.756,
          24.880000000000003,
          25.003999999999998,
          25.128,
          25.252000000000002,
          25.375999999999998,
          25.5,
          25.624000000000002,
          25.747999999999998,
          25.872,
          25.996000000000002,
          26.12,
          26.244,
          26.368,
          26.492,
          26.616,
          26.74,
          26.864,
          26.988,
          27.112,
          27.236,
          27.36,
          27.484,
          27.608,
          27.732,
          27.856,
          27.98,
          28.104,
          28.228,
          28.352,
          28.476,
          28.6,
          28.724,
          28.848,
          28.972,
          29.096,
          29.22,
          29.344,
          29.468,
          29.592,
          29.716,
          29.84,
          29.964,
          30.088,
          30.212,
          30.336,
          30.46,
          30.584,
          30.708,
          30.832,
          30.956,
          31.08,
          31.204,
          31.328,
          31.452,
          31.576,
          31.7,
          31.824,
          31.948,
          32.072,
          32.196,
          32.32,
          32.444,
          32.568,
          32.692,
          32.816,
          32.94,
          33.064,
          33.188,
          33.312,
          33.436,
          33.56,
          33.684,
          33.808,
          33.932,
          34.056,
          34.18,
          34.304,
          34.428,
          34.552,
          34.676,
          34.8,
          34.924,
          35.048,
          35.172,
          35.296,
          35.42,
          35.544,
          35.668,
          35.792,
          35.916,
          36.04,
          36.164,
          36.288,
          36.412,
          36.536,
          36.66,
          36.784,
          36.908,
          37.032,
          37.156,
          37.28,
          37.403999999999996,
          37.528,
          37.652,
          37.775999999999996,
          37.9,
          38.024,
          38.147999999999996,
          38.272,
          38.396,
          38.519999999999996,
          38.644,
          38.768,
          38.891999999999996,
          39.016,
          39.14,
          39.263999999999996,
          39.388000000000005,
          39.512,
          39.635999999999996,
          39.760000000000005,
          39.884,
          40.007999999999996,
          40.132000000000005,
          40.256,
          40.379999999999995,
          40.504000000000005,
          40.628,
          40.751999999999995,
          40.876000000000005,
          41,
          41.123999999999995,
          41.248000000000005,
          41.372,
          41.495999999999995,
          41.620000000000005,
          41.744,
          41.867999999999995,
          41.992000000000004,
          42.116,
          42.24,
          42.364,
          42.488,
          42.612,
          42.736,
          42.86,
          42.984,
          43.108,
          43.232,
          43.356,
          43.48,
          43.604,
          43.728,
          43.852,
          43.976,
          44.1,
          44.224,
          44.348,
          44.472,
          44.596,
          44.72,
          44.844,
          44.968,
          45.092,
          45.216,
          45.34,
          45.464,
          45.588,
          45.712,
          45.836,
          45.96,
          46.084,
          46.208,
          46.332,
          46.456,
          46.58,
          46.704,
          46.828,
          46.952,
          47.076,
          47.2,
          47.324,
          47.448,
          47.572,
          47.696,
          47.82,
          47.944,
          48.068,
          48.192,
          48.316,
          48.44,
          48.564,
          48.688,
          48.812,
          48.936,
          49.06,
          49.184,
          49.308,
          49.432,
          49.556,
          49.68,
          49.804,
          49.928,
          50.052,
          50.176,
          50.3,
          50.424,
          50.548,
          50.672,
          50.796,
          50.92,
          51.044,
          51.168,
          51.292,
          51.416,
          51.54,
          51.664,
          51.788,
          51.912,
          52.036,
          52.16,
          52.284,
          52.408,
          52.532,
          52.656,
          52.78,
          52.904,
          53.028,
          53.152,
          53.276,
          53.4,
          53.524,
          53.648,
          53.772,
          53.896,
          54.02,
          54.144,
          54.268,
          54.392,
          54.516,
          54.64,
          54.764,
          54.888,
          55.012,
          55.136,
          55.26,
          55.384,
          55.508,
          55.632,
          55.756,
          55.88,
          56.004,
          56.128,
          56.252,
          56.376,
          56.5,
          56.624,
          56.748,
          56.872,
          56.996,
          57.12,
          57.244,
          57.368,
          57.492,
          57.616,
          57.74,
          57.864,
          57.988,
          58.112,
          58.236,
          58.36,
          58.484,
          58.608,
          58.732,
          58.856,
          58.98,
          59.104,
          59.228,
          59.352,
          59.476,
          59.6,
          59.724,
          59.848,
          59.972,
          60.096,
          60.22,
          60.344,
          60.468,
          60.592,
          60.716,
          60.84,
          60.964,
          61.088,
          61.212,
          61.336,
          61.46,
          61.584,
          61.708,
          61.832,
          61.956,
          62.08,
          62.204,
          62.328,
          62.452,
          62.576,
          62.7,
          62.824,
          62.948,
          63.072,
          63.196,
          63.32,
          63.444,
          63.568,
          63.692,
          63.816,
          63.94,
          64.064,
          64.188,
          64.312,
          64.436,
          64.56,
          64.684,
          64.80799999999999,
          64.932,
          65.056,
          65.18,
          65.304,
          65.428,
          65.55199999999999,
          65.676,
          65.8,
          65.924,
          66.048,
          66.172,
          66.29599999999999,
          66.42,
          66.544,
          66.668,
          66.792,
          66.916,
          67.03999999999999,
          67.164,
          67.288,
          67.412,
          67.536,
          67.66,
          67.78399999999999,
          67.908,
          68.032,
          68.156,
          68.28,
          68.404,
          68.52799999999999,
          68.652,
          68.77600000000001,
          68.9,
          69.024,
          69.148,
          69.27199999999999,
          69.396,
          69.52000000000001,
          69.644,
          69.768,
          69.892,
          70.01599999999999,
          70.14,
          70.26400000000001,
          70.388,
          70.512,
          70.636,
          70.75999999999999,
          70.884,
          71.00800000000001,
          71.132,
          71.256,
          71.38,
          71.50399999999999,
          71.628,
          71.75200000000001,
          71.876
         ],
         "xaxis": "x",
         "y": [
          0.00009194020683976454,
          0.00009615433823926148,
          0.00010021010042990188,
          0.00010436763291273973,
          0.0001089213827162997,
          0.00011417122636561652,
          0.0001203924010600331,
          0.00012780873450074658,
          0.00013657361444520822,
          0.00014676240137575502,
          0.00015837861523551188,
          0.00017137438129875268,
          0.00018568355086843842,
          0.00020126392436928403,
          0.00021814341173601788,
          0.0002364640413536902,
          0.00025651766015922654,
          0.0002787680164294778,
          0.00030385560457518035,
          0.00033258396235817786,
          0.0003658887203094298,
          0.00040479322370603994,
          0.0004503565910613479,
          0.0005036213149513099,
          0.0005655677471091574,
          0.000637081995603868,
          0.000718942024413345,
          0.0008118243632073966,
          0.0009163311881546424,
          0.0010330350349185852,
          0.0011625364181606119,
          0.0013055284091081246,
          0.0014628618591216954,
          0.001635605385019896,
          0.0018250952506444313,
          0.0020329716130599138,
          0.0022611989699273354,
          0.0025120698253058215,
          0.0027881914667207976,
          0.0030924563199015275,
          0.0034279967315462225,
          0.00379812541118649,
          0.0042062633485204295,
          0.0046558579793814295,
          0.005150295763476941,
          0.00569281506206794,
          0.006286426977317364,
          0.0069338531783370095,
          0.007637490136104672,
          0.008399408100261177,
          0.009221390258226709,
          0.010105012861837686,
          0.011051761173514914,
          0.012063169772507447,
          0.013140970229131271,
          0.01428722556212769,
          0.015504430126504569,
          0.016795556026882135,
          0.01816403261751118,
          0.019613653404872144,
          0.021148413616978244,
          0.02277229059692277,
          0.024488986802229357,
          0.02630166049213928,
          0.028212671346660775,
          0.0302233667799875,
          0.03233392949856878,
          0.034543298366332444,
          0.03684916396448084,
          0.03924802904579562,
          0.04173531439831552,
          0.044305484366603747,
          0.046952164739038606,
          0.049668229197810075,
          0.05244583823043024,
          0.05527642463649164,
          0.058150630511650474,
          0.06105821008466991,
          0.06398791990839059,
          0.0669274222517712,
          0.06986322911608177,
          0.07278071311409647,
          0.07566420724244587,
          0.07849720789458611,
          0.081262684122886,
          0.08394348184894472,
          0.08652279637572065,
          0.08898467320799686,
          0.09131448921124982,
          0.09349936609932882,
          0.09552847684280419,
          0.0973932211929347,
          0.09908726552085184,
          0.10060646015215464,
          0.10194866054592278,
          0.1031134850451525,
          0.10410204176000332,
          0.10491665243127798,
          0.10556059451252796,
          0.10603787634950161,
          0.10635305515263407,
          0.10651110318415692,
          0.10651732338547056,
          0.10637731099106273,
          0.10609695276494602,
          0.10568245137653415,
          0.10514036032864792,
          0.10447761542425957,
          0.10370155162916317,
          0.10281989800758941,
          0.1018407465054305,
          0.10077249159626352,
          0.09962373722993768,
          0.09840316640168228,
          0.09711936891836993,
          0.09578062622806487,
          0.09439465902824332,
          0.09296835282642786,
          0.0915074865317221,
          0.09001649688343771,
          0.0884983148461973,
          0.08695430780360272,
          0.08538435342379222,
          0.08378705836876935,
          0.08216011907071398,
          0.0805008043821159,
          0.07880652298915171,
          0.07707542422924236,
          0.07530697168195273,
          0.07350242673366385,
          0.07166518560993757,
          0.06980092807771027,
          0.06791755729933485,
          0.06602493468505899,
          0.06413443665820474,
          0.062258377896359476,
          0.060409355135579205,
          0.05859956646038755,
          0.05684015476103847,
          0.05514061383910882,
          0.05350828501106674,
          0.051947963807593714,
          0.05046163181124667,
          0.049048327411555785,
          0.04770416947637094,
          0.04642254711193366,
          0.04519448436986092,
          0.04400917932127983,
          0.0428547020309572,
          0.041718816839130285,
          0.04058987368098744,
          0.03945769473698579,
          0.03831437075740779,
          0.03715487975654876,
          0.035977451846939124,
          0.0347836279997939,
          0.03357799508585561,
          0.03236761986922953,
          0.031161244295165372,
          0.029968336708260004,
          0.028798112928772795,
          0.027658644044670496,
          0.02655615391219577,
          0.025494581173933398,
          0.024475442868268325,
          0.023497995470209056,
          0.022559650685029634,
          0.021656572887108493,
          0.02078436656273033,
          0.019938757311296965,
          0.01911617865062638,
          0.018314196930545673,
          0.017531734460864094,
          0.01676908197045325,
          0.016027720999076404,
          0.015310000591807007,
          0.014618727719204026,
          0.013956735806077081,
          0.013326490970092787,
          0.012729782912069078,
          0.01216752975025645,
          0.011639706740262101,
          0.011145390851289745,
          0.01068289897861192,
          0.010249988615764826,
          0.00984408653819224,
          0.009462513021286497,
          0.009102675214230683,
          0.008762211995396311,
          0.008439082293078586,
          0.008131597935637188,
          0.007838409391193095,
          0.007558457522060312,
          0.007290906473702827,
          0.0070350722669362585,
          0.006790359134501989,
          0.006556211890137588,
          0.006332088410561187,
          0.00611745231382095,
          0.005911782622960959,
          0.00571459491499643,
          0.005525467304657778,
          0.005344064591300097,
          0.005170154877788494,
          0.005003614720914417,
          0.004844421078716369,
          0.004692630615236538,
          0.004548348943881923,
          0.004411693837234674,
          0.0042827571241173465,
          0.00416156990346409,
          0.004048074941547548,
          0.003942108900523233,
          0.003843395633625787,
          0.003751550423744317,
          0.0036660939277914396,
          0.003586473828772559,
          0.0035120918166124566,
          0.0034423334710733822,
          0.003376598806487571,
          0.003314331532476271,
          0.0032550453640130925,
          0.0031983458891858296,
          0.0031439465469074944,
          0.00309167722938311,
          0.0030414840249174415,
          0.0029934188136231388,
          0.002947617967843017,
          0.0029042703695256787,
          0.002863576307425965,
          0.0028257004016457783,
          0.002790723258533607,
          0.0027585977629673653,
          0.0027291164511561413,
          0.002701896032117044,
          0.0026763837259176216,
          0.002651887712763991,
          0.0026276308668301924,
          0.0026028234719148277,
          0.0025767472919198853,
          0.0025488407585333816,
          0.002518773663587523,
          0.0024864999879949962,
          0.0024522795164034377,
          0.0024166625394552903,
          0.0023804367960552617,
          0.0023445411694300216,
          0.002309955694395615,
          0.002277581332527744,
          0.0022481250524224953,
          0.0022220056165569812,
          0.0021992930787120054,
          0.0021796906539999846,
          0.002162561966910488,
          0.002147000551253854,
          0.0021319327848525207,
          0.0021162410366160522,
          0.0020988913245698028,
          0.0020790495624499806,
          0.002056172479152237,
          0.002030063143883763,
          0.002000886050096637,
          0.0019691420726982126,
          0.0019356084796482438,
          0.0019012528627198658,
          0.0018671319313208993,
          0.0018342864909947484,
          0.0018036428191864089,
          0.0017759285032085998,
          0.0017516081800564084,
          0.001730842055903607,
          0.001713467991927668,
          0.001699006523757211,
          0.001686687411533137,
          0.0016754959851037134,
          0.0016642373327635492,
          0.0016516159529012526,
          0.0016363276128205729,
          0.0016171587829952232,
          0.0015930873011629884,
          0.0015633762338507229,
          0.0015276517364234091,
          0.0014859555698793399,
          0.0014387641893961356,
          0.0013869691027959428,
          0.0013318173113539224,
          0.0012748155737568735,
          0.0012176072170283561,
          0.0011618343967130494,
          0.0011090012980127788,
          0.00106035422482913,
          0.0010167926565817346,
          0.0009788213762505311,
          0.0009465482657108308,
          0.0009197261648523792,
          0.0008978312490960962,
          0.0008801655944952935,
          0.0008659686730611179,
          0.0008545218547001412,
          0.0008452316359346554,
          0.0008376809740333455,
          0.0008316431958093884,
          0.0008270587001629414,
          0.0008239802375810826,
          0.0008224971338767882,
          0.000822651794863879,
          0.0008243627913648219,
          0.0008273676776891538,
          0.0008311956370778745,
          0.0008351755373009668,
          0.0008384796833653963,
          0.000840198246574075,
          0.0008394348045794195,
          0.0008354103066798348,
          0.0008275615278201461,
          0.0008156208497573199,
          0.0007996668460762542,
          0.0007801391921665584,
          0.0007578161986967355,
          0.0007337580088453393,
          0.0007092224820481773,
          0.0006855634636996058,
          0.0006641222356342317,
          0.0006461224877392575,
          0.0006325774548737262,
          0.000624215422330383,
          0.0006214271790159414,
          0.0006242366864828271,
          0.0006322945587779144,
          0.0006448930090591212,
          0.0006610005848090157,
          0.0006793149900361198,
          0.0006983322224407583,
          0.0007164298308945101,
          0.0007319611708901573,
          0.0007433561597128208,
          0.0007492224737172911,
          0.0007484397975526131,
          0.0007402390770378449,
          0.0007242591023726913,
          0.0007005743163053615,
          0.0006696904010833247,
          0.0006325075890589165,
          0.0005902552190122757,
          0.0005444042129967521,
          0.0004965663407912795,
          0.0004483900300929961,
          0.0004014619954867873,
          0.00035722229269480625,
          0.0003168979599828541,
          0.0002814576916201162,
          0.00025158748602578716,
          0.0002276852882912299,
          0.00020987148336146528,
          0.0001980116791514292,
          0.0001917483814084726,
          0.0001905386551817436,
          0.0001936954402629198,
          0.0002004306530244857,
          0.00020989847839237614,
          0.0002212373486955943,
          0.0002336091090361065,
          0.00024623389638018796,
          0.00025841940602950865,
          0.00026958352481234435,
          0.00027926975074608543,
          0.000287155317324974,
          0.00029305239768270754,
          0.0002969030933748095,
          0.000298769070409673,
          0.0002988167033948242,
          0.0002972984896074586,
          0.0002945313889819617,
          0.00029087272110197014,
          0.00028669436127491124,
          0.00028235622750005774,
          0.0002781803857508234,
          0.00027442742676604703,
          0.0002712769701543793,
          0.00026881413056339417,
          0.0002670234759522164,
          0.00026579141824959563,
          0.00026491716358340836,
          0.0002641314276481151,
          0.000263121237453673,
          0.00026155844104900337,
          0.0002591291502470458,
          0.0002555613123425938,
          0.0002506479419587556,
          0.0002442641731496856,
          0.00023637709316840422,
          0.0002270481475414604,
          0.00021642862492751708,
          0.0002047492423403555,
          0.00019230511796300816,
          0.00017943746387553646,
          0.00016651322856459663,
          0.00015390376765139974,
          0.00014196351272492114,
          0.00013100959937880136,
          0.00012130351102579164,
          0.00011303594509165449,
          0.00010631622290723858,
          0.00010116754001605636,
          0.00009752910253540398,
          0.00009526567529054881,
          0.00009418429902920536,
          0.00009405700367157605,
          0.00009464739319535616,
          0.00009573817603296434,
          0.00009715623066271253,
          0.0000987917608241477,
          0.00010060857494527694,
          0.00010264350361791397,
          0.00010499434439893634,
          0.00010779731654190728,
          0.00011119659036402264,
          0.00011530978130308251,
          0.00012019414437535776,
          0.00012581840797189458,
          0.00013204467445298304,
          0.00013862362462902742,
          0.0001452045390726736,
          0.00015135962897285237,
          0.0001566201496167342,
          0.00016052006020635015,
          0.00016264186560971378,
          0.0001626589132630845,
          0.0001603688846920224,
          0.00015571444318626676,
          0.00014878877920666974,
          0.00013982584489992395,
          0.00012917706232987305,
          0.00011727792170379282,
          0.0001046089264674152,
          0.00009165567528664879,
          0.00007887250711658999,
          0.0000666532002309194,
          0.0000553109162993284,
          0.00004506815896905542,
          0.00003605620328321857,
          0.00002832242636136553,
          0.000021843334283929064,
          0.000016540857123378574,
          0.000012299625252670297,
          0.000008983348868586707,
          0.000006448980968284512,
          0.00000455793707227719,
          0.0000031841799718308273,
          0.0000022193936958425885,
          0.0000015757400700039242,
          0.000001186814405851567,
          0.0000010074146479774368,
          0.0000010126420876147873,
          0.000001196695901704719,
          0.000001571540645423271,
          0.000002165443468221063,
          0.0000030212198689541306,
          0.0000041939133164697876,
          0.000005747582165767593,
          0.00000775089066391095,
          0.000010271307583271582,
          0.000013367905340614432,
          0.00001708301092177613,
          0.000021433258826990568,
          0.0000264008916050624,
          0.000031926389952680395,
          0.00003790363306388438,
          0.000044178740328270025,
          0.00005055349803912429,
          0.00005679383218140429,
          0.00006264319177969793,
          0.0000678400347954786,
          0.00007213796482583994,
          0.00007532656488741967,
          0.00007725071308666327,
          0.00007782620631760959,
          0.00007704987227050236,
          0.00007500296924804123,
          0.00007184745954224881,
          0.00006781556623746256,
          0.00006319375164903096,
          0.00005830277811788265,
          0.000053475764504701196,
          0.00004903612780132714,
          0.00004527704711373552,
          0.00004244369477234561,
          0.00004071904977831702,
          0.00004021373420922227,
          0.00004096005208146447,
          0.00004291027528170445,
          0.000045939180335230495,
          0.00004985082895958444,
          0.000054389530582314904,
          0.00005925476691430325,
          0.00006411957309477154,
          0.0000686514788496528,
          0.00007253468283966697,
          0.00007549176007514993,
          0.00007730298835354275
         ],
         "yaxis": "y"
        }
       ],
       "layout": {
        "barmode": "overlay",
        "hovermode": "closest",
        "legend": {
         "traceorder": "reversed"
        },
        "template": {
         "data": {
          "bar": [
           {
            "error_x": {
             "color": "#2a3f5f"
            },
            "error_y": {
             "color": "#2a3f5f"
            },
            "marker": {
             "line": {
              "color": "#E5ECF6",
              "width": 0.5
             },
             "pattern": {
              "fillmode": "overlay",
              "size": 10,
              "solidity": 0.2
             }
            },
            "type": "bar"
           }
          ],
          "barpolar": [
           {
            "marker": {
             "line": {
              "color": "#E5ECF6",
              "width": 0.5
             },
             "pattern": {
              "fillmode": "overlay",
              "size": 10,
              "solidity": 0.2
             }
            },
            "type": "barpolar"
           }
          ],
          "carpet": [
           {
            "aaxis": {
             "endlinecolor": "#2a3f5f",
             "gridcolor": "white",
             "linecolor": "white",
             "minorgridcolor": "white",
             "startlinecolor": "#2a3f5f"
            },
            "baxis": {
             "endlinecolor": "#2a3f5f",
             "gridcolor": "white",
             "linecolor": "white",
             "minorgridcolor": "white",
             "startlinecolor": "#2a3f5f"
            },
            "type": "carpet"
           }
          ],
          "choropleth": [
           {
            "colorbar": {
             "outlinewidth": 0,
             "ticks": ""
            },
            "type": "choropleth"
           }
          ],
          "contour": [
           {
            "colorbar": {
             "outlinewidth": 0,
             "ticks": ""
            },
            "colorscale": [
             [
              0,
              "#0d0887"
             ],
             [
              0.1111111111111111,
              "#46039f"
             ],
             [
              0.2222222222222222,
              "#7201a8"
             ],
             [
              0.3333333333333333,
              "#9c179e"
             ],
             [
              0.4444444444444444,
              "#bd3786"
             ],
             [
              0.5555555555555556,
              "#d8576b"
             ],
             [
              0.6666666666666666,
              "#ed7953"
             ],
             [
              0.7777777777777778,
              "#fb9f3a"
             ],
             [
              0.8888888888888888,
              "#fdca26"
             ],
             [
              1,
              "#f0f921"
             ]
            ],
            "type": "contour"
           }
          ],
          "contourcarpet": [
           {
            "colorbar": {
             "outlinewidth": 0,
             "ticks": ""
            },
            "type": "contourcarpet"
           }
          ],
          "heatmap": [
           {
            "colorbar": {
             "outlinewidth": 0,
             "ticks": ""
            },
            "colorscale": [
             [
              0,
              "#0d0887"
             ],
             [
              0.1111111111111111,
              "#46039f"
             ],
             [
              0.2222222222222222,
              "#7201a8"
             ],
             [
              0.3333333333333333,
              "#9c179e"
             ],
             [
              0.4444444444444444,
              "#bd3786"
             ],
             [
              0.5555555555555556,
              "#d8576b"
             ],
             [
              0.6666666666666666,
              "#ed7953"
             ],
             [
              0.7777777777777778,
              "#fb9f3a"
             ],
             [
              0.8888888888888888,
              "#fdca26"
             ],
             [
              1,
              "#f0f921"
             ]
            ],
            "type": "heatmap"
           }
          ],
          "heatmapgl": [
           {
            "colorbar": {
             "outlinewidth": 0,
             "ticks": ""
            },
            "colorscale": [
             [
              0,
              "#0d0887"
             ],
             [
              0.1111111111111111,
              "#46039f"
             ],
             [
              0.2222222222222222,
              "#7201a8"
             ],
             [
              0.3333333333333333,
              "#9c179e"
             ],
             [
              0.4444444444444444,
              "#bd3786"
             ],
             [
              0.5555555555555556,
              "#d8576b"
             ],
             [
              0.6666666666666666,
              "#ed7953"
             ],
             [
              0.7777777777777778,
              "#fb9f3a"
             ],
             [
              0.8888888888888888,
              "#fdca26"
             ],
             [
              1,
              "#f0f921"
             ]
            ],
            "type": "heatmapgl"
           }
          ],
          "histogram": [
           {
            "marker": {
             "pattern": {
              "fillmode": "overlay",
              "size": 10,
              "solidity": 0.2
             }
            },
            "type": "histogram"
           }
          ],
          "histogram2d": [
           {
            "colorbar": {
             "outlinewidth": 0,
             "ticks": ""
            },
            "colorscale": [
             [
              0,
              "#0d0887"
             ],
             [
              0.1111111111111111,
              "#46039f"
             ],
             [
              0.2222222222222222,
              "#7201a8"
             ],
             [
              0.3333333333333333,
              "#9c179e"
             ],
             [
              0.4444444444444444,
              "#bd3786"
             ],
             [
              0.5555555555555556,
              "#d8576b"
             ],
             [
              0.6666666666666666,
              "#ed7953"
             ],
             [
              0.7777777777777778,
              "#fb9f3a"
             ],
             [
              0.8888888888888888,
              "#fdca26"
             ],
             [
              1,
              "#f0f921"
             ]
            ],
            "type": "histogram2d"
           }
          ],
          "histogram2dcontour": [
           {
            "colorbar": {
             "outlinewidth": 0,
             "ticks": ""
            },
            "colorscale": [
             [
              0,
              "#0d0887"
             ],
             [
              0.1111111111111111,
              "#46039f"
             ],
             [
              0.2222222222222222,
              "#7201a8"
             ],
             [
              0.3333333333333333,
              "#9c179e"
             ],
             [
              0.4444444444444444,
              "#bd3786"
             ],
             [
              0.5555555555555556,
              "#d8576b"
             ],
             [
              0.6666666666666666,
              "#ed7953"
             ],
             [
              0.7777777777777778,
              "#fb9f3a"
             ],
             [
              0.8888888888888888,
              "#fdca26"
             ],
             [
              1,
              "#f0f921"
             ]
            ],
            "type": "histogram2dcontour"
           }
          ],
          "mesh3d": [
           {
            "colorbar": {
             "outlinewidth": 0,
             "ticks": ""
            },
            "type": "mesh3d"
           }
          ],
          "parcoords": [
           {
            "line": {
             "colorbar": {
              "outlinewidth": 0,
              "ticks": ""
             }
            },
            "type": "parcoords"
           }
          ],
          "pie": [
           {
            "automargin": true,
            "type": "pie"
           }
          ],
          "scatter": [
           {
            "fillpattern": {
             "fillmode": "overlay",
             "size": 10,
             "solidity": 0.2
            },
            "type": "scatter"
           }
          ],
          "scatter3d": [
           {
            "line": {
             "colorbar": {
              "outlinewidth": 0,
              "ticks": ""
             }
            },
            "marker": {
             "colorbar": {
              "outlinewidth": 0,
              "ticks": ""
             }
            },
            "type": "scatter3d"
           }
          ],
          "scattercarpet": [
           {
            "marker": {
             "colorbar": {
              "outlinewidth": 0,
              "ticks": ""
             }
            },
            "type": "scattercarpet"
           }
          ],
          "scattergeo": [
           {
            "marker": {
             "colorbar": {
              "outlinewidth": 0,
              "ticks": ""
             }
            },
            "type": "scattergeo"
           }
          ],
          "scattergl": [
           {
            "marker": {
             "colorbar": {
              "outlinewidth": 0,
              "ticks": ""
             }
            },
            "type": "scattergl"
           }
          ],
          "scattermapbox": [
           {
            "marker": {
             "colorbar": {
              "outlinewidth": 0,
              "ticks": ""
             }
            },
            "type": "scattermapbox"
           }
          ],
          "scatterpolar": [
           {
            "marker": {
             "colorbar": {
              "outlinewidth": 0,
              "ticks": ""
             }
            },
            "type": "scatterpolar"
           }
          ],
          "scatterpolargl": [
           {
            "marker": {
             "colorbar": {
              "outlinewidth": 0,
              "ticks": ""
             }
            },
            "type": "scatterpolargl"
           }
          ],
          "scatterternary": [
           {
            "marker": {
             "colorbar": {
              "outlinewidth": 0,
              "ticks": ""
             }
            },
            "type": "scatterternary"
           }
          ],
          "surface": [
           {
            "colorbar": {
             "outlinewidth": 0,
             "ticks": ""
            },
            "colorscale": [
             [
              0,
              "#0d0887"
             ],
             [
              0.1111111111111111,
              "#46039f"
             ],
             [
              0.2222222222222222,
              "#7201a8"
             ],
             [
              0.3333333333333333,
              "#9c179e"
             ],
             [
              0.4444444444444444,
              "#bd3786"
             ],
             [
              0.5555555555555556,
              "#d8576b"
             ],
             [
              0.6666666666666666,
              "#ed7953"
             ],
             [
              0.7777777777777778,
              "#fb9f3a"
             ],
             [
              0.8888888888888888,
              "#fdca26"
             ],
             [
              1,
              "#f0f921"
             ]
            ],
            "type": "surface"
           }
          ],
          "table": [
           {
            "cells": {
             "fill": {
              "color": "#EBF0F8"
             },
             "line": {
              "color": "white"
             }
            },
            "header": {
             "fill": {
              "color": "#C8D4E3"
             },
             "line": {
              "color": "white"
             }
            },
            "type": "table"
           }
          ]
         },
         "layout": {
          "annotationdefaults": {
           "arrowcolor": "#2a3f5f",
           "arrowhead": 0,
           "arrowwidth": 1
          },
          "autotypenumbers": "strict",
          "coloraxis": {
           "colorbar": {
            "outlinewidth": 0,
            "ticks": ""
           }
          },
          "colorscale": {
           "diverging": [
            [
             0,
             "#8e0152"
            ],
            [
             0.1,
             "#c51b7d"
            ],
            [
             0.2,
             "#de77ae"
            ],
            [
             0.3,
             "#f1b6da"
            ],
            [
             0.4,
             "#fde0ef"
            ],
            [
             0.5,
             "#f7f7f7"
            ],
            [
             0.6,
             "#e6f5d0"
            ],
            [
             0.7,
             "#b8e186"
            ],
            [
             0.8,
             "#7fbc41"
            ],
            [
             0.9,
             "#4d9221"
            ],
            [
             1,
             "#276419"
            ]
           ],
           "sequential": [
            [
             0,
             "#0d0887"
            ],
            [
             0.1111111111111111,
             "#46039f"
            ],
            [
             0.2222222222222222,
             "#7201a8"
            ],
            [
             0.3333333333333333,
             "#9c179e"
            ],
            [
             0.4444444444444444,
             "#bd3786"
            ],
            [
             0.5555555555555556,
             "#d8576b"
            ],
            [
             0.6666666666666666,
             "#ed7953"
            ],
            [
             0.7777777777777778,
             "#fb9f3a"
            ],
            [
             0.8888888888888888,
             "#fdca26"
            ],
            [
             1,
             "#f0f921"
            ]
           ],
           "sequentialminus": [
            [
             0,
             "#0d0887"
            ],
            [
             0.1111111111111111,
             "#46039f"
            ],
            [
             0.2222222222222222,
             "#7201a8"
            ],
            [
             0.3333333333333333,
             "#9c179e"
            ],
            [
             0.4444444444444444,
             "#bd3786"
            ],
            [
             0.5555555555555556,
             "#d8576b"
            ],
            [
             0.6666666666666666,
             "#ed7953"
            ],
            [
             0.7777777777777778,
             "#fb9f3a"
            ],
            [
             0.8888888888888888,
             "#fdca26"
            ],
            [
             1,
             "#f0f921"
            ]
           ]
          },
          "colorway": [
           "#636efa",
           "#EF553B",
           "#00cc96",
           "#ab63fa",
           "#FFA15A",
           "#19d3f3",
           "#FF6692",
           "#B6E880",
           "#FF97FF",
           "#FECB52"
          ],
          "font": {
           "color": "#2a3f5f"
          },
          "geo": {
           "bgcolor": "white",
           "lakecolor": "white",
           "landcolor": "#E5ECF6",
           "showlakes": true,
           "showland": true,
           "subunitcolor": "white"
          },
          "hoverlabel": {
           "align": "left"
          },
          "hovermode": "closest",
          "mapbox": {
           "style": "light"
          },
          "paper_bgcolor": "white",
          "plot_bgcolor": "#E5ECF6",
          "polar": {
           "angularaxis": {
            "gridcolor": "white",
            "linecolor": "white",
            "ticks": ""
           },
           "bgcolor": "#E5ECF6",
           "radialaxis": {
            "gridcolor": "white",
            "linecolor": "white",
            "ticks": ""
           }
          },
          "scene": {
           "xaxis": {
            "backgroundcolor": "#E5ECF6",
            "gridcolor": "white",
            "gridwidth": 2,
            "linecolor": "white",
            "showbackground": true,
            "ticks": "",
            "zerolinecolor": "white"
           },
           "yaxis": {
            "backgroundcolor": "#E5ECF6",
            "gridcolor": "white",
            "gridwidth": 2,
            "linecolor": "white",
            "showbackground": true,
            "ticks": "",
            "zerolinecolor": "white"
           },
           "zaxis": {
            "backgroundcolor": "#E5ECF6",
            "gridcolor": "white",
            "gridwidth": 2,
            "linecolor": "white",
            "showbackground": true,
            "ticks": "",
            "zerolinecolor": "white"
           }
          },
          "shapedefaults": {
           "line": {
            "color": "#2a3f5f"
           }
          },
          "ternary": {
           "aaxis": {
            "gridcolor": "white",
            "linecolor": "white",
            "ticks": ""
           },
           "baxis": {
            "gridcolor": "white",
            "linecolor": "white",
            "ticks": ""
           },
           "bgcolor": "#E5ECF6",
           "caxis": {
            "gridcolor": "white",
            "linecolor": "white",
            "ticks": ""
           }
          },
          "title": {
           "x": 0.05
          },
          "xaxis": {
           "automargin": true,
           "gridcolor": "white",
           "linecolor": "white",
           "ticks": "",
           "title": {
            "standoff": 15
           },
           "zerolinecolor": "white",
           "zerolinewidth": 2
          },
          "yaxis": {
           "automargin": true,
           "gridcolor": "white",
           "linecolor": "white",
           "ticks": "",
           "title": {
            "standoff": 15
           },
           "zerolinecolor": "white",
           "zerolinewidth": 2
          }
         }
        },
        "xaxis": {
         "anchor": "y2",
         "domain": [
          0,
          1
         ],
         "zeroline": false
        },
        "yaxis": {
         "anchor": "free",
         "domain": [
          0,
          1
         ],
         "position": 0
        }
       }
      }
     },
     "metadata": {},
     "output_type": "display_data"
    }
   ],
   "source": [
    "x1 = athlete_df['Age'].dropna()\n",
    "x2 = athlete_df[athlete_df['Medal']=='Gold']['Age'].dropna()\n",
    "x3 = athlete_df[athlete_df['Medal']=='Silver']['Age'].dropna()\n",
    "x4 = athlete_df[athlete_df['Medal']=='Bronze']['Age'].dropna()\n",
    "fig = ff.create_distplot([x1, x2, x3, x4], ['Overall Age', 'Gold Medalist', 'Silver Medalist', 'Bronze Medalist'], show_hist=False, show_rug=False)\n",
    "fig.show()"
   ]
  },
  {
   "cell_type": "code",
   "execution_count": 19,
   "metadata": {},
   "outputs": [],
   "source": [
    "athlete_df['Medal'].fillna('No Medal', inplace=True)"
   ]
  },
  {
   "cell_type": "code",
   "execution_count": 3,
   "metadata": {},
   "outputs": [],
   "source": [
    "import seaborn as sns\n",
    "import matplotlib.pyplot as plt"
   ]
  },
  {
   "cell_type": "code",
   "execution_count": 16,
   "metadata": {},
   "outputs": [
    {
     "data": {
      "text/plain": [
       "<Axes: xlabel='Weight', ylabel='Height'>"
      ]
     },
     "execution_count": 16,
     "metadata": {},
     "output_type": "execute_result"
    },
    {
     "data": {
      "image/png": "[encoded data removed]",
      "text/plain": [
       "<Figure size 1000x1000 with 1 Axes>"
      ]
     },
     "metadata": {},
     "output_type": "display_data"
    }
   ],
   "source": [
    "plt.figure(figsize=(10,10))\n",
    "temp_df = athlete_df[athlete_df['Sport']=='Athletics']\n",
    "sns.scatterplot(x='Weight', y='Height', data=temp_df, hue= temp_df['Medal'], style= temp_df['Sex'])"
   ]
  },
  {
   "cell_type": "code",
   "execution_count": 17,
   "metadata": {},
   "outputs": [],
   "source": [
    "men = athlete_df[athlete_df['Sex']=='M'].groupby('Year').count()['Name'].reset_index()\n",
    "women = athlete_df[athlete_df['Sex']=='F'].groupby('Year').count()['Name'].reset_index()"
   ]
  },
  {
   "cell_type": "code",
   "execution_count": 19,
   "metadata": {},
   "outputs": [],
   "source": [
    "final = men.merge(women, on = 'Year', how='left')\n",
    "final.rename(columns={'Name_x': 'Male', 'Name_y': 'Female'}, inplace=True)"
   ]
  },
  {
   "cell_type": "code",
   "execution_count": 20,
   "metadata": {},
   "outputs": [],
   "source": [
    "final.fillna(0, inplace=True)"
   ]
  },
  {
   "cell_type": "code",
   "execution_count": 23,
   "metadata": {},
   "outputs": [
    {
     "data": {
      "application/vnd.plotly.v1+json": {
       "config": {
        "plotlyServerURL": "https://plot.ly"
       },
       "data": [
        {
         "hovertemplate": "variable=Male<br>Year=%{x}<br>value=%{y}<extra></extra>",
         "legendgroup": "Male",
         "line": {
          "color": "#636efa",
          "dash": "solid"
         },
         "marker": {
          "symbol": "circle"
         },
         "mode": "lines",
         "name": "Male",
         "orientation": "v",
         "showlegend": true,
         "type": "scatter",
         "x": [
          1896,
          1900,
          1904,
          1906,
          1908,
          1912,
          1920,
          1924,
          1928,
          1932,
          1936,
          1948,
          1952,
          1956,
          1960,
          1964,
          1968,
          1972,
          1976,
          1980,
          1984,
          1988,
          1992,
          1996,
          2000,
          2004,
          2008,
          2012,
          2016
         ],
         "xaxis": "x",
         "y": [
          174,
          1181,
          629,
          759,
          1772,
          1978,
          2280,
          2535,
          2342,
          1382,
          3539,
          3629,
          3468,
          2193,
          3755,
          3290,
          3555,
          4552,
          3320,
          3151,
          4299,
          4704,
          4769,
          4811,
          4294,
          3931,
          3990,
          3679,
          4022
         ],
         "yaxis": "y"
        },
        {
         "hovertemplate": "variable=Female<br>Year=%{x}<br>value=%{y}<extra></extra>",
         "legendgroup": "Female",
         "line": {
          "color": "#EF553B",
          "dash": "solid"
         },
         "marker": {
          "symbol": "circle"
         },
         "mode": "lines",
         "name": "Female",
         "orientation": "v",
         "showlegend": true,
         "type": "scatter",
         "x": [
          1896,
          1900,
          1904,
          1906,
          1908,
          1912,
          1920,
          1924,
          1928,
          1932,
          1936,
          1948,
          1952,
          1956,
          1960,
          1964,
          1968,
          1972,
          1976,
          1980,
          1984,
          1988,
          1992,
          1996,
          2000,
          2004,
          2008,
          2012,
          2016
         ],
         "xaxis": "x",
         "y": [
          0,
          23,
          6,
          6,
          44,
          53,
          73,
          132,
          285,
          162,
          316,
          420,
          409,
          288,
          473,
          507,
          599,
          818,
          1028,
          875,
          1368,
          1734,
          2080,
          2518,
          2790,
          2820,
          2947,
          2919,
          3209
         ],
         "yaxis": "y"
        }
       ],
       "layout": {
        "legend": {
         "title": {
          "text": "variable"
         },
         "tracegroupgap": 0
        },
        "margin": {
         "t": 60
        },
        "template": {
         "data": {
          "bar": [
           {
            "error_x": {
             "color": "#2a3f5f"
            },
            "error_y": {
             "color": "#2a3f5f"
            },
            "marker": {
             "line": {
              "color": "#E5ECF6",
              "width": 0.5
             },
             "pattern": {
              "fillmode": "overlay",
              "size": 10,
              "solidity": 0.2
             }
            },
            "type": "bar"
           }
          ],
          "barpolar": [
           {
            "marker": {
             "line": {
              "color": "#E5ECF6",
              "width": 0.5
             },
             "pattern": {
              "fillmode": "overlay",
              "size": 10,
              "solidity": 0.2
             }
            },
            "type": "barpolar"
           }
          ],
          "carpet": [
           {
            "aaxis": {
             "endlinecolor": "#2a3f5f",
             "gridcolor": "white",
             "linecolor": "white",
             "minorgridcolor": "white",
             "startlinecolor": "#2a3f5f"
            },
            "baxis": {
             "endlinecolor": "#2a3f5f",
             "gridcolor": "white",
             "linecolor": "white",
             "minorgridcolor": "white",
             "startlinecolor": "#2a3f5f"
            },
            "type": "carpet"
           }
          ],
          "choropleth": [
           {
            "colorbar": {
             "outlinewidth": 0,
             "ticks": ""
            },
            "type": "choropleth"
           }
          ],
          "contour": [
           {
            "colorbar": {
             "outlinewidth": 0,
             "ticks": ""
            },
            "colorscale": [
             [
              0,
              "#0d0887"
             ],
             [
              0.1111111111111111,
              "#46039f"
             ],
             [
              0.2222222222222222,
              "#7201a8"
             ],
             [
              0.3333333333333333,
              "#9c179e"
             ],
             [
              0.4444444444444444,
              "#bd3786"
             ],
             [
              0.5555555555555556,
              "#d8576b"
             ],
             [
              0.6666666666666666,
              "#ed7953"
             ],
             [
              0.7777777777777778,
              "#fb9f3a"
             ],
             [
              0.8888888888888888,
              "#fdca26"
             ],
             [
              1,
              "#f0f921"
             ]
            ],
            "type": "contour"
           }
          ],
          "contourcarpet": [
           {
            "colorbar": {
             "outlinewidth": 0,
             "ticks": ""
            },
            "type": "contourcarpet"
           }
          ],
          "heatmap": [
           {
            "colorbar": {
             "outlinewidth": 0,
             "ticks": ""
            },
            "colorscale": [
             [
              0,
              "#0d0887"
             ],
             [
              0.1111111111111111,
              "#46039f"
             ],
             [
              0.2222222222222222,
              "#7201a8"
             ],
             [
              0.3333333333333333,
              "#9c179e"
             ],
             [
              0.4444444444444444,
              "#bd3786"
             ],
             [
              0.5555555555555556,
              "#d8576b"
             ],
             [
              0.6666666666666666,
              "#ed7953"
             ],
             [
              0.7777777777777778,
              "#fb9f3a"
             ],
             [
              0.8888888888888888,
              "#fdca26"
             ],
             [
              1,
              "#f0f921"
             ]
            ],
            "type": "heatmap"
           }
          ],
          "heatmapgl": [
           {
            "colorbar": {
             "outlinewidth": 0,
             "ticks": ""
            },
            "colorscale": [
             [
              0,
              "#0d0887"
             ],
             [
              0.1111111111111111,
              "#46039f"
             ],
             [
              0.2222222222222222,
              "#7201a8"
             ],
             [
              0.3333333333333333,
              "#9c179e"
             ],
             [
              0.4444444444444444,
              "#bd3786"
             ],
             [
              0.5555555555555556,
              "#d8576b"
             ],
             [
              0.6666666666666666,
              "#ed7953"
             ],
             [
              0.7777777777777778,
              "#fb9f3a"
             ],
             [
              0.8888888888888888,
              "#fdca26"
             ],
             [
              1,
              "#f0f921"
             ]
            ],
            "type": "heatmapgl"
           }
          ],
          "histogram": [
           {
            "marker": {
             "pattern": {
              "fillmode": "overlay",
              "size": 10,
              "solidity": 0.2
             }
            },
            "type": "histogram"
           }
          ],
          "histogram2d": [
           {
            "colorbar": {
             "outlinewidth": 0,
             "ticks": ""
            },
            "colorscale": [
             [
              0,
              "#0d0887"
             ],
             [
              0.1111111111111111,
              "#46039f"
             ],
             [
              0.2222222222222222,
              "#7201a8"
             ],
             [
              0.3333333333333333,
              "#9c179e"
             ],
             [
              0.4444444444444444,
              "#bd3786"
             ],
             [
              0.5555555555555556,
              "#d8576b"
             ],
             [
              0.6666666666666666,
              "#ed7953"
             ],
             [
              0.7777777777777778,
              "#fb9f3a"
             ],
             [
              0.8888888888888888,
              "#fdca26"
             ],
             [
              1,
              "#f0f921"
             ]
            ],
            "type": "histogram2d"
           }
          ],
          "histogram2dcontour": [
           {
            "colorbar": {
             "outlinewidth": 0,
             "ticks": ""
            },
            "colorscale": [
             [
              0,
              "#0d0887"
             ],
             [
              0.1111111111111111,
              "#46039f"
             ],
             [
              0.2222222222222222,
              "#7201a8"
             ],
             [
              0.3333333333333333,
              "#9c179e"
             ],
             [
              0.4444444444444444,
              "#bd3786"
             ],
             [
              0.5555555555555556,
              "#d8576b"
             ],
             [
              0.6666666666666666,
              "#ed7953"
             ],
             [
              0.7777777777777778,
              "#fb9f3a"
             ],
             [
              0.8888888888888888,
              "#fdca26"
             ],
             [
              1,
              "#f0f921"
             ]
            ],
            "type": "histogram2dcontour"
           }
          ],
          "mesh3d": [
           {
            "colorbar": {
             "outlinewidth": 0,
             "ticks": ""
            },
            "type": "mesh3d"
           }
          ],
          "parcoords": [
           {
            "line": {
             "colorbar": {
              "outlinewidth": 0,
              "ticks": ""
             }
            },
            "type": "parcoords"
           }
          ],
          "pie": [
           {
            "automargin": true,
            "type": "pie"
           }
          ],
          "scatter": [
           {
            "fillpattern": {
             "fillmode": "overlay",
             "size": 10,
             "solidity": 0.2
            },
            "type": "scatter"
           }
          ],
          "scatter3d": [
           {
            "line": {
             "colorbar": {
              "outlinewidth": 0,
              "ticks": ""
             }
            },
            "marker": {
             "colorbar": {
              "outlinewidth": 0,
              "ticks": ""
             }
            },
            "type": "scatter3d"
           }
          ],
          "scattercarpet": [
           {
            "marker": {
             "colorbar": {
              "outlinewidth": 0,
              "ticks": ""
             }
            },
            "type": "scattercarpet"
           }
          ],
          "scattergeo": [
           {
            "marker": {
             "colorbar": {
              "outlinewidth": 0,
              "ticks": ""
             }
            },
            "type": "scattergeo"
           }
          ],
          "scattergl": [
           {
            "marker": {
             "colorbar": {
              "outlinewidth": 0,
              "ticks": ""
             }
            },
            "type": "scattergl"
           }
          ],
          "scattermapbox": [
           {
            "marker": {
             "colorbar": {
              "outlinewidth": 0,
              "ticks": ""
             }
            },
            "type": "scattermapbox"
           }
          ],
          "scatterpolar": [
           {
            "marker": {
             "colorbar": {
              "outlinewidth": 0,
              "ticks": ""
             }
            },
            "type": "scatterpolar"
           }
          ],
          "scatterpolargl": [
           {
            "marker": {
             "colorbar": {
              "outlinewidth": 0,
              "ticks": ""
             }
            },
            "type": "scatterpolargl"
           }
          ],
          "scatterternary": [
           {
            "marker": {
             "colorbar": {
              "outlinewidth": 0,
              "ticks": ""
             }
            },
            "type": "scatterternary"
           }
          ],
          "surface": [
           {
            "colorbar": {
             "outlinewidth": 0,
             "ticks": ""
            },
            "colorscale": [
             [
              0,
              "#0d0887"
             ],
             [
              0.1111111111111111,
              "#46039f"
             ],
             [
              0.2222222222222222,
              "#7201a8"
             ],
             [
              0.3333333333333333,
              "#9c179e"
             ],
             [
              0.4444444444444444,
              "#bd3786"
             ],
             [
              0.5555555555555556,
              "#d8576b"
             ],
             [
              0.6666666666666666,
              "#ed7953"
             ],
             [
              0.7777777777777778,
              "#fb9f3a"
             ],
             [
              0.8888888888888888,
              "#fdca26"
             ],
             [
              1,
              "#f0f921"
             ]
            ],
            "type": "surface"
           }
          ],
          "table": [
           {
            "cells": {
             "fill": {
              "color": "#EBF0F8"
             },
             "line": {
              "color": "white"
             }
            },
            "header": {
             "fill": {
              "color": "#C8D4E3"
             },
             "line": {
              "color": "white"
             }
            },
            "type": "table"
           }
          ]
         },
         "layout": {
          "annotationdefaults": {
           "arrowcolor": "#2a3f5f",
           "arrowhead": 0,
           "arrowwidth": 1
          },
          "autotypenumbers": "strict",
          "coloraxis": {
           "colorbar": {
            "outlinewidth": 0,
            "ticks": ""
           }
          },
          "colorscale": {
           "diverging": [
            [
             0,
             "#8e0152"
            ],
            [
             0.1,
             "#c51b7d"
            ],
            [
             0.2,
             "#de77ae"
            ],
            [
             0.3,
             "#f1b6da"
            ],
            [
             0.4,
             "#fde0ef"
            ],
            [
             0.5,
             "#f7f7f7"
            ],
            [
             0.6,
             "#e6f5d0"
            ],
            [
             0.7,
             "#b8e186"
            ],
            [
             0.8,
             "#7fbc41"
            ],
            [
             0.9,
             "#4d9221"
            ],
            [
             1,
             "#276419"
            ]
           ],
           "sequential": [
            [
             0,
             "#0d0887"
            ],
            [
             0.1111111111111111,
             "#46039f"
            ],
            [
             0.2222222222222222,
             "#7201a8"
            ],
            [
             0.3333333333333333,
             "#9c179e"
            ],
            [
             0.4444444444444444,
             "#bd3786"
            ],
            [
             0.5555555555555556,
             "#d8576b"
            ],
            [
             0.6666666666666666,
             "#ed7953"
            ],
            [
             0.7777777777777778,
             "#fb9f3a"
            ],
            [
             0.8888888888888888,
             "#fdca26"
            ],
            [
             1,
             "#f0f921"
            ]
           ],
           "sequentialminus": [
            [
             0,
             "#0d0887"
            ],
            [
             0.1111111111111111,
             "#46039f"
            ],
            [
             0.2222222222222222,
             "#7201a8"
            ],
            [
             0.3333333333333333,
             "#9c179e"
            ],
            [
             0.4444444444444444,
             "#bd3786"
            ],
            [
             0.5555555555555556,
             "#d8576b"
            ],
            [
             0.6666666666666666,
             "#ed7953"
            ],
            [
             0.7777777777777778,
             "#fb9f3a"
            ],
            [
             0.8888888888888888,
             "#fdca26"
            ],
            [
             1,
             "#f0f921"
            ]
           ]
          },
          "colorway": [
           "#636efa",
           "#EF553B",
           "#00cc96",
           "#ab63fa",
           "#FFA15A",
           "#19d3f3",
           "#FF6692",
           "#B6E880",
           "#FF97FF",
           "#FECB52"
          ],
          "font": {
           "color": "#2a3f5f"
          },
          "geo": {
           "bgcolor": "white",
           "lakecolor": "white",
           "landcolor": "#E5ECF6",
           "showlakes": true,
           "showland": true,
           "subunitcolor": "white"
          },
          "hoverlabel": {
           "align": "left"
          },
          "hovermode": "closest",
          "mapbox": {
           "style": "light"
          },
          "paper_bgcolor": "white",
          "plot_bgcolor": "#E5ECF6",
          "polar": {
           "angularaxis": {
            "gridcolor": "white",
            "linecolor": "white",
            "ticks": ""
           },
           "bgcolor": "#E5ECF6",
           "radialaxis": {
            "gridcolor": "white",
            "linecolor": "white",
            "ticks": ""
           }
          },
          "scene": {
           "xaxis": {
            "backgroundcolor": "#E5ECF6",
            "gridcolor": "white",
            "gridwidth": 2,
            "linecolor": "white",
            "showbackground": true,
            "ticks": "",
            "zerolinecolor": "white"
           },
           "yaxis": {
            "backgroundcolor": "#E5ECF6",
            "gridcolor": "white",
            "gridwidth": 2,
            "linecolor": "white",
            "showbackground": true,
            "ticks": "",
            "zerolinecolor": "white"
           },
           "zaxis": {
            "backgroundcolor": "#E5ECF6",
            "gridcolor": "white",
            "gridwidth": 2,
            "linecolor": "white",
            "showbackground": true,
            "ticks": "",
            "zerolinecolor": "white"
           }
          },
          "shapedefaults": {
           "line": {
            "color": "#2a3f5f"
           }
          },
          "ternary": {
           "aaxis": {
            "gridcolor": "white",
            "linecolor": "white",
            "ticks": ""
           },
           "baxis": {
            "gridcolor": "white",
            "linecolor": "white",
            "ticks": ""
           },
           "bgcolor": "#E5ECF6",
           "caxis": {
            "gridcolor": "white",
            "linecolor": "white",
            "ticks": ""
           }
          },
          "title": {
           "x": 0.05
          },
          "xaxis": {
           "automargin": true,
           "gridcolor": "white",
           "linecolor": "white",
           "ticks": "",
           "title": {
            "standoff": 15
           },
           "zerolinecolor": "white",
           "zerolinewidth": 2
          },
          "yaxis": {
           "automargin": true,
           "gridcolor": "white",
           "linecolor": "white",
           "ticks": "",
           "title": {
            "standoff": 15
           },
           "zerolinecolor": "white",
           "zerolinewidth": 2
          }
         }
        },
        "xaxis": {
         "anchor": "y",
         "domain": [
          0,
          1
         ],
         "title": {
          "text": "Year"
         }
        },
        "yaxis": {
         "anchor": "x",
         "domain": [
          0,
          1
         ],
         "title": {
          "text": "value"
         }
        }
       }
      }
     },
     "metadata": {},
     "output_type": "display_data"
    }
   ],
   "source": [
    "fig = px.line(final, x= 'Year', y = ['Male', 'Female'])\n",
    "fig.show()"
   ]
  },
  {
   "cell_type": "code",
   "execution_count": null,
   "metadata": {},
   "outputs": [],
   "source": []
  }
 ],
 "metadata": {
  "kernelspec": {
   "display_name": "base",
   "language": "python",
   "name": "python3"
  },
  "language_info": {
   "codemirror_mode": {
    "name": "ipython",
    "version": 3
   },
   "file_extension": ".py",
   "mimetype": "text/x-python",
   "name": "python",
   "nbconvert_exporter": "python",
   "pygments_lexer": "ipython3",
   "version": "3.11.5"
  }
 },
 "nbformat": 4,
 "nbformat_minor": 2
}
